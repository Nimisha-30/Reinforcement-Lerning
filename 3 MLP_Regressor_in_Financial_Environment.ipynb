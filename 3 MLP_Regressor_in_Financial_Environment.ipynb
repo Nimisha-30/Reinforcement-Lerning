{
  "nbformat": 4,
  "nbformat_minor": 0,
  "metadata": {
    "colab": {
      "provenance": []
    },
    "kernelspec": {
      "name": "python3",
      "display_name": "Python 3"
    },
    "language_info": {
      "name": "python"
    }
  },
  "cells": [
    {
      "cell_type": "markdown",
      "source": [
        "The code implements a financial reinforcement learning agent using Q-learning.\n",
        "\n",
        "It utilizes a neural network to approximate Q-value functions.\n",
        "Exploration-exploitation balance is achieved through epsilon-greedy strategy.\n",
        "\n",
        "Experience replay enhances learning efficiency.\n",
        "\n",
        "Validation is employed for performance evaluation and overfitting prevention."
      ],
      "metadata": {
        "id": "a7Ks8ZESXk-K"
      }
    },
    {
      "cell_type": "markdown",
      "source": [
        "## Import necessary libraries"
      ],
      "metadata": {
        "id": "h3F6FpU0T0pV"
      }
    },
    {
      "cell_type": "code",
      "source": [
        "import os\n",
        "import math\n",
        "import random\n",
        "import numpy as np\n",
        "import pandas as pd\n",
        "from pylab import plt, mpl\n",
        "plt.style.use('seaborn')\n",
        "mpl.rcParams['font.family'] = 'serif'\n",
        "np.set_printoptions(precision=4, suppress=True)\n",
        "os.environ['PYTHONHASHSEED'] = '0'\n",
        "%config InlineBackend.figure_format = 'svg'"
      ],
      "metadata": {
        "colab": {
          "base_uri": "https://localhost:8080/"
        },
        "id": "yYlH_exeTxzm",
        "outputId": "d6edadca-94fa-483f-9f77-f8eeead23f04"
      },
      "execution_count": 2,
      "outputs": [
        {
          "metadata": {
            "tags": null
          },
          "name": "stderr",
          "output_type": "stream",
          "text": [
            "<ipython-input-2-eabaf03f8e47>:7: MatplotlibDeprecationWarning: The seaborn styles shipped by Matplotlib are deprecated since 3.6, as they no longer correspond to the styles shipped by seaborn. However, they will remain available as 'seaborn-v0_8-<style>'. Alternatively, directly use the seaborn API instead.\n",
            "  plt.style.use('seaborn')\n"
          ]
        }
      ]
    },
    {
      "cell_type": "code",
      "source": [
        "import warnings as w\n",
        "w.simplefilter('ignore')"
      ],
      "metadata": {
        "id": "FCPRHG97T3UT"
      },
      "execution_count": 3,
      "outputs": []
    },
    {
      "cell_type": "markdown",
      "source": [
        "# Improved Finance Environment"
      ],
      "metadata": {
        "id": "LnJ9xWPxURt_"
      }
    },
    {
      "cell_type": "markdown",
      "source": [
        "Data Loading and Preparation:\n",
        "    \n",
        "* Fetches financial data from a URL.\n",
        "* Calculates returns, rolling mean, standard deviation, and a target direction signal (d).\n",
        "* Normalizes data for consistent scaling.\n",
        "\n",
        "State Representation (get_state):\n",
        "\n",
        "* Provides a sequence of past feature values for decision-making.\n",
        "\n",
        "Action Choice (step):\n",
        "\n",
        "* Takes an action (0 or 1) representing a prediction of direction.\n",
        "* Calculates rewards based on prediction accuracy and return.\n",
        "* Defines conditions for episode termination (end of data, incorrect prediction, or performance below a threshold).\n",
        "* Returns the next state, reward, termination flag, and additional information."
      ],
      "metadata": {
        "id": "GuR3FI2SWX6l"
      }
    },
    {
      "cell_type": "code",
      "source": [
        "class observation_space:\n",
        "    def __init__(self, n):\n",
        "        self.shape = (n,)"
      ],
      "metadata": {
        "id": "3g8NobRkUOmU"
      },
      "execution_count": 4,
      "outputs": []
    },
    {
      "cell_type": "code",
      "source": [
        "class action_space:\n",
        "    def __init__(self, n):\n",
        "        self.n = n\n",
        "    def seed(self, seed):\n",
        "        pass\n",
        "    def sample(self):\n",
        "        return random.randint(0, self.n - 1)"
      ],
      "metadata": {
        "id": "qaStM9bjT3zm"
      },
      "execution_count": 5,
      "outputs": []
    },
    {
      "cell_type": "code",
      "source": [
        "class Finance:\n",
        "    url = 'http://hilpisch.com/aiif_eikon_eod_data.csv'\n",
        "    def __init__(self, symbol, features, window, lags,\n",
        "                 leverage=1, min_performance=0.85,\n",
        "                 start=0, end=None, mu=None, std=None):\n",
        "        self.symbol = symbol\n",
        "        self.features = features\n",
        "        self.n_features = len(features)\n",
        "        self.window = window\n",
        "        self.lags = lags\n",
        "        self.leverage = leverage\n",
        "        self.min_performance = min_performance\n",
        "        self.start = start\n",
        "        self.end = end\n",
        "        self.mu = mu\n",
        "        self.std = std\n",
        "        self.observation_space = observation_space(self.lags)\n",
        "        self.action_space = action_space(2)\n",
        "        self._get_data()\n",
        "        self._prepare_data()\n",
        "    def _get_data(self):\n",
        "        self.raw = pd.read_csv(self.url, index_col=0,\n",
        "                               parse_dates=True).dropna()\n",
        "    def _prepare_data(self):\n",
        "        self.data = pd.DataFrame(self.raw[self.symbol])\n",
        "        self.data = self.data.iloc[self.start:]\n",
        "        self.data['r'] = np.log(self.data / self.data.shift(1))\n",
        "        self.data.dropna(inplace=True)\n",
        "        self.data['s'] = self.data[self.symbol].rolling(\n",
        "                                              self.window).mean()\n",
        "        self.data['m'] = self.data['r'].rolling(self.window).mean()\n",
        "        self.data['v'] = self.data['r'].rolling(self.window).std()\n",
        "        self.data.dropna(inplace=True)\n",
        "        if self.mu is None:\n",
        "            self.mu = self.data.mean()\n",
        "            self.std = self.data.std()\n",
        "        self.data_ = (self.data - self.mu) / self.std\n",
        "        self.data_['d'] = np.where(self.data['r'] > 0, 1, 0)\n",
        "        self.data_['d'] = self.data_['d'].astype(int)\n",
        "        if self.end is not None:\n",
        "            self.data = self.data.iloc[:self.end - self.start]\n",
        "            self.data_ = self.data_.iloc[:self.end - self.start]\n",
        "    def _get_state(self):\n",
        "        return self.data_[self.features].iloc[self.bar -\n",
        "                                self.lags:self.bar]\n",
        "    def seed(self, seed):\n",
        "        random.seed(seed)\n",
        "        np.random.seed(seed)\n",
        "    def reset(self):\n",
        "        self.treward = 0\n",
        "        self.accuracy = 0\n",
        "        self.performance = 1\n",
        "        self.bar = self.lags\n",
        "        state = self.data_[self.features].iloc[self.bar-\n",
        "                        self.lags:self.bar]\n",
        "        return state.values\n",
        "    def step(self, action):\n",
        "        correct = action == self.data_['d'].iloc[self.bar]\n",
        "        ret = self.data['r'].iloc[self.bar] * self.leverage\n",
        "        reward_1 = 1 if correct else 0\n",
        "        reward_2 = abs(ret) if correct else -abs(ret)\n",
        "        self.treward += reward_1\n",
        "        self.bar += 1\n",
        "        self.accuracy = self.treward / (self.bar - self.lags)\n",
        "        self.performance *= math.exp(reward_2)\n",
        "        if self.bar >= len(self.data):\n",
        "            done = True\n",
        "        elif reward_1 == 1:\n",
        "            done = False\n",
        "        elif (self.performance < self.min_performance and\n",
        "              self.bar > self.lags + 15):\n",
        "            done = True\n",
        "        else:\n",
        "            done = False\n",
        "        state = self._get_state()\n",
        "        info = {}\n",
        "        return state.values, reward_1 + reward_2 * 252, done, info"
      ],
      "metadata": {
        "id": "vSgqS_vAT3wI"
      },
      "execution_count": 6,
      "outputs": []
    },
    {
      "cell_type": "code",
      "source": [
        "env = Finance('EUR=', ['EUR=', 'r', 'm'], 10, 5)"
      ],
      "metadata": {
        "id": "As7iuAxZT3tL"
      },
      "execution_count": 7,
      "outputs": []
    },
    {
      "cell_type": "code",
      "source": [
        "a = env.action_space.sample()\n",
        "a"
      ],
      "metadata": {
        "colab": {
          "base_uri": "https://localhost:8080/"
        },
        "id": "PTW04siLT3dH",
        "outputId": "4c65ecbf-9666-46c8-e2bf-89a47ca18f44"
      },
      "execution_count": 8,
      "outputs": [
        {
          "output_type": "execute_result",
          "data": {
            "text/plain": [
              "1"
            ]
          },
          "metadata": {},
          "execution_count": 8
        }
      ]
    },
    {
      "cell_type": "code",
      "source": [
        "env.reset()"
      ],
      "metadata": {
        "colab": {
          "base_uri": "https://localhost:8080/"
        },
        "id": "64SCl25yT3Zl",
        "outputId": "6e059b0d-b140-476e-e7f5-94c2597c7cb7"
      },
      "execution_count": 10,
      "outputs": [
        {
          "output_type": "execute_result",
          "data": {
            "text/plain": [
              "array([[ 1.7721, -1.0214, -0.3939],\n",
              "       [ 1.5973, -2.4432, -1.0212],\n",
              "       [ 1.5876, -0.1208, -1.2423],\n",
              "       [ 1.6292,  0.6083, -0.6734],\n",
              "       [ 1.6408,  0.1807, -0.9975]])"
            ]
          },
          "metadata": {},
          "execution_count": 10
        }
      ]
    },
    {
      "cell_type": "code",
      "source": [
        "env.step(a)"
      ],
      "metadata": {
        "colab": {
          "base_uri": "https://localhost:8080/"
        },
        "id": "Wrvu5Wf3UncD",
        "outputId": "b56cd227-fb7a-4716-9c97-1d52c6cbaebc"
      },
      "execution_count": 11,
      "outputs": [
        {
          "output_type": "execute_result",
          "data": {
            "text/plain": [
              "(array([[ 1.5973, -2.4432, -1.0212],\n",
              "        [ 1.5876, -0.1208, -1.2423],\n",
              "        [ 1.6292,  0.6083, -0.6734],\n",
              "        [ 1.6408,  0.1807, -0.9975],\n",
              "        [ 1.5725, -0.9502, -1.7143]]),\n",
              " -1.3750521308536245,\n",
              " False,\n",
              " {})"
            ]
          },
          "metadata": {},
          "execution_count": 11
        }
      ]
    },
    {
      "cell_type": "markdown",
      "source": [
        "# Improved Financial QL Agent"
      ],
      "metadata": {
        "id": "Hy7DSXBXUq39"
      }
    },
    {
      "cell_type": "markdown",
      "source": [
        "Model Construction (_build_model\n",
        "):\n",
        "\n",
        "* Creates a multi-layer perceptron (MLP) neural network for Q-value estimation.\n",
        "\n",
        "Action Selection (act):\n",
        "\n",
        "* Explores by taking a random action with probability epsilon.\n",
        "* Otherwise, exploits by choosing the action with the highest predicted Q-value.\n",
        "\n",
        "Learning (replay):\n",
        "\n",
        "* Iterates through a batch of stored experiences.\n",
        "* Updates Q-value estimates for actions using the Bellman equation.\n",
        "* Gradually reduces epsilon for a balance of exploration and exploitation.\n",
        "\n",
        "Training (learn):\n",
        "\n",
        "* Runs multiple episodes:\n",
        "    * Resets the environment for a new episode.\n",
        "    * Interacts with the environment for a maximum of 10000 steps.\n",
        "    * Stores experiences in memory.\n",
        "    * Periodically updates the model (replay).\n",
        "    * Validates performance on a separate dataset.\n",
        "\n",
        "* Validation (validate):\n",
        "    * Evaluates the agent's performance on unseen data without exploration.\n",
        "\n"
      ],
      "metadata": {
        "id": "KHGPCHWZWu8l"
      }
    },
    {
      "cell_type": "code",
      "source": [
        "from collections import deque"
      ],
      "metadata": {
        "id": "r-JpSqNOUtci"
      },
      "execution_count": 12,
      "outputs": []
    },
    {
      "cell_type": "code",
      "source": [
        "from sklearn.neural_network import MLPRegressor"
      ],
      "metadata": {
        "id": "ZbRhEdvZUuBj"
      },
      "execution_count": 13,
      "outputs": []
    },
    {
      "cell_type": "code",
      "source": [
        "class FQLAgent:\n",
        "    def __init__(self, hidden_layers, hidden_units, learning_rate,\n",
        "                 learn_env, valid_env):\n",
        "        self.learn_env = learn_env\n",
        "        self.valid_env = valid_env\n",
        "        self.epsilon = 1.0\n",
        "        self.epsilon_min = 0.1\n",
        "        self.epsilon_decay = 0.99\n",
        "        self.learning_rate = learning_rate\n",
        "        self.gamma = 0.95\n",
        "        self.batch_size = 128\n",
        "        self.max_treward = 0\n",
        "        self.trewards = list()\n",
        "        self.averages = list()\n",
        "        self.performances = list()\n",
        "        self.aperformances = list()\n",
        "        self.vperformances = list()\n",
        "        self.memory = deque(maxlen=2000)\n",
        "        self.model = self._build_model(hidden_layers, hidden_units,\n",
        "                                       learning_rate)\n",
        "\n",
        "    def _build_model(self, hl, hu, lr):\n",
        "        model = MLPRegressor(hidden_layer_sizes=hl * [hu],\n",
        "                            solver='adam', learning_rate='constant',\n",
        "                            learning_rate_init=lr,\n",
        "                            random_state=100, max_iter=500,\n",
        "                            warm_start=True\n",
        "                            )\n",
        "        model.fit(np.random.standard_normal((2, self.learn_env.lags *\n",
        "                                             self.learn_env.n_features)),\n",
        "                  np.random.standard_normal((2, 2)))\n",
        "        return model\n",
        "    def act(self, state):\n",
        "        if random.random() <= self.epsilon:\n",
        "            return self.learn_env.action_space.sample()\n",
        "        action = self.model.predict(state.flatten().reshape(1, -1))[0]\n",
        "        return np.argmax(action)\n",
        "\n",
        "    def replay(self):\n",
        "        batch = random.sample(self.memory, self.batch_size)\n",
        "        for state, action, reward, next_state, done in batch:\n",
        "            if not done:\n",
        "                reward += self.gamma * np.amax(\n",
        "                    self.model.predict(next_state.flatten().reshape(1, -1))[0])\n",
        "            target = self.model.predict(state.flatten().reshape(1, -1))\n",
        "            target[0, action] = reward\n",
        "            self.model.partial_fit(state.flatten().reshape(1, -1), target)\n",
        "        if self.epsilon > self.epsilon_min:\n",
        "            self.epsilon *= self.epsilon_decay\n",
        "    def learn(self, episodes):\n",
        "        for e in range(1, episodes + 1):\n",
        "            state = self.learn_env.reset()\n",
        "            state = np.reshape(state, [1, self.learn_env.lags,\n",
        "                                       self.learn_env.n_features])\n",
        "            for _ in range(10000):\n",
        "                action = self.act(state)\n",
        "                next_state, reward, done, info = \\\n",
        "                                self.learn_env.step(action)\n",
        "                next_state = np.reshape(next_state,\n",
        "                                [1, self.learn_env.lags,\n",
        "                                 self.learn_env.n_features])\n",
        "                self.memory.append([state, action, reward,\n",
        "                                     next_state, done])\n",
        "                state = next_state\n",
        "                if done:\n",
        "                    treward = _ + 1\n",
        "                    self.trewards.append(treward)\n",
        "                    av = sum(self.trewards[-25:]) / 25\n",
        "                    perf = self.learn_env.performance\n",
        "                    self.averages.append(av)\n",
        "                    self.performances.append(perf)\n",
        "                    self.aperformances.append(\n",
        "                        sum(self.performances[-25:]) / 25)\n",
        "                    self.max_treward = max(self.max_treward, treward)\n",
        "                    templ = 'episode: {:2d}/{} | treward: {:4d} | '\n",
        "                    templ += 'perf: {:5.3f} | av: {:5.1f} | max: {:4d}'\n",
        "                    print(templ.format(e, episodes, treward, perf,\n",
        "                                  av, self.max_treward), end='\\r')\n",
        "                    break\n",
        "            self.validate(e, episodes)\n",
        "            if len(self.memory) > self.batch_size:\n",
        "                self.replay()\n",
        "        print()\n",
        "    def validate(self, e, episodes):\n",
        "        state = self.valid_env.reset()\n",
        "        for _ in range(10000):\n",
        "            action = np.argmax(self.model.predict(state.flatten().reshape(1, -1))[0])\n",
        "            next_state, reward, done, info = self.valid_env.step(action)\n",
        "            state = np.reshape(next_state, [self.valid_env.lags,\n",
        "                                   self.valid_env.n_features])\n",
        "            if done:\n",
        "                treward = _ + 1\n",
        "                perf = self.valid_env.performance\n",
        "                self.vperformances.append(perf)\n",
        "                if e % 20 == 0:\n",
        "                    templ = 71 * '='\n",
        "                    templ += '\\nepisode: {:2d}/{} | VALIDATION | '\n",
        "                    templ += 'treward: {:4d} | perf: {:5.3f} | '\n",
        "                    templ += 'eps: {:.2f}\\n'\n",
        "                    templ += 71 * '='\n",
        "                    print(templ.format(e, episodes, treward,\n",
        "                                       perf, self.epsilon))\n",
        "                break"
      ],
      "metadata": {
        "id": "m8eZLOyiUt95"
      },
      "execution_count": 14,
      "outputs": []
    },
    {
      "cell_type": "markdown",
      "source": [
        "Data and Agent Configuration:\n",
        "* Sets symbol, features, window and lag for data processing.\n",
        "* Creates training and validation environments with appropriate data splits.\n",
        "* Initializes the agent with hyperparameters.\n",
        "\n",
        "Training Loop:\n",
        "* Runs the learning process for a specified number of episodes.\n",
        "\n",
        "Visualization:\n",
        "* Plots moving average of total reward and regression line to visualize learning progress.\n",
        "* Plots gross performance on training and validation sets along with regression lines to assess generalization."
      ],
      "metadata": {
        "id": "EMkANb5QXPPS"
      }
    },
    {
      "cell_type": "code",
      "source": [
        "symbol = 'EUR='\n",
        "features = ['r', 's', 'm', 'v']"
      ],
      "metadata": {
        "id": "33QMRPOCUt7j"
      },
      "execution_count": 15,
      "outputs": []
    },
    {
      "cell_type": "code",
      "source": [
        "a = 0\n",
        "b = 2000\n",
        "c = 500"
      ],
      "metadata": {
        "id": "ApJKZnV4Ut3_"
      },
      "execution_count": 16,
      "outputs": []
    },
    {
      "cell_type": "code",
      "source": [
        "learn_env = Finance(symbol, features, window=10, lags=6,\n",
        "                 leverage=1, min_performance=0.85,\n",
        "                 start=a, end=a + b, mu=None, std=None)"
      ],
      "metadata": {
        "id": "-7-8BhgwVZVb"
      },
      "execution_count": 17,
      "outputs": []
    },
    {
      "cell_type": "code",
      "source": [
        "learn_env.data.info()"
      ],
      "metadata": {
        "colab": {
          "base_uri": "https://localhost:8080/"
        },
        "id": "_iNOsicGVbDz",
        "outputId": "042161ae-e4a3-4853-957c-ec484250766b"
      },
      "execution_count": 18,
      "outputs": [
        {
          "output_type": "stream",
          "name": "stdout",
          "text": [
            "<class 'pandas.core.frame.DataFrame'>\n",
            "DatetimeIndex: 2000 entries, 2010-01-19 to 2017-12-26\n",
            "Data columns (total 5 columns):\n",
            " #   Column  Non-Null Count  Dtype  \n",
            "---  ------  --------------  -----  \n",
            " 0   EUR=    2000 non-null   float64\n",
            " 1   r       2000 non-null   float64\n",
            " 2   s       2000 non-null   float64\n",
            " 3   m       2000 non-null   float64\n",
            " 4   v       2000 non-null   float64\n",
            "dtypes: float64(5)\n",
            "memory usage: 93.8 KB\n"
          ]
        }
      ]
    },
    {
      "cell_type": "code",
      "source": [
        "valid_env = Finance(symbol, features, window=learn_env.window,\n",
        "                 lags=learn_env.lags, leverage=learn_env.leverage,\n",
        "                 min_performance=learn_env.min_performance,\n",
        "                 start=a + b, end=a + b + c,\n",
        "                 mu=learn_env.mu, std=learn_env.std)"
      ],
      "metadata": {
        "id": "F8YYgz3wVdLv"
      },
      "execution_count": 19,
      "outputs": []
    },
    {
      "cell_type": "code",
      "source": [
        "valid_env.data.info()"
      ],
      "metadata": {
        "colab": {
          "base_uri": "https://localhost:8080/"
        },
        "id": "XuE8Mv03Ve-G",
        "outputId": "c0dabfbd-b609-4878-c851-e4cac2bec638"
      },
      "execution_count": 20,
      "outputs": [
        {
          "output_type": "stream",
          "name": "stdout",
          "text": [
            "<class 'pandas.core.frame.DataFrame'>\n",
            "DatetimeIndex: 500 entries, 2017-12-27 to 2019-12-20\n",
            "Data columns (total 5 columns):\n",
            " #   Column  Non-Null Count  Dtype  \n",
            "---  ------  --------------  -----  \n",
            " 0   EUR=    500 non-null    float64\n",
            " 1   r       500 non-null    float64\n",
            " 2   s       500 non-null    float64\n",
            " 3   m       500 non-null    float64\n",
            " 4   v       500 non-null    float64\n",
            "dtypes: float64(5)\n",
            "memory usage: 23.4 KB\n"
          ]
        }
      ]
    },
    {
      "cell_type": "code",
      "source": [
        "agent = FQLAgent(2, 24, 0.0001, learn_env, valid_env)"
      ],
      "metadata": {
        "id": "dtR9PkrvVg4A"
      },
      "execution_count": 21,
      "outputs": []
    },
    {
      "cell_type": "code",
      "source": [
        "episodes = 61"
      ],
      "metadata": {
        "id": "_U66BEnEVhhp"
      },
      "execution_count": 22,
      "outputs": []
    },
    {
      "cell_type": "code",
      "source": [
        "%time agent.learn(episodes)"
      ],
      "metadata": {
        "colab": {
          "base_uri": "https://localhost:8080/"
        },
        "id": "eVA4kY12Vhe7",
        "outputId": "05d7e95e-ffde-4a8d-b19b-28ec61fac335"
      },
      "execution_count": 23,
      "outputs": [
        {
          "output_type": "stream",
          "name": "stdout",
          "text": [
            "=======================================================================\n",
            "episode: 20/61 | VALIDATION | treward:  494 | perf: 1.021 | eps: 0.83\n",
            "=======================================================================\n",
            "=======================================================================\n",
            "episode: 40/61 | VALIDATION | treward:  494 | perf: 1.013 | eps: 0.68\n",
            "=======================================================================\n",
            "=======================================================================\n",
            "episode: 60/61 | VALIDATION | treward:  494 | perf: 1.020 | eps: 0.55\n",
            "=======================================================================\n",
            "\n",
            "CPU times: user 2min 12s, sys: 3.32 s, total: 2min 15s\n",
            "Wall time: 2min 23s\n"
          ]
        }
      ]
    },
    {
      "cell_type": "code",
      "source": [
        "agent.epsilon"
      ],
      "metadata": {
        "colab": {
          "base_uri": "https://localhost:8080/"
        },
        "id": "syu-cTB6VhaV",
        "outputId": "1288ca79-2e61-40ff-840f-a90ad88bab87"
      },
      "execution_count": 24,
      "outputs": [
        {
          "output_type": "execute_result",
          "data": {
            "text/plain": [
              "0.5416850759668536"
            ]
          },
          "metadata": {},
          "execution_count": 24
        }
      ]
    },
    {
      "cell_type": "code",
      "source": [
        "plt.figure(figsize=(10, 6))\n",
        "x = range(1, len(agent.averages) + 1)\n",
        "y = np.polyval(np.polyfit(x, agent.averages, deg=3), x)\n",
        "plt.plot(agent.averages, label='moving average')\n",
        "plt.plot(x, y, 'r--', label='regression')\n",
        "plt.xlabel('episodes')\n",
        "plt.ylabel('total reward')\n",
        "plt.legend();"
      ],
      "metadata": {
        "colab": {
          "base_uri": "https://localhost:8080/",
          "height": 525
        },
        "id": "C6EPMO5bVoqK",
        "outputId": "1106886d-e447-46cb-c4cb-d84a3ab9b263"
      },
      "execution_count": 25,
      "outputs": [
        {
          "output_type": "display_data",
          "data": {
            "text/plain": [
              "<Figure size 1000x600 with 1 Axes>"
            ],
            "image/svg+xml": "<?xml version=\"1.0\" encoding=\"utf-8\" standalone=\"no\"?>\n<!DOCTYPE svg PUBLIC \"-//W3C//DTD SVG 1.1//EN\"\n  \"http://www.w3.org/Graphics/SVG/1.1/DTD/svg11.dtd\">\n<svg xmlns:xlink=\"http://www.w3.org/1999/xlink\" width=\"619.495937pt\" height=\"378.364062pt\" viewBox=\"0 0 619.495937 378.364062\" xmlns=\"http://www.w3.org/2000/svg\" version=\"1.1\">\n <metadata>\n  <rdf:RDF xmlns:dc=\"http://purl.org/dc/elements/1.1/\" xmlns:cc=\"http://creativecommons.org/ns#\" xmlns:rdf=\"http://www.w3.org/1999/02/22-rdf-syntax-ns#\">\n   <cc:Work>\n    <dc:type rdf:resource=\"http://purl.org/dc/dcmitype/StillImage\"/>\n    <dc:date>2024-03-18T16:17:19.441046</dc:date>\n    <dc:format>image/svg+xml</dc:format>\n    <dc:creator>\n     <cc:Agent>\n      <dc:title>Matplotlib v3.7.1, https://matplotlib.org/</dc:title>\n     </cc:Agent>\n    </dc:creator>\n   </cc:Work>\n  </rdf:RDF>\n </metadata>\n <defs>\n  <style type=\"text/css\">*{stroke-linejoin: round; stroke-linecap: butt}</style>\n </defs>\n <g id=\"figure_1\">\n  <g id=\"patch_1\">\n   <path d=\"M 0 378.364062 \nL 619.495937 378.364062 \nL 619.495937 0 \nL 0 0 \nz\n\" style=\"fill: #ffffff\"/>\n  </g>\n  <g id=\"axes_1\">\n   <g id=\"patch_2\">\n    <path d=\"M 54.295938 339.84 \nL 612.295938 339.84 \nL 612.295938 7.2 \nL 54.295938 7.2 \nz\n\" style=\"fill: #eaeaf2\"/>\n   </g>\n   <g id=\"matplotlib.axis_1\">\n    <g id=\"xtick_1\">\n     <g id=\"line2d_1\">\n      <path d=\"M 79.659574 339.84 \nL 79.659574 7.2 \n\" clip-path=\"url(#pd085c99739)\" style=\"fill: none; stroke: #ffffff; stroke-linecap: round\"/>\n     </g>\n     <g id=\"line2d_2\"/>\n     <g id=\"text_1\">\n      <!-- 0 -->\n      <g style=\"fill: #262626\" transform=\"translate(76.478324 354.438437) scale(0.1 -0.1)\">\n       <defs>\n        <path id=\"DejaVuSerif-30\" d=\"M 2034 219 \nQ 2513 219 2750 744 \nQ 2988 1269 2988 2328 \nQ 2988 3391 2750 3916 \nQ 2513 4441 2034 4441 \nQ 1556 4441 1318 3916 \nQ 1081 3391 1081 2328 \nQ 1081 1269 1318 744 \nQ 1556 219 2034 219 \nz\nM 2034 -91 \nQ 1275 -91 848 546 \nQ 422 1184 422 2328 \nQ 422 3475 848 4112 \nQ 1275 4750 2034 4750 \nQ 2797 4750 3222 4112 \nQ 3647 3475 3647 2328 \nQ 3647 1184 3222 546 \nQ 2797 -91 2034 -91 \nz\n\" transform=\"scale(0.015625)\"/>\n       </defs>\n       <use xlink:href=\"#DejaVuSerif-30\"/>\n      </g>\n     </g>\n    </g>\n    <g id=\"xtick_2\">\n     <g id=\"line2d_3\">\n      <path d=\"M 162.819037 339.84 \nL 162.819037 7.2 \n\" clip-path=\"url(#pd085c99739)\" style=\"fill: none; stroke: #ffffff; stroke-linecap: round\"/>\n     </g>\n     <g id=\"line2d_4\"/>\n     <g id=\"text_2\">\n      <!-- 10 -->\n      <g style=\"fill: #262626\" transform=\"translate(156.456537 354.438437) scale(0.1 -0.1)\">\n       <defs>\n        <path id=\"DejaVuSerif-31\" d=\"M 909 0 \nL 909 331 \nL 1722 331 \nL 1722 4213 \nL 781 3603 \nL 781 4013 \nL 1919 4750 \nL 2350 4750 \nL 2350 331 \nL 3163 331 \nL 3163 0 \nL 909 0 \nz\n\" transform=\"scale(0.015625)\"/>\n       </defs>\n       <use xlink:href=\"#DejaVuSerif-31\"/>\n       <use xlink:href=\"#DejaVuSerif-30\" x=\"63.623047\"/>\n      </g>\n     </g>\n    </g>\n    <g id=\"xtick_3\">\n     <g id=\"line2d_5\">\n      <path d=\"M 245.978501 339.84 \nL 245.978501 7.2 \n\" clip-path=\"url(#pd085c99739)\" style=\"fill: none; stroke: #ffffff; stroke-linecap: round\"/>\n     </g>\n     <g id=\"line2d_6\"/>\n     <g id=\"text_3\">\n      <!-- 20 -->\n      <g style=\"fill: #262626\" transform=\"translate(239.616001 354.438437) scale(0.1 -0.1)\">\n       <defs>\n        <path id=\"DejaVuSerif-32\" d=\"M 819 3553 \nL 469 3553 \nL 469 4384 \nQ 803 4563 1142 4656 \nQ 1481 4750 1806 4750 \nQ 2534 4750 2956 4397 \nQ 3378 4044 3378 3438 \nQ 3378 2753 2422 1800 \nQ 2347 1728 2309 1691 \nL 1131 513 \nL 3078 513 \nL 3078 1088 \nL 3444 1088 \nL 3444 0 \nL 434 0 \nL 434 341 \nL 1850 1753 \nQ 2319 2222 2519 2614 \nQ 2719 3006 2719 3438 \nQ 2719 3909 2473 4175 \nQ 2228 4441 1797 4441 \nQ 1350 4441 1106 4219 \nQ 863 3997 819 3553 \nz\n\" transform=\"scale(0.015625)\"/>\n       </defs>\n       <use xlink:href=\"#DejaVuSerif-32\"/>\n       <use xlink:href=\"#DejaVuSerif-30\" x=\"63.623047\"/>\n      </g>\n     </g>\n    </g>\n    <g id=\"xtick_4\">\n     <g id=\"line2d_7\">\n      <path d=\"M 329.137964 339.84 \nL 329.137964 7.2 \n\" clip-path=\"url(#pd085c99739)\" style=\"fill: none; stroke: #ffffff; stroke-linecap: round\"/>\n     </g>\n     <g id=\"line2d_8\"/>\n     <g id=\"text_4\">\n      <!-- 30 -->\n      <g style=\"fill: #262626\" transform=\"translate(322.775464 354.438437) scale(0.1 -0.1)\">\n       <defs>\n        <path id=\"DejaVuSerif-33\" d=\"M 622 4469 \nQ 988 4606 1323 4678 \nQ 1659 4750 1953 4750 \nQ 2638 4750 3022 4454 \nQ 3406 4159 3406 3634 \nQ 3406 3213 3140 2930 \nQ 2875 2647 2388 2547 \nQ 2963 2466 3280 2130 \nQ 3597 1794 3597 1259 \nQ 3597 606 3158 257 \nQ 2719 -91 1894 -91 \nQ 1528 -91 1179 -12 \nQ 831 66 488 225 \nL 488 1131 \nL 838 1131 \nQ 869 681 1141 450 \nQ 1413 219 1906 219 \nQ 2384 219 2661 495 \nQ 2938 772 2938 1253 \nQ 2938 1803 2653 2086 \nQ 2369 2369 1819 2369 \nL 1522 2369 \nL 1522 2688 \nL 1678 2688 \nQ 2225 2688 2498 2914 \nQ 2772 3141 2772 3597 \nQ 2772 4006 2547 4223 \nQ 2322 4441 1900 4441 \nQ 1478 4441 1245 4241 \nQ 1013 4041 972 3647 \nL 622 3647 \nL 622 4469 \nz\n\" transform=\"scale(0.015625)\"/>\n       </defs>\n       <use xlink:href=\"#DejaVuSerif-33\"/>\n       <use xlink:href=\"#DejaVuSerif-30\" x=\"63.623047\"/>\n      </g>\n     </g>\n    </g>\n    <g id=\"xtick_5\">\n     <g id=\"line2d_9\">\n      <path d=\"M 412.297428 339.84 \nL 412.297428 7.2 \n\" clip-path=\"url(#pd085c99739)\" style=\"fill: none; stroke: #ffffff; stroke-linecap: round\"/>\n     </g>\n     <g id=\"line2d_10\"/>\n     <g id=\"text_5\">\n      <!-- 40 -->\n      <g style=\"fill: #262626\" transform=\"translate(405.934928 354.438437) scale(0.1 -0.1)\">\n       <defs>\n        <path id=\"DejaVuSerif-34\" d=\"M 2234 1581 \nL 2234 4063 \nL 641 1581 \nL 2234 1581 \nz\nM 3609 0 \nL 1484 0 \nL 1484 331 \nL 2234 331 \nL 2234 1247 \nL 197 1247 \nL 197 1588 \nL 2241 4750 \nL 2859 4750 \nL 2859 1581 \nL 3750 1581 \nL 3750 1247 \nL 2859 1247 \nL 2859 331 \nL 3609 331 \nL 3609 0 \nz\n\" transform=\"scale(0.015625)\"/>\n       </defs>\n       <use xlink:href=\"#DejaVuSerif-34\"/>\n       <use xlink:href=\"#DejaVuSerif-30\" x=\"63.623047\"/>\n      </g>\n     </g>\n    </g>\n    <g id=\"xtick_6\">\n     <g id=\"line2d_11\">\n      <path d=\"M 495.456891 339.84 \nL 495.456891 7.2 \n\" clip-path=\"url(#pd085c99739)\" style=\"fill: none; stroke: #ffffff; stroke-linecap: round\"/>\n     </g>\n     <g id=\"line2d_12\"/>\n     <g id=\"text_6\">\n      <!-- 50 -->\n      <g style=\"fill: #262626\" transform=\"translate(489.094391 354.438437) scale(0.1 -0.1)\">\n       <defs>\n        <path id=\"DejaVuSerif-35\" d=\"M 3219 4666 \nL 3219 4153 \nL 1081 4153 \nL 1081 2816 \nQ 1244 2928 1461 2984 \nQ 1678 3041 1947 3041 \nQ 2703 3041 3140 2622 \nQ 3578 2203 3578 1478 \nQ 3578 738 3136 323 \nQ 2694 -91 1894 -91 \nQ 1572 -91 1234 -12 \nQ 897 66 544 225 \nL 544 1131 \nL 897 1131 \nQ 925 688 1179 453 \nQ 1434 219 1894 219 \nQ 2388 219 2653 544 \nQ 2919 869 2919 1478 \nQ 2919 2084 2655 2407 \nQ 2391 2731 1894 2731 \nQ 1613 2731 1398 2631 \nQ 1184 2531 1019 2322 \nL 750 2322 \nL 750 4666 \nL 3219 4666 \nz\n\" transform=\"scale(0.015625)\"/>\n       </defs>\n       <use xlink:href=\"#DejaVuSerif-35\"/>\n       <use xlink:href=\"#DejaVuSerif-30\" x=\"63.623047\"/>\n      </g>\n     </g>\n    </g>\n    <g id=\"xtick_7\">\n     <g id=\"line2d_13\">\n      <path d=\"M 578.616355 339.84 \nL 578.616355 7.2 \n\" clip-path=\"url(#pd085c99739)\" style=\"fill: none; stroke: #ffffff; stroke-linecap: round\"/>\n     </g>\n     <g id=\"line2d_14\"/>\n     <g id=\"text_7\">\n      <!-- 60 -->\n      <g style=\"fill: #262626\" transform=\"translate(572.253855 354.438437) scale(0.1 -0.1)\">\n       <defs>\n        <path id=\"DejaVuSerif-36\" d=\"M 2094 219 \nQ 2534 219 2771 542 \nQ 3009 866 3009 1472 \nQ 3009 2078 2771 2401 \nQ 2534 2725 2094 2725 \nQ 1647 2725 1412 2412 \nQ 1178 2100 1178 1509 \nQ 1178 888 1415 553 \nQ 1653 219 2094 219 \nz\nM 1075 2569 \nQ 1288 2803 1556 2918 \nQ 1825 3034 2163 3034 \nQ 2859 3034 3264 2615 \nQ 3669 2197 3669 1472 \nQ 3669 763 3233 336 \nQ 2797 -91 2069 -91 \nQ 1278 -91 853 498 \nQ 428 1088 428 2181 \nQ 428 3406 931 4078 \nQ 1434 4750 2350 4750 \nQ 2597 4750 2869 4703 \nQ 3141 4656 3425 4563 \nL 3425 3794 \nL 3072 3794 \nQ 3034 4109 2831 4275 \nQ 2628 4441 2284 4441 \nQ 1678 4441 1381 3981 \nQ 1084 3522 1075 2569 \nz\n\" transform=\"scale(0.015625)\"/>\n       </defs>\n       <use xlink:href=\"#DejaVuSerif-36\"/>\n       <use xlink:href=\"#DejaVuSerif-30\" x=\"63.623047\"/>\n      </g>\n     </g>\n    </g>\n    <g id=\"text_8\">\n     <!-- episodes -->\n     <g style=\"fill: #262626\" transform=\"translate(309.028906 368.876406) scale(0.11 -0.11)\">\n      <defs>\n       <path id=\"DejaVuSerif-65\" d=\"M 3469 1600 \nL 991 1600 \nL 991 1575 \nQ 991 903 1244 561 \nQ 1497 219 1991 219 \nQ 2369 219 2611 417 \nQ 2853 616 2950 1006 \nL 3413 1006 \nQ 3275 459 2904 184 \nQ 2534 -91 1931 -91 \nQ 1203 -91 761 389 \nQ 319 869 319 1663 \nQ 319 2450 753 2931 \nQ 1188 3413 1894 3413 \nQ 2647 3413 3050 2948 \nQ 3453 2484 3469 1600 \nz\nM 2791 1931 \nQ 2772 2513 2545 2808 \nQ 2319 3103 1894 3103 \nQ 1497 3103 1269 2806 \nQ 1041 2509 991 1931 \nL 2791 1931 \nz\n\" transform=\"scale(0.015625)\"/>\n       <path id=\"DejaVuSerif-70\" d=\"M 1313 1825 \nL 1313 1497 \nQ 1313 897 1542 583 \nQ 1772 269 2209 269 \nQ 2650 269 2876 622 \nQ 3103 975 3103 1663 \nQ 3103 2353 2876 2703 \nQ 2650 3053 2209 3053 \nQ 1772 3053 1542 2737 \nQ 1313 2422 1313 1825 \nz\nM 738 2988 \nL 184 2988 \nL 184 3322 \nL 1313 3322 \nL 1313 2803 \nQ 1481 3116 1742 3264 \nQ 2003 3413 2388 3413 \nQ 3000 3413 3387 2928 \nQ 3775 2444 3775 1663 \nQ 3775 881 3387 395 \nQ 3000 -91 2388 -91 \nQ 2003 -91 1742 57 \nQ 1481 206 1313 519 \nL 1313 -997 \nL 1856 -997 \nL 1856 -1331 \nL 184 -1331 \nL 184 -997 \nL 738 -997 \nL 738 2988 \nz\n\" transform=\"scale(0.015625)\"/>\n       <path id=\"DejaVuSerif-69\" d=\"M 622 4353 \nQ 622 4497 726 4603 \nQ 831 4709 978 4709 \nQ 1122 4709 1226 4603 \nQ 1331 4497 1331 4353 \nQ 1331 4206 1228 4103 \nQ 1125 4000 978 4000 \nQ 831 4000 726 4103 \nQ 622 4206 622 4353 \nz\nM 1356 331 \nL 1900 331 \nL 1900 0 \nL 231 0 \nL 231 331 \nL 781 331 \nL 781 2988 \nL 231 2988 \nL 231 3322 \nL 1356 3322 \nL 1356 331 \nz\n\" transform=\"scale(0.015625)\"/>\n       <path id=\"DejaVuSerif-73\" d=\"M 359 184 \nL 359 959 \nL 691 959 \nQ 703 588 923 403 \nQ 1144 219 1575 219 \nQ 1963 219 2166 364 \nQ 2369 509 2369 788 \nQ 2369 1006 2220 1140 \nQ 2072 1275 1594 1428 \nL 1178 1569 \nQ 750 1706 558 1912 \nQ 366 2119 366 2438 \nQ 366 2894 700 3153 \nQ 1034 3413 1625 3413 \nQ 1888 3413 2178 3344 \nQ 2469 3275 2778 3144 \nL 2778 2419 \nL 2447 2419 \nQ 2434 2741 2221 2922 \nQ 2009 3103 1644 3103 \nQ 1281 3103 1095 2975 \nQ 909 2847 909 2591 \nQ 909 2381 1050 2254 \nQ 1191 2128 1613 1997 \nL 2069 1856 \nQ 2541 1709 2748 1489 \nQ 2956 1269 2956 922 \nQ 2956 450 2595 179 \nQ 2234 -91 1600 -91 \nQ 1278 -91 972 -22 \nQ 666 47 359 184 \nz\n\" transform=\"scale(0.015625)\"/>\n       <path id=\"DejaVuSerif-6f\" d=\"M 1925 219 \nQ 2388 219 2623 584 \nQ 2859 950 2859 1663 \nQ 2859 2375 2623 2739 \nQ 2388 3103 1925 3103 \nQ 1463 3103 1227 2739 \nQ 991 2375 991 1663 \nQ 991 950 1228 584 \nQ 1466 219 1925 219 \nz\nM 1925 -91 \nQ 1200 -91 759 389 \nQ 319 869 319 1663 \nQ 319 2456 758 2934 \nQ 1197 3413 1925 3413 \nQ 2653 3413 3092 2934 \nQ 3531 2456 3531 1663 \nQ 3531 869 3092 389 \nQ 2653 -91 1925 -91 \nz\n\" transform=\"scale(0.015625)\"/>\n       <path id=\"DejaVuSerif-64\" d=\"M 3359 331 \nL 3909 331 \nL 3909 0 \nL 2784 0 \nL 2784 519 \nQ 2616 206 2355 57 \nQ 2094 -91 1709 -91 \nQ 1097 -91 708 395 \nQ 319 881 319 1663 \nQ 319 2444 706 2928 \nQ 1094 3413 1709 3413 \nQ 2094 3413 2355 3264 \nQ 2616 3116 2784 2803 \nL 2784 4531 \nL 2241 4531 \nL 2241 4863 \nL 3359 4863 \nL 3359 331 \nz\nM 2784 1497 \nL 2784 1825 \nQ 2784 2422 2554 2737 \nQ 2325 3053 1888 3053 \nQ 1444 3053 1217 2703 \nQ 991 2353 991 1663 \nQ 991 975 1217 622 \nQ 1444 269 1888 269 \nQ 2325 269 2554 583 \nQ 2784 897 2784 1497 \nz\n\" transform=\"scale(0.015625)\"/>\n      </defs>\n      <use xlink:href=\"#DejaVuSerif-65\"/>\n      <use xlink:href=\"#DejaVuSerif-70\" x=\"59.179688\"/>\n      <use xlink:href=\"#DejaVuSerif-69\" x=\"123.193359\"/>\n      <use xlink:href=\"#DejaVuSerif-73\" x=\"155.175781\"/>\n      <use xlink:href=\"#DejaVuSerif-6f\" x=\"206.494141\"/>\n      <use xlink:href=\"#DejaVuSerif-64\" x=\"266.699219\"/>\n      <use xlink:href=\"#DejaVuSerif-65\" x=\"330.712891\"/>\n      <use xlink:href=\"#DejaVuSerif-73\" x=\"389.892578\"/>\n     </g>\n    </g>\n   </g>\n   <g id=\"matplotlib.axis_2\">\n    <g id=\"ytick_1\">\n     <g id=\"line2d_15\">\n      <path d=\"M 54.295938 310.702673 \nL 612.295938 310.702673 \n\" clip-path=\"url(#pd085c99739)\" style=\"fill: none; stroke: #ffffff; stroke-linecap: round\"/>\n     </g>\n     <g id=\"line2d_16\"/>\n     <g id=\"text_9\">\n      <!-- 0 -->\n      <g style=\"fill: #262626\" transform=\"translate(40.933438 314.501891) scale(0.1 -0.1)\">\n       <use xlink:href=\"#DejaVuSerif-30\"/>\n      </g>\n     </g>\n    </g>\n    <g id=\"ytick_2\">\n     <g id=\"line2d_17\">\n      <path d=\"M 54.295938 237.318457 \nL 612.295938 237.318457 \n\" clip-path=\"url(#pd085c99739)\" style=\"fill: none; stroke: #ffffff; stroke-linecap: round\"/>\n     </g>\n     <g id=\"line2d_18\"/>\n     <g id=\"text_10\">\n      <!-- 500 -->\n      <g style=\"fill: #262626\" transform=\"translate(28.208438 241.117676) scale(0.1 -0.1)\">\n       <use xlink:href=\"#DejaVuSerif-35\"/>\n       <use xlink:href=\"#DejaVuSerif-30\" x=\"63.623047\"/>\n       <use xlink:href=\"#DejaVuSerif-30\" x=\"127.246094\"/>\n      </g>\n     </g>\n    </g>\n    <g id=\"ytick_3\">\n     <g id=\"line2d_19\">\n      <path d=\"M 54.295938 163.934241 \nL 612.295938 163.934241 \n\" clip-path=\"url(#pd085c99739)\" style=\"fill: none; stroke: #ffffff; stroke-linecap: round\"/>\n     </g>\n     <g id=\"line2d_20\"/>\n     <g id=\"text_11\">\n      <!-- 1000 -->\n      <g style=\"fill: #262626\" transform=\"translate(21.845938 167.73346) scale(0.1 -0.1)\">\n       <use xlink:href=\"#DejaVuSerif-31\"/>\n       <use xlink:href=\"#DejaVuSerif-30\" x=\"63.623047\"/>\n       <use xlink:href=\"#DejaVuSerif-30\" x=\"127.246094\"/>\n       <use xlink:href=\"#DejaVuSerif-30\" x=\"190.869141\"/>\n      </g>\n     </g>\n    </g>\n    <g id=\"ytick_4\">\n     <g id=\"line2d_21\">\n      <path d=\"M 54.295938 90.550026 \nL 612.295938 90.550026 \n\" clip-path=\"url(#pd085c99739)\" style=\"fill: none; stroke: #ffffff; stroke-linecap: round\"/>\n     </g>\n     <g id=\"line2d_22\"/>\n     <g id=\"text_12\">\n      <!-- 1500 -->\n      <g style=\"fill: #262626\" transform=\"translate(21.845938 94.349245) scale(0.1 -0.1)\">\n       <use xlink:href=\"#DejaVuSerif-31\"/>\n       <use xlink:href=\"#DejaVuSerif-35\" x=\"63.623047\"/>\n       <use xlink:href=\"#DejaVuSerif-30\" x=\"127.246094\"/>\n       <use xlink:href=\"#DejaVuSerif-30\" x=\"190.869141\"/>\n      </g>\n     </g>\n    </g>\n    <g id=\"ytick_5\">\n     <g id=\"line2d_23\">\n      <path d=\"M 54.295938 17.16581 \nL 612.295938 17.16581 \n\" clip-path=\"url(#pd085c99739)\" style=\"fill: none; stroke: #ffffff; stroke-linecap: round\"/>\n     </g>\n     <g id=\"line2d_24\"/>\n     <g id=\"text_13\">\n      <!-- 2000 -->\n      <g style=\"fill: #262626\" transform=\"translate(21.845938 20.965029) scale(0.1 -0.1)\">\n       <use xlink:href=\"#DejaVuSerif-32\"/>\n       <use xlink:href=\"#DejaVuSerif-30\" x=\"63.623047\"/>\n       <use xlink:href=\"#DejaVuSerif-30\" x=\"127.246094\"/>\n       <use xlink:href=\"#DejaVuSerif-30\" x=\"190.869141\"/>\n      </g>\n     </g>\n    </g>\n    <g id=\"text_14\">\n     <!-- total reward -->\n     <g style=\"fill: #262626\" transform=\"translate(15.558281 208.059141) rotate(-90) scale(0.11 -0.11)\">\n      <defs>\n       <path id=\"DejaVuSerif-74\" d=\"M 691 2988 \nL 184 2988 \nL 184 3322 \nL 691 3322 \nL 691 4353 \nL 1269 4353 \nL 1269 3322 \nL 2350 3322 \nL 2350 2988 \nL 1269 2988 \nL 1269 878 \nQ 1269 456 1350 337 \nQ 1431 219 1650 219 \nQ 1875 219 1978 351 \nQ 2081 484 2088 781 \nL 2522 781 \nQ 2497 328 2275 118 \nQ 2053 -91 1600 -91 \nQ 1103 -91 897 129 \nQ 691 350 691 878 \nL 691 2988 \nz\n\" transform=\"scale(0.015625)\"/>\n       <path id=\"DejaVuSerif-61\" d=\"M 2547 1044 \nL 2547 1747 \nL 1806 1747 \nQ 1378 1747 1168 1562 \nQ 959 1378 959 997 \nQ 959 650 1171 447 \nQ 1384 244 1747 244 \nQ 2106 244 2326 466 \nQ 2547 688 2547 1044 \nz\nM 3122 2075 \nL 3122 331 \nL 3634 331 \nL 3634 0 \nL 2547 0 \nL 2547 359 \nQ 2356 128 2106 18 \nQ 1856 -91 1522 -91 \nQ 969 -91 644 203 \nQ 319 497 319 997 \nQ 319 1513 691 1797 \nQ 1063 2081 1741 2081 \nL 2547 2081 \nL 2547 2309 \nQ 2547 2688 2317 2895 \nQ 2088 3103 1672 3103 \nQ 1328 3103 1125 2947 \nQ 922 2791 872 2484 \nL 575 2484 \nL 575 3156 \nQ 875 3284 1158 3348 \nQ 1441 3413 1709 3413 \nQ 2400 3413 2761 3070 \nQ 3122 2728 3122 2075 \nz\n\" transform=\"scale(0.015625)\"/>\n       <path id=\"DejaVuSerif-6c\" d=\"M 1313 331 \nL 1856 331 \nL 1856 0 \nL 184 0 \nL 184 331 \nL 738 331 \nL 738 4531 \nL 184 4531 \nL 184 4863 \nL 1313 4863 \nL 1313 331 \nz\n\" transform=\"scale(0.015625)\"/>\n       <path id=\"DejaVuSerif-20\" transform=\"scale(0.015625)\"/>\n       <path id=\"DejaVuSerif-72\" d=\"M 3059 3328 \nL 3059 2497 \nL 2728 2497 \nQ 2713 2744 2591 2866 \nQ 2469 2988 2234 2988 \nQ 1809 2988 1582 2694 \nQ 1356 2400 1356 1850 \nL 1356 331 \nL 2022 331 \nL 2022 0 \nL 263 0 \nL 263 331 \nL 781 331 \nL 781 2994 \nL 231 2994 \nL 231 3322 \nL 1356 3322 \nL 1356 2731 \nQ 1525 3078 1790 3245 \nQ 2056 3413 2438 3413 \nQ 2578 3413 2733 3391 \nQ 2888 3369 3059 3328 \nz\n\" transform=\"scale(0.015625)\"/>\n       <path id=\"DejaVuSerif-77\" d=\"M 3072 3322 \nL 3922 728 \nL 4672 2988 \nL 4191 2988 \nL 4191 3322 \nL 5394 3322 \nL 5394 2988 \nL 5025 2988 \nL 4038 0 \nL 3559 0 \nL 2741 2484 \nL 1919 0 \nL 1459 0 \nL 475 2988 \nL 103 2988 \nL 103 3322 \nL 1606 3322 \nL 1606 2988 \nL 1069 2988 \nL 1813 728 \nL 2669 3322 \nL 3072 3322 \nz\n\" transform=\"scale(0.015625)\"/>\n      </defs>\n      <use xlink:href=\"#DejaVuSerif-74\"/>\n      <use xlink:href=\"#DejaVuSerif-6f\" x=\"40.185547\"/>\n      <use xlink:href=\"#DejaVuSerif-74\" x=\"100.390625\"/>\n      <use xlink:href=\"#DejaVuSerif-61\" x=\"140.576172\"/>\n      <use xlink:href=\"#DejaVuSerif-6c\" x=\"200.195312\"/>\n      <use xlink:href=\"#DejaVuSerif-20\" x=\"232.177734\"/>\n      <use xlink:href=\"#DejaVuSerif-72\" x=\"263.964844\"/>\n      <use xlink:href=\"#DejaVuSerif-65\" x=\"311.767578\"/>\n      <use xlink:href=\"#DejaVuSerif-77\" x=\"370.947266\"/>\n      <use xlink:href=\"#DejaVuSerif-61\" x=\"456.542969\"/>\n      <use xlink:href=\"#DejaVuSerif-72\" x=\"516.162109\"/>\n      <use xlink:href=\"#DejaVuSerif-64\" x=\"563.964844\"/>\n     </g>\n    </g>\n   </g>\n   <g id=\"line2d_25\">\n    <path d=\"M 79.659574 298.996423 \nL 87.97552 297.904465 \nL 96.291467 286.198215 \nL 104.607413 285.129741 \nL 112.923359 279.617119 \nL 121.239306 275.184712 \nL 129.555252 273.17692 \nL 137.871198 261.47067 \nL 146.187145 249.76442 \nL 154.503091 238.05817 \nL 162.819037 237.594382 \nL 171.134984 236.091473 \nL 179.45093 224.385223 \nL 187.766876 212.678973 \nL 196.082823 200.972723 \nL 204.398769 189.266473 \nL 212.714715 177.560223 \nL 221.030662 174.941874 \nL 229.346608 163.235624 \nL 237.662554 159.366808 \nL 245.978501 147.660558 \nL 254.294447 135.954308 \nL 262.610394 133.453374 \nL 270.92634 121.747124 \nL 279.242286 110.040873 \nL 287.558233 119.140516 \nL 295.874179 117.156207 \nL 304.190125 126.144306 \nL 312.506072 115.50653 \nL 320.822018 117.878308 \nL 329.137964 121.312689 \nL 337.453911 111.614231 \nL 345.769857 111.614231 \nL 354.085803 111.614231 \nL 362.40175 111.614231 \nL 370.717696 109.870622 \nL 379.033642 99.667281 \nL 387.349589 99.667281 \nL 395.665535 99.667281 \nL 403.981481 99.667281 \nL 412.297428 100.336545 \nL 420.613374 100.336545 \nL 428.929321 91.248644 \nL 437.245267 91.248644 \nL 445.561213 83.411209 \nL 453.87716 83.411209 \nL 462.193106 83.411209 \nL 470.509052 74.205893 \nL 478.824999 78.362375 \nL 487.140945 78.362375 \nL 495.456891 69.262732 \nL 503.772838 60.632749 \nL 512.088784 51.64465 \nL 520.40473 51.64465 \nL 528.720677 43.079244 \nL 537.036623 32.37102 \nL 545.352569 32.37102 \nL 553.668516 32.37102 \nL 561.984462 32.37102 \nL 570.300408 32.37102 \nL 578.616355 22.872167 \n\" clip-path=\"url(#pd085c99739)\" style=\"fill: none; stroke: #4c72b0; stroke-width: 1.75; stroke-linecap: round\"/>\n   </g>\n   <g id=\"line2d_26\">\n    <path d=\"M 87.97552 324.72 \nL 96.291467 312.261699 \nL 104.607413 300.31142 \nL 112.923359 288.855895 \nL 121.239306 277.881852 \nL 129.555252 267.376023 \nL 137.871198 257.325136 \nL 146.187145 247.715921 \nL 154.503091 238.53511 \nL 162.819037 229.76943 \nL 171.134984 221.405613 \nL 179.45093 213.430388 \nL 187.766876 205.830485 \nL 196.082823 198.592634 \nL 204.398769 191.703566 \nL 212.714715 185.150009 \nL 221.030662 178.918693 \nL 229.346608 172.996349 \nL 237.662554 167.369707 \nL 245.978501 162.025496 \nL 254.294447 156.950447 \nL 262.610394 152.131288 \nL 270.92634 147.554751 \nL 279.242286 143.207565 \nL 287.558233 139.07646 \nL 295.874179 135.148165 \nL 304.190125 131.409412 \nL 312.506072 127.846929 \nL 320.822018 124.447446 \nL 329.137964 121.197694 \nL 337.453911 118.084402 \nL 345.769857 115.0943 \nL 354.085803 112.214119 \nL 362.40175 109.430587 \nL 370.717696 106.730436 \nL 379.033642 104.100394 \nL 387.349589 101.527192 \nL 395.665535 98.997559 \nL 403.981481 96.498227 \nL 412.297428 94.015923 \nL 420.613374 91.537379 \nL 428.929321 89.049324 \nL 437.245267 86.538488 \nL 445.561213 83.991601 \nL 453.87716 81.395393 \nL 462.193106 78.736594 \nL 470.509052 76.001934 \nL 478.824999 73.178142 \nL 487.140945 70.251949 \nL 495.456891 67.210084 \nL 503.772838 64.039278 \nL 512.088784 60.72626 \nL 520.40473 57.25776 \nL 528.720677 53.620508 \nL 537.036623 49.801234 \nL 545.352569 45.786667 \nL 553.668516 41.563539 \nL 561.984462 37.118578 \nL 570.300408 32.438515 \nL 578.616355 27.510079 \nL 586.932301 22.32 \n\" clip-path=\"url(#pd085c99739)\" style=\"fill: none; stroke-dasharray: 6.475,2.8; stroke-dashoffset: 0; stroke: #ff0000; stroke-width: 1.75\"/>\n   </g>\n   <g id=\"patch_3\">\n    <path d=\"M 54.295938 339.84 \nL 54.295938 7.2 \n\" style=\"fill: none\"/>\n   </g>\n   <g id=\"patch_4\">\n    <path d=\"M 612.295938 339.84 \nL 612.295938 7.2 \n\" style=\"fill: none\"/>\n   </g>\n   <g id=\"patch_5\">\n    <path d=\"M 54.295938 339.84 \nL 612.295938 339.84 \n\" style=\"fill: none\"/>\n   </g>\n   <g id=\"patch_6\">\n    <path d=\"M 54.295938 7.2 \nL 612.295938 7.2 \n\" style=\"fill: none\"/>\n   </g>\n   <g id=\"legend_1\">\n    <g id=\"line2d_27\">\n     <path d=\"M 63.295938 20.298437 \nL 73.295938 20.298437 \nL 83.295938 20.298437 \n\" style=\"fill: none; stroke: #4c72b0; stroke-width: 1.75; stroke-linecap: round\"/>\n    </g>\n    <g id=\"text_15\">\n     <!-- moving average -->\n     <g style=\"fill: #262626\" transform=\"translate(91.295938 23.798437) scale(0.1 -0.1)\">\n      <defs>\n       <path id=\"DejaVuSerif-6d\" d=\"M 3316 2675 \nQ 3481 3041 3739 3227 \nQ 3997 3413 4341 3413 \nQ 4863 3413 5119 3089 \nQ 5375 2766 5375 2113 \nL 5375 331 \nL 5894 331 \nL 5894 0 \nL 4300 0 \nL 4300 331 \nL 4800 331 \nL 4800 2047 \nQ 4800 2556 4650 2772 \nQ 4500 2988 4153 2988 \nQ 3769 2988 3567 2697 \nQ 3366 2406 3366 1850 \nL 3366 331 \nL 3866 331 \nL 3866 0 \nL 2291 0 \nL 2291 331 \nL 2791 331 \nL 2791 2069 \nQ 2791 2566 2641 2777 \nQ 2491 2988 2144 2988 \nQ 1759 2988 1557 2697 \nQ 1356 2406 1356 1850 \nL 1356 331 \nL 1856 331 \nL 1856 0 \nL 263 0 \nL 263 331 \nL 781 331 \nL 781 2994 \nL 231 2994 \nL 231 3322 \nL 1356 3322 \nL 1356 2731 \nQ 1516 3063 1762 3238 \nQ 2009 3413 2322 3413 \nQ 2709 3413 2968 3220 \nQ 3228 3028 3316 2675 \nz\n\" transform=\"scale(0.015625)\"/>\n       <path id=\"DejaVuSerif-76\" d=\"M 1581 0 \nL 359 2988 \nL -19 2988 \nL -19 3322 \nL 1509 3322 \nL 1509 2988 \nL 978 2988 \nL 1913 703 \nL 2847 2988 \nL 2350 2988 \nL 2350 3322 \nL 3597 3322 \nL 3597 2988 \nL 3225 2988 \nL 2003 0 \nL 1581 0 \nz\n\" transform=\"scale(0.015625)\"/>\n       <path id=\"DejaVuSerif-6e\" d=\"M 263 0 \nL 263 331 \nL 781 331 \nL 781 2988 \nL 231 2988 \nL 231 3322 \nL 1356 3322 \nL 1356 2731 \nQ 1516 3069 1770 3241 \nQ 2025 3413 2363 3413 \nQ 2913 3413 3172 3097 \nQ 3431 2781 3431 2113 \nL 3431 331 \nL 3944 331 \nL 3944 0 \nL 2356 0 \nL 2356 331 \nL 2853 331 \nL 2853 1931 \nQ 2853 2541 2703 2767 \nQ 2553 2994 2175 2994 \nQ 1775 2994 1565 2701 \nQ 1356 2409 1356 1850 \nL 1356 331 \nL 1856 331 \nL 1856 0 \nL 263 0 \nz\n\" transform=\"scale(0.015625)\"/>\n       <path id=\"DejaVuSerif-67\" d=\"M 3359 2988 \nL 3359 72 \nQ 3359 -644 2965 -1033 \nQ 2572 -1422 1844 -1422 \nQ 1516 -1422 1216 -1362 \nQ 916 -1303 641 -1184 \nL 641 -488 \nL 941 -488 \nQ 997 -813 1206 -963 \nQ 1416 -1113 1806 -1113 \nQ 2313 -1113 2548 -827 \nQ 2784 -541 2784 72 \nL 2784 519 \nQ 2616 206 2355 57 \nQ 2094 -91 1709 -91 \nQ 1097 -91 708 395 \nQ 319 881 319 1663 \nQ 319 2444 706 2928 \nQ 1094 3413 1709 3413 \nQ 2094 3413 2355 3264 \nQ 2616 3116 2784 2803 \nL 2784 3322 \nL 3909 3322 \nL 3909 2988 \nL 3359 2988 \nz\nM 2784 1825 \nQ 2784 2422 2554 2737 \nQ 2325 3053 1888 3053 \nQ 1444 3053 1217 2703 \nQ 991 2353 991 1663 \nQ 991 975 1217 622 \nQ 1444 269 1888 269 \nQ 2325 269 2554 583 \nQ 2784 897 2784 1497 \nL 2784 1825 \nz\n\" transform=\"scale(0.015625)\"/>\n      </defs>\n      <use xlink:href=\"#DejaVuSerif-6d\"/>\n      <use xlink:href=\"#DejaVuSerif-6f\" x=\"94.824219\"/>\n      <use xlink:href=\"#DejaVuSerif-76\" x=\"155.029297\"/>\n      <use xlink:href=\"#DejaVuSerif-69\" x=\"211.523438\"/>\n      <use xlink:href=\"#DejaVuSerif-6e\" x=\"243.505859\"/>\n      <use xlink:href=\"#DejaVuSerif-67\" x=\"307.910156\"/>\n      <use xlink:href=\"#DejaVuSerif-20\" x=\"371.923828\"/>\n      <use xlink:href=\"#DejaVuSerif-61\" x=\"403.710938\"/>\n      <use xlink:href=\"#DejaVuSerif-76\" x=\"463.330078\"/>\n      <use xlink:href=\"#DejaVuSerif-65\" x=\"519.824219\"/>\n      <use xlink:href=\"#DejaVuSerif-72\" x=\"579.003906\"/>\n      <use xlink:href=\"#DejaVuSerif-61\" x=\"626.806641\"/>\n      <use xlink:href=\"#DejaVuSerif-67\" x=\"686.425781\"/>\n      <use xlink:href=\"#DejaVuSerif-65\" x=\"750.439453\"/>\n     </g>\n    </g>\n    <g id=\"line2d_28\">\n     <path d=\"M 63.295938 35.11875 \nL 73.295938 35.11875 \nL 83.295938 35.11875 \n\" style=\"fill: none; stroke-dasharray: 6.475,2.8; stroke-dashoffset: 0; stroke: #ff0000; stroke-width: 1.75\"/>\n    </g>\n    <g id=\"text_16\">\n     <!-- regression -->\n     <g style=\"fill: #262626\" transform=\"translate(91.295938 38.61875) scale(0.1 -0.1)\">\n      <use xlink:href=\"#DejaVuSerif-72\"/>\n      <use xlink:href=\"#DejaVuSerif-65\" x=\"47.802734\"/>\n      <use xlink:href=\"#DejaVuSerif-67\" x=\"106.982422\"/>\n      <use xlink:href=\"#DejaVuSerif-72\" x=\"170.996094\"/>\n      <use xlink:href=\"#DejaVuSerif-65\" x=\"218.798828\"/>\n      <use xlink:href=\"#DejaVuSerif-73\" x=\"277.978516\"/>\n      <use xlink:href=\"#DejaVuSerif-73\" x=\"329.296875\"/>\n      <use xlink:href=\"#DejaVuSerif-69\" x=\"380.615234\"/>\n      <use xlink:href=\"#DejaVuSerif-6f\" x=\"412.597656\"/>\n      <use xlink:href=\"#DejaVuSerif-6e\" x=\"472.802734\"/>\n     </g>\n    </g>\n   </g>\n  </g>\n </g>\n <defs>\n  <clipPath id=\"pd085c99739\">\n   <rect x=\"54.295938\" y=\"7.2\" width=\"558\" height=\"332.64\"/>\n  </clipPath>\n </defs>\n</svg>\n"
          },
          "metadata": {}
        }
      ]
    },
    {
      "cell_type": "code",
      "source": [
        "plt.figure(figsize=(10, 6))\n",
        "x = range(1, len(agent.performances) + 1)\n",
        "y = np.polyval(np.polyfit(x, agent.performances, deg=3), x)\n",
        "y_ = np.polyval(np.polyfit(x, agent.vperformances, deg=3), x)\n",
        "plt.plot(agent.performances[:], label='training')\n",
        "plt.plot(agent.vperformances[:], label='validation')\n",
        "plt.plot(x, y, 'r--', label='regression (train)')\n",
        "plt.plot(x, y_, 'r-.', label='regression (valid)')\n",
        "plt.xlabel('episodes')\n",
        "plt.ylabel('gross performance')\n",
        "plt.legend();"
      ],
      "metadata": {
        "colab": {
          "base_uri": "https://localhost:8080/",
          "height": 525
        },
        "id": "4KVm-oP2Voh1",
        "outputId": "ece410df-b198-4c00-92f1-fea34cc329cc"
      },
      "execution_count": 26,
      "outputs": [
        {
          "output_type": "display_data",
          "data": {
            "text/plain": [
              "<Figure size 1000x600 with 1 Axes>"
            ],
            "image/svg+xml": "<?xml version=\"1.0\" encoding=\"utf-8\" standalone=\"no\"?>\n<!DOCTYPE svg PUBLIC \"-//W3C//DTD SVG 1.1//EN\"\n  \"http://www.w3.org/Graphics/SVG/1.1/DTD/svg11.dtd\">\n<svg xmlns:xlink=\"http://www.w3.org/1999/xlink\" width=\"610.105469pt\" height=\"378.364062pt\" viewBox=\"0 0 610.105469 378.364062\" xmlns=\"http://www.w3.org/2000/svg\" version=\"1.1\">\n <metadata>\n  <rdf:RDF xmlns:dc=\"http://purl.org/dc/elements/1.1/\" xmlns:cc=\"http://creativecommons.org/ns#\" xmlns:rdf=\"http://www.w3.org/1999/02/22-rdf-syntax-ns#\">\n   <cc:Work>\n    <dc:type rdf:resource=\"http://purl.org/dc/dcmitype/StillImage\"/>\n    <dc:date>2024-03-18T16:17:19.906352</dc:date>\n    <dc:format>image/svg+xml</dc:format>\n    <dc:creator>\n     <cc:Agent>\n      <dc:title>Matplotlib v3.7.1, https://matplotlib.org/</dc:title>\n     </cc:Agent>\n    </dc:creator>\n   </cc:Work>\n  </rdf:RDF>\n </metadata>\n <defs>\n  <style type=\"text/css\">*{stroke-linejoin: round; stroke-linecap: butt}</style>\n </defs>\n <g id=\"figure_1\">\n  <g id=\"patch_1\">\n   <path d=\"M 0 378.364062 \nL 610.105469 378.364062 \nL 610.105469 0 \nL 0 0 \nz\n\" style=\"fill: #ffffff\"/>\n  </g>\n  <g id=\"axes_1\">\n   <g id=\"patch_2\">\n    <path d=\"M 44.905469 339.84 \nL 602.905469 339.84 \nL 602.905469 7.2 \nL 44.905469 7.2 \nz\n\" style=\"fill: #eaeaf2\"/>\n   </g>\n   <g id=\"matplotlib.axis_1\">\n    <g id=\"xtick_1\">\n     <g id=\"line2d_1\">\n      <path d=\"M 70.269105 339.84 \nL 70.269105 7.2 \n\" clip-path=\"url(#p64f0591a01)\" style=\"fill: none; stroke: #ffffff; stroke-linecap: round\"/>\n     </g>\n     <g id=\"line2d_2\"/>\n     <g id=\"text_1\">\n      <!-- 0 -->\n      <g style=\"fill: #262626\" transform=\"translate(67.087855 354.438437) scale(0.1 -0.1)\">\n       <defs>\n        <path id=\"DejaVuSerif-30\" d=\"M 2034 219 \nQ 2513 219 2750 744 \nQ 2988 1269 2988 2328 \nQ 2988 3391 2750 3916 \nQ 2513 4441 2034 4441 \nQ 1556 4441 1318 3916 \nQ 1081 3391 1081 2328 \nQ 1081 1269 1318 744 \nQ 1556 219 2034 219 \nz\nM 2034 -91 \nQ 1275 -91 848 546 \nQ 422 1184 422 2328 \nQ 422 3475 848 4112 \nQ 1275 4750 2034 4750 \nQ 2797 4750 3222 4112 \nQ 3647 3475 3647 2328 \nQ 3647 1184 3222 546 \nQ 2797 -91 2034 -91 \nz\n\" transform=\"scale(0.015625)\"/>\n       </defs>\n       <use xlink:href=\"#DejaVuSerif-30\"/>\n      </g>\n     </g>\n    </g>\n    <g id=\"xtick_2\">\n     <g id=\"line2d_3\">\n      <path d=\"M 153.428569 339.84 \nL 153.428569 7.2 \n\" clip-path=\"url(#p64f0591a01)\" style=\"fill: none; stroke: #ffffff; stroke-linecap: round\"/>\n     </g>\n     <g id=\"line2d_4\"/>\n     <g id=\"text_2\">\n      <!-- 10 -->\n      <g style=\"fill: #262626\" transform=\"translate(147.066069 354.438437) scale(0.1 -0.1)\">\n       <defs>\n        <path id=\"DejaVuSerif-31\" d=\"M 909 0 \nL 909 331 \nL 1722 331 \nL 1722 4213 \nL 781 3603 \nL 781 4013 \nL 1919 4750 \nL 2350 4750 \nL 2350 331 \nL 3163 331 \nL 3163 0 \nL 909 0 \nz\n\" transform=\"scale(0.015625)\"/>\n       </defs>\n       <use xlink:href=\"#DejaVuSerif-31\"/>\n       <use xlink:href=\"#DejaVuSerif-30\" x=\"63.623047\"/>\n      </g>\n     </g>\n    </g>\n    <g id=\"xtick_3\">\n     <g id=\"line2d_5\">\n      <path d=\"M 236.588032 339.84 \nL 236.588032 7.2 \n\" clip-path=\"url(#p64f0591a01)\" style=\"fill: none; stroke: #ffffff; stroke-linecap: round\"/>\n     </g>\n     <g id=\"line2d_6\"/>\n     <g id=\"text_3\">\n      <!-- 20 -->\n      <g style=\"fill: #262626\" transform=\"translate(230.225532 354.438437) scale(0.1 -0.1)\">\n       <defs>\n        <path id=\"DejaVuSerif-32\" d=\"M 819 3553 \nL 469 3553 \nL 469 4384 \nQ 803 4563 1142 4656 \nQ 1481 4750 1806 4750 \nQ 2534 4750 2956 4397 \nQ 3378 4044 3378 3438 \nQ 3378 2753 2422 1800 \nQ 2347 1728 2309 1691 \nL 1131 513 \nL 3078 513 \nL 3078 1088 \nL 3444 1088 \nL 3444 0 \nL 434 0 \nL 434 341 \nL 1850 1753 \nQ 2319 2222 2519 2614 \nQ 2719 3006 2719 3438 \nQ 2719 3909 2473 4175 \nQ 2228 4441 1797 4441 \nQ 1350 4441 1106 4219 \nQ 863 3997 819 3553 \nz\n\" transform=\"scale(0.015625)\"/>\n       </defs>\n       <use xlink:href=\"#DejaVuSerif-32\"/>\n       <use xlink:href=\"#DejaVuSerif-30\" x=\"63.623047\"/>\n      </g>\n     </g>\n    </g>\n    <g id=\"xtick_4\">\n     <g id=\"line2d_7\">\n      <path d=\"M 319.747496 339.84 \nL 319.747496 7.2 \n\" clip-path=\"url(#p64f0591a01)\" style=\"fill: none; stroke: #ffffff; stroke-linecap: round\"/>\n     </g>\n     <g id=\"line2d_8\"/>\n     <g id=\"text_4\">\n      <!-- 30 -->\n      <g style=\"fill: #262626\" transform=\"translate(313.384996 354.438437) scale(0.1 -0.1)\">\n       <defs>\n        <path id=\"DejaVuSerif-33\" d=\"M 622 4469 \nQ 988 4606 1323 4678 \nQ 1659 4750 1953 4750 \nQ 2638 4750 3022 4454 \nQ 3406 4159 3406 3634 \nQ 3406 3213 3140 2930 \nQ 2875 2647 2388 2547 \nQ 2963 2466 3280 2130 \nQ 3597 1794 3597 1259 \nQ 3597 606 3158 257 \nQ 2719 -91 1894 -91 \nQ 1528 -91 1179 -12 \nQ 831 66 488 225 \nL 488 1131 \nL 838 1131 \nQ 869 681 1141 450 \nQ 1413 219 1906 219 \nQ 2384 219 2661 495 \nQ 2938 772 2938 1253 \nQ 2938 1803 2653 2086 \nQ 2369 2369 1819 2369 \nL 1522 2369 \nL 1522 2688 \nL 1678 2688 \nQ 2225 2688 2498 2914 \nQ 2772 3141 2772 3597 \nQ 2772 4006 2547 4223 \nQ 2322 4441 1900 4441 \nQ 1478 4441 1245 4241 \nQ 1013 4041 972 3647 \nL 622 3647 \nL 622 4469 \nz\n\" transform=\"scale(0.015625)\"/>\n       </defs>\n       <use xlink:href=\"#DejaVuSerif-33\"/>\n       <use xlink:href=\"#DejaVuSerif-30\" x=\"63.623047\"/>\n      </g>\n     </g>\n    </g>\n    <g id=\"xtick_5\">\n     <g id=\"line2d_9\">\n      <path d=\"M 402.906959 339.84 \nL 402.906959 7.2 \n\" clip-path=\"url(#p64f0591a01)\" style=\"fill: none; stroke: #ffffff; stroke-linecap: round\"/>\n     </g>\n     <g id=\"line2d_10\"/>\n     <g id=\"text_5\">\n      <!-- 40 -->\n      <g style=\"fill: #262626\" transform=\"translate(396.544459 354.438437) scale(0.1 -0.1)\">\n       <defs>\n        <path id=\"DejaVuSerif-34\" d=\"M 2234 1581 \nL 2234 4063 \nL 641 1581 \nL 2234 1581 \nz\nM 3609 0 \nL 1484 0 \nL 1484 331 \nL 2234 331 \nL 2234 1247 \nL 197 1247 \nL 197 1588 \nL 2241 4750 \nL 2859 4750 \nL 2859 1581 \nL 3750 1581 \nL 3750 1247 \nL 2859 1247 \nL 2859 331 \nL 3609 331 \nL 3609 0 \nz\n\" transform=\"scale(0.015625)\"/>\n       </defs>\n       <use xlink:href=\"#DejaVuSerif-34\"/>\n       <use xlink:href=\"#DejaVuSerif-30\" x=\"63.623047\"/>\n      </g>\n     </g>\n    </g>\n    <g id=\"xtick_6\">\n     <g id=\"line2d_11\">\n      <path d=\"M 486.066423 339.84 \nL 486.066423 7.2 \n\" clip-path=\"url(#p64f0591a01)\" style=\"fill: none; stroke: #ffffff; stroke-linecap: round\"/>\n     </g>\n     <g id=\"line2d_12\"/>\n     <g id=\"text_6\">\n      <!-- 50 -->\n      <g style=\"fill: #262626\" transform=\"translate(479.703923 354.438437) scale(0.1 -0.1)\">\n       <defs>\n        <path id=\"DejaVuSerif-35\" d=\"M 3219 4666 \nL 3219 4153 \nL 1081 4153 \nL 1081 2816 \nQ 1244 2928 1461 2984 \nQ 1678 3041 1947 3041 \nQ 2703 3041 3140 2622 \nQ 3578 2203 3578 1478 \nQ 3578 738 3136 323 \nQ 2694 -91 1894 -91 \nQ 1572 -91 1234 -12 \nQ 897 66 544 225 \nL 544 1131 \nL 897 1131 \nQ 925 688 1179 453 \nQ 1434 219 1894 219 \nQ 2388 219 2653 544 \nQ 2919 869 2919 1478 \nQ 2919 2084 2655 2407 \nQ 2391 2731 1894 2731 \nQ 1613 2731 1398 2631 \nQ 1184 2531 1019 2322 \nL 750 2322 \nL 750 4666 \nL 3219 4666 \nz\n\" transform=\"scale(0.015625)\"/>\n       </defs>\n       <use xlink:href=\"#DejaVuSerif-35\"/>\n       <use xlink:href=\"#DejaVuSerif-30\" x=\"63.623047\"/>\n      </g>\n     </g>\n    </g>\n    <g id=\"xtick_7\">\n     <g id=\"line2d_13\">\n      <path d=\"M 569.225886 339.84 \nL 569.225886 7.2 \n\" clip-path=\"url(#p64f0591a01)\" style=\"fill: none; stroke: #ffffff; stroke-linecap: round\"/>\n     </g>\n     <g id=\"line2d_14\"/>\n     <g id=\"text_7\">\n      <!-- 60 -->\n      <g style=\"fill: #262626\" transform=\"translate(562.863386 354.438437) scale(0.1 -0.1)\">\n       <defs>\n        <path id=\"DejaVuSerif-36\" d=\"M 2094 219 \nQ 2534 219 2771 542 \nQ 3009 866 3009 1472 \nQ 3009 2078 2771 2401 \nQ 2534 2725 2094 2725 \nQ 1647 2725 1412 2412 \nQ 1178 2100 1178 1509 \nQ 1178 888 1415 553 \nQ 1653 219 2094 219 \nz\nM 1075 2569 \nQ 1288 2803 1556 2918 \nQ 1825 3034 2163 3034 \nQ 2859 3034 3264 2615 \nQ 3669 2197 3669 1472 \nQ 3669 763 3233 336 \nQ 2797 -91 2069 -91 \nQ 1278 -91 853 498 \nQ 428 1088 428 2181 \nQ 428 3406 931 4078 \nQ 1434 4750 2350 4750 \nQ 2597 4750 2869 4703 \nQ 3141 4656 3425 4563 \nL 3425 3794 \nL 3072 3794 \nQ 3034 4109 2831 4275 \nQ 2628 4441 2284 4441 \nQ 1678 4441 1381 3981 \nQ 1084 3522 1075 2569 \nz\n\" transform=\"scale(0.015625)\"/>\n       </defs>\n       <use xlink:href=\"#DejaVuSerif-36\"/>\n       <use xlink:href=\"#DejaVuSerif-30\" x=\"63.623047\"/>\n      </g>\n     </g>\n    </g>\n    <g id=\"text_8\">\n     <!-- episodes -->\n     <g style=\"fill: #262626\" transform=\"translate(299.638438 368.876406) scale(0.11 -0.11)\">\n      <defs>\n       <path id=\"DejaVuSerif-65\" d=\"M 3469 1600 \nL 991 1600 \nL 991 1575 \nQ 991 903 1244 561 \nQ 1497 219 1991 219 \nQ 2369 219 2611 417 \nQ 2853 616 2950 1006 \nL 3413 1006 \nQ 3275 459 2904 184 \nQ 2534 -91 1931 -91 \nQ 1203 -91 761 389 \nQ 319 869 319 1663 \nQ 319 2450 753 2931 \nQ 1188 3413 1894 3413 \nQ 2647 3413 3050 2948 \nQ 3453 2484 3469 1600 \nz\nM 2791 1931 \nQ 2772 2513 2545 2808 \nQ 2319 3103 1894 3103 \nQ 1497 3103 1269 2806 \nQ 1041 2509 991 1931 \nL 2791 1931 \nz\n\" transform=\"scale(0.015625)\"/>\n       <path id=\"DejaVuSerif-70\" d=\"M 1313 1825 \nL 1313 1497 \nQ 1313 897 1542 583 \nQ 1772 269 2209 269 \nQ 2650 269 2876 622 \nQ 3103 975 3103 1663 \nQ 3103 2353 2876 2703 \nQ 2650 3053 2209 3053 \nQ 1772 3053 1542 2737 \nQ 1313 2422 1313 1825 \nz\nM 738 2988 \nL 184 2988 \nL 184 3322 \nL 1313 3322 \nL 1313 2803 \nQ 1481 3116 1742 3264 \nQ 2003 3413 2388 3413 \nQ 3000 3413 3387 2928 \nQ 3775 2444 3775 1663 \nQ 3775 881 3387 395 \nQ 3000 -91 2388 -91 \nQ 2003 -91 1742 57 \nQ 1481 206 1313 519 \nL 1313 -997 \nL 1856 -997 \nL 1856 -1331 \nL 184 -1331 \nL 184 -997 \nL 738 -997 \nL 738 2988 \nz\n\" transform=\"scale(0.015625)\"/>\n       <path id=\"DejaVuSerif-69\" d=\"M 622 4353 \nQ 622 4497 726 4603 \nQ 831 4709 978 4709 \nQ 1122 4709 1226 4603 \nQ 1331 4497 1331 4353 \nQ 1331 4206 1228 4103 \nQ 1125 4000 978 4000 \nQ 831 4000 726 4103 \nQ 622 4206 622 4353 \nz\nM 1356 331 \nL 1900 331 \nL 1900 0 \nL 231 0 \nL 231 331 \nL 781 331 \nL 781 2988 \nL 231 2988 \nL 231 3322 \nL 1356 3322 \nL 1356 331 \nz\n\" transform=\"scale(0.015625)\"/>\n       <path id=\"DejaVuSerif-73\" d=\"M 359 184 \nL 359 959 \nL 691 959 \nQ 703 588 923 403 \nQ 1144 219 1575 219 \nQ 1963 219 2166 364 \nQ 2369 509 2369 788 \nQ 2369 1006 2220 1140 \nQ 2072 1275 1594 1428 \nL 1178 1569 \nQ 750 1706 558 1912 \nQ 366 2119 366 2438 \nQ 366 2894 700 3153 \nQ 1034 3413 1625 3413 \nQ 1888 3413 2178 3344 \nQ 2469 3275 2778 3144 \nL 2778 2419 \nL 2447 2419 \nQ 2434 2741 2221 2922 \nQ 2009 3103 1644 3103 \nQ 1281 3103 1095 2975 \nQ 909 2847 909 2591 \nQ 909 2381 1050 2254 \nQ 1191 2128 1613 1997 \nL 2069 1856 \nQ 2541 1709 2748 1489 \nQ 2956 1269 2956 922 \nQ 2956 450 2595 179 \nQ 2234 -91 1600 -91 \nQ 1278 -91 972 -22 \nQ 666 47 359 184 \nz\n\" transform=\"scale(0.015625)\"/>\n       <path id=\"DejaVuSerif-6f\" d=\"M 1925 219 \nQ 2388 219 2623 584 \nQ 2859 950 2859 1663 \nQ 2859 2375 2623 2739 \nQ 2388 3103 1925 3103 \nQ 1463 3103 1227 2739 \nQ 991 2375 991 1663 \nQ 991 950 1228 584 \nQ 1466 219 1925 219 \nz\nM 1925 -91 \nQ 1200 -91 759 389 \nQ 319 869 319 1663 \nQ 319 2456 758 2934 \nQ 1197 3413 1925 3413 \nQ 2653 3413 3092 2934 \nQ 3531 2456 3531 1663 \nQ 3531 869 3092 389 \nQ 2653 -91 1925 -91 \nz\n\" transform=\"scale(0.015625)\"/>\n       <path id=\"DejaVuSerif-64\" d=\"M 3359 331 \nL 3909 331 \nL 3909 0 \nL 2784 0 \nL 2784 519 \nQ 2616 206 2355 57 \nQ 2094 -91 1709 -91 \nQ 1097 -91 708 395 \nQ 319 881 319 1663 \nQ 319 2444 706 2928 \nQ 1094 3413 1709 3413 \nQ 2094 3413 2355 3264 \nQ 2616 3116 2784 2803 \nL 2784 4531 \nL 2241 4531 \nL 2241 4863 \nL 3359 4863 \nL 3359 331 \nz\nM 2784 1497 \nL 2784 1825 \nQ 2784 2422 2554 2737 \nQ 2325 3053 1888 3053 \nQ 1444 3053 1217 2703 \nQ 991 2353 991 1663 \nQ 991 975 1217 622 \nQ 1444 269 1888 269 \nQ 2325 269 2554 583 \nQ 2784 897 2784 1497 \nz\n\" transform=\"scale(0.015625)\"/>\n      </defs>\n      <use xlink:href=\"#DejaVuSerif-65\"/>\n      <use xlink:href=\"#DejaVuSerif-70\" x=\"59.179688\"/>\n      <use xlink:href=\"#DejaVuSerif-69\" x=\"123.193359\"/>\n      <use xlink:href=\"#DejaVuSerif-73\" x=\"155.175781\"/>\n      <use xlink:href=\"#DejaVuSerif-6f\" x=\"206.494141\"/>\n      <use xlink:href=\"#DejaVuSerif-64\" x=\"266.699219\"/>\n      <use xlink:href=\"#DejaVuSerif-65\" x=\"330.712891\"/>\n      <use xlink:href=\"#DejaVuSerif-73\" x=\"389.892578\"/>\n     </g>\n    </g>\n   </g>\n   <g id=\"matplotlib.axis_2\">\n    <g id=\"ytick_1\">\n     <g id=\"line2d_15\">\n      <path d=\"M 44.905469 331.688505 \nL 602.905469 331.688505 \n\" clip-path=\"url(#p64f0591a01)\" style=\"fill: none; stroke: #ffffff; stroke-linecap: round\"/>\n     </g>\n     <g id=\"line2d_16\"/>\n     <g id=\"text_9\">\n      <!-- 0.8 -->\n      <g style=\"fill: #262626\" transform=\"translate(22.002344 335.487723) scale(0.1 -0.1)\">\n       <defs>\n        <path id=\"DejaVuSerif-2e\" d=\"M 603 325 \nQ 603 500 722 622 \nQ 841 744 1019 744 \nQ 1191 744 1312 622 \nQ 1434 500 1434 325 \nQ 1434 153 1312 31 \nQ 1191 -91 1019 -91 \nQ 841 -91 722 29 \nQ 603 150 603 325 \nz\n\" transform=\"scale(0.015625)\"/>\n        <path id=\"DejaVuSerif-38\" d=\"M 2981 1275 \nQ 2981 1775 2732 2051 \nQ 2484 2328 2034 2328 \nQ 1584 2328 1336 2051 \nQ 1088 1775 1088 1275 \nQ 1088 772 1336 495 \nQ 1584 219 2034 219 \nQ 2484 219 2732 495 \nQ 2981 772 2981 1275 \nz\nM 2853 3541 \nQ 2853 3966 2637 4203 \nQ 2422 4441 2034 4441 \nQ 1650 4441 1433 4203 \nQ 1216 3966 1216 3541 \nQ 1216 3113 1433 2875 \nQ 1650 2638 2034 2638 \nQ 2422 2638 2637 2875 \nQ 2853 3113 2853 3541 \nz\nM 2516 2484 \nQ 3047 2413 3344 2092 \nQ 3641 1772 3641 1275 \nQ 3641 619 3225 264 \nQ 2809 -91 2034 -91 \nQ 1263 -91 845 264 \nQ 428 619 428 1275 \nQ 428 1772 725 2092 \nQ 1022 2413 1556 2484 \nQ 1084 2569 832 2842 \nQ 581 3116 581 3541 \nQ 581 4103 968 4426 \nQ 1356 4750 2034 4750 \nQ 2713 4750 3100 4426 \nQ 3488 4103 3488 3541 \nQ 3488 3116 3236 2842 \nQ 2984 2569 2516 2484 \nz\n\" transform=\"scale(0.015625)\"/>\n       </defs>\n       <use xlink:href=\"#DejaVuSerif-30\"/>\n       <use xlink:href=\"#DejaVuSerif-2e\" x=\"63.623047\"/>\n       <use xlink:href=\"#DejaVuSerif-38\" x=\"95.410156\"/>\n      </g>\n     </g>\n    </g>\n    <g id=\"ytick_2\">\n     <g id=\"line2d_17\">\n      <path d=\"M 44.905469 290.743168 \nL 602.905469 290.743168 \n\" clip-path=\"url(#p64f0591a01)\" style=\"fill: none; stroke: #ffffff; stroke-linecap: round\"/>\n     </g>\n     <g id=\"line2d_18\"/>\n     <g id=\"text_10\">\n      <!-- 1.0 -->\n      <g style=\"fill: #262626\" transform=\"translate(22.002344 294.542387) scale(0.1 -0.1)\">\n       <use xlink:href=\"#DejaVuSerif-31\"/>\n       <use xlink:href=\"#DejaVuSerif-2e\" x=\"63.623047\"/>\n       <use xlink:href=\"#DejaVuSerif-30\" x=\"95.410156\"/>\n      </g>\n     </g>\n    </g>\n    <g id=\"ytick_3\">\n     <g id=\"line2d_19\">\n      <path d=\"M 44.905469 249.797832 \nL 602.905469 249.797832 \n\" clip-path=\"url(#p64f0591a01)\" style=\"fill: none; stroke: #ffffff; stroke-linecap: round\"/>\n     </g>\n     <g id=\"line2d_20\"/>\n     <g id=\"text_11\">\n      <!-- 1.2 -->\n      <g style=\"fill: #262626\" transform=\"translate(22.002344 253.597051) scale(0.1 -0.1)\">\n       <use xlink:href=\"#DejaVuSerif-31\"/>\n       <use xlink:href=\"#DejaVuSerif-2e\" x=\"63.623047\"/>\n       <use xlink:href=\"#DejaVuSerif-32\" x=\"95.410156\"/>\n      </g>\n     </g>\n    </g>\n    <g id=\"ytick_4\">\n     <g id=\"line2d_21\">\n      <path d=\"M 44.905469 208.852495 \nL 602.905469 208.852495 \n\" clip-path=\"url(#p64f0591a01)\" style=\"fill: none; stroke: #ffffff; stroke-linecap: round\"/>\n     </g>\n     <g id=\"line2d_22\"/>\n     <g id=\"text_12\">\n      <!-- 1.4 -->\n      <g style=\"fill: #262626\" transform=\"translate(22.002344 212.651714) scale(0.1 -0.1)\">\n       <use xlink:href=\"#DejaVuSerif-31\"/>\n       <use xlink:href=\"#DejaVuSerif-2e\" x=\"63.623047\"/>\n       <use xlink:href=\"#DejaVuSerif-34\" x=\"95.410156\"/>\n      </g>\n     </g>\n    </g>\n    <g id=\"ytick_5\">\n     <g id=\"line2d_23\">\n      <path d=\"M 44.905469 167.907159 \nL 602.905469 167.907159 \n\" clip-path=\"url(#p64f0591a01)\" style=\"fill: none; stroke: #ffffff; stroke-linecap: round\"/>\n     </g>\n     <g id=\"line2d_24\"/>\n     <g id=\"text_13\">\n      <!-- 1.6 -->\n      <g style=\"fill: #262626\" transform=\"translate(22.002344 171.706378) scale(0.1 -0.1)\">\n       <use xlink:href=\"#DejaVuSerif-31\"/>\n       <use xlink:href=\"#DejaVuSerif-2e\" x=\"63.623047\"/>\n       <use xlink:href=\"#DejaVuSerif-36\" x=\"95.410156\"/>\n      </g>\n     </g>\n    </g>\n    <g id=\"ytick_6\">\n     <g id=\"line2d_25\">\n      <path d=\"M 44.905469 126.961823 \nL 602.905469 126.961823 \n\" clip-path=\"url(#p64f0591a01)\" style=\"fill: none; stroke: #ffffff; stroke-linecap: round\"/>\n     </g>\n     <g id=\"line2d_26\"/>\n     <g id=\"text_14\">\n      <!-- 1.8 -->\n      <g style=\"fill: #262626\" transform=\"translate(22.002344 130.761041) scale(0.1 -0.1)\">\n       <use xlink:href=\"#DejaVuSerif-31\"/>\n       <use xlink:href=\"#DejaVuSerif-2e\" x=\"63.623047\"/>\n       <use xlink:href=\"#DejaVuSerif-38\" x=\"95.410156\"/>\n      </g>\n     </g>\n    </g>\n    <g id=\"ytick_7\">\n     <g id=\"line2d_27\">\n      <path d=\"M 44.905469 86.016486 \nL 602.905469 86.016486 \n\" clip-path=\"url(#p64f0591a01)\" style=\"fill: none; stroke: #ffffff; stroke-linecap: round\"/>\n     </g>\n     <g id=\"line2d_28\"/>\n     <g id=\"text_15\">\n      <!-- 2.0 -->\n      <g style=\"fill: #262626\" transform=\"translate(22.002344 89.815705) scale(0.1 -0.1)\">\n       <use xlink:href=\"#DejaVuSerif-32\"/>\n       <use xlink:href=\"#DejaVuSerif-2e\" x=\"63.623047\"/>\n       <use xlink:href=\"#DejaVuSerif-30\" x=\"95.410156\"/>\n      </g>\n     </g>\n    </g>\n    <g id=\"ytick_8\">\n     <g id=\"line2d_29\">\n      <path d=\"M 44.905469 45.07115 \nL 602.905469 45.07115 \n\" clip-path=\"url(#p64f0591a01)\" style=\"fill: none; stroke: #ffffff; stroke-linecap: round\"/>\n     </g>\n     <g id=\"line2d_30\"/>\n     <g id=\"text_16\">\n      <!-- 2.2 -->\n      <g style=\"fill: #262626\" transform=\"translate(22.002344 48.870369) scale(0.1 -0.1)\">\n       <use xlink:href=\"#DejaVuSerif-32\"/>\n       <use xlink:href=\"#DejaVuSerif-2e\" x=\"63.623047\"/>\n       <use xlink:href=\"#DejaVuSerif-32\" x=\"95.410156\"/>\n      </g>\n     </g>\n    </g>\n    <g id=\"text_17\">\n     <!-- gross performance -->\n     <g style=\"fill: #262626\" transform=\"translate(15.558281 226.126641) rotate(-90) scale(0.11 -0.11)\">\n      <defs>\n       <path id=\"DejaVuSerif-67\" d=\"M 3359 2988 \nL 3359 72 \nQ 3359 -644 2965 -1033 \nQ 2572 -1422 1844 -1422 \nQ 1516 -1422 1216 -1362 \nQ 916 -1303 641 -1184 \nL 641 -488 \nL 941 -488 \nQ 997 -813 1206 -963 \nQ 1416 -1113 1806 -1113 \nQ 2313 -1113 2548 -827 \nQ 2784 -541 2784 72 \nL 2784 519 \nQ 2616 206 2355 57 \nQ 2094 -91 1709 -91 \nQ 1097 -91 708 395 \nQ 319 881 319 1663 \nQ 319 2444 706 2928 \nQ 1094 3413 1709 3413 \nQ 2094 3413 2355 3264 \nQ 2616 3116 2784 2803 \nL 2784 3322 \nL 3909 3322 \nL 3909 2988 \nL 3359 2988 \nz\nM 2784 1825 \nQ 2784 2422 2554 2737 \nQ 2325 3053 1888 3053 \nQ 1444 3053 1217 2703 \nQ 991 2353 991 1663 \nQ 991 975 1217 622 \nQ 1444 269 1888 269 \nQ 2325 269 2554 583 \nQ 2784 897 2784 1497 \nL 2784 1825 \nz\n\" transform=\"scale(0.015625)\"/>\n       <path id=\"DejaVuSerif-72\" d=\"M 3059 3328 \nL 3059 2497 \nL 2728 2497 \nQ 2713 2744 2591 2866 \nQ 2469 2988 2234 2988 \nQ 1809 2988 1582 2694 \nQ 1356 2400 1356 1850 \nL 1356 331 \nL 2022 331 \nL 2022 0 \nL 263 0 \nL 263 331 \nL 781 331 \nL 781 2994 \nL 231 2994 \nL 231 3322 \nL 1356 3322 \nL 1356 2731 \nQ 1525 3078 1790 3245 \nQ 2056 3413 2438 3413 \nQ 2578 3413 2733 3391 \nQ 2888 3369 3059 3328 \nz\n\" transform=\"scale(0.015625)\"/>\n       <path id=\"DejaVuSerif-20\" transform=\"scale(0.015625)\"/>\n       <path id=\"DejaVuSerif-66\" d=\"M 2753 4078 \nL 2450 4078 \nQ 2447 4313 2317 4434 \nQ 2188 4556 1941 4556 \nQ 1619 4556 1487 4379 \nQ 1356 4203 1356 3750 \nL 1356 3322 \nL 2284 3322 \nL 2284 2988 \nL 1356 2988 \nL 1356 331 \nL 2094 331 \nL 2094 0 \nL 231 0 \nL 231 331 \nL 781 331 \nL 781 2988 \nL 231 2988 \nL 231 3322 \nL 781 3322 \nL 781 3738 \nQ 781 4294 1070 4578 \nQ 1359 4863 1919 4863 \nQ 2128 4863 2337 4825 \nQ 2547 4788 2753 4709 \nL 2753 4078 \nz\n\" transform=\"scale(0.015625)\"/>\n       <path id=\"DejaVuSerif-6d\" d=\"M 3316 2675 \nQ 3481 3041 3739 3227 \nQ 3997 3413 4341 3413 \nQ 4863 3413 5119 3089 \nQ 5375 2766 5375 2113 \nL 5375 331 \nL 5894 331 \nL 5894 0 \nL 4300 0 \nL 4300 331 \nL 4800 331 \nL 4800 2047 \nQ 4800 2556 4650 2772 \nQ 4500 2988 4153 2988 \nQ 3769 2988 3567 2697 \nQ 3366 2406 3366 1850 \nL 3366 331 \nL 3866 331 \nL 3866 0 \nL 2291 0 \nL 2291 331 \nL 2791 331 \nL 2791 2069 \nQ 2791 2566 2641 2777 \nQ 2491 2988 2144 2988 \nQ 1759 2988 1557 2697 \nQ 1356 2406 1356 1850 \nL 1356 331 \nL 1856 331 \nL 1856 0 \nL 263 0 \nL 263 331 \nL 781 331 \nL 781 2994 \nL 231 2994 \nL 231 3322 \nL 1356 3322 \nL 1356 2731 \nQ 1516 3063 1762 3238 \nQ 2009 3413 2322 3413 \nQ 2709 3413 2968 3220 \nQ 3228 3028 3316 2675 \nz\n\" transform=\"scale(0.015625)\"/>\n       <path id=\"DejaVuSerif-61\" d=\"M 2547 1044 \nL 2547 1747 \nL 1806 1747 \nQ 1378 1747 1168 1562 \nQ 959 1378 959 997 \nQ 959 650 1171 447 \nQ 1384 244 1747 244 \nQ 2106 244 2326 466 \nQ 2547 688 2547 1044 \nz\nM 3122 2075 \nL 3122 331 \nL 3634 331 \nL 3634 0 \nL 2547 0 \nL 2547 359 \nQ 2356 128 2106 18 \nQ 1856 -91 1522 -91 \nQ 969 -91 644 203 \nQ 319 497 319 997 \nQ 319 1513 691 1797 \nQ 1063 2081 1741 2081 \nL 2547 2081 \nL 2547 2309 \nQ 2547 2688 2317 2895 \nQ 2088 3103 1672 3103 \nQ 1328 3103 1125 2947 \nQ 922 2791 872 2484 \nL 575 2484 \nL 575 3156 \nQ 875 3284 1158 3348 \nQ 1441 3413 1709 3413 \nQ 2400 3413 2761 3070 \nQ 3122 2728 3122 2075 \nz\n\" transform=\"scale(0.015625)\"/>\n       <path id=\"DejaVuSerif-6e\" d=\"M 263 0 \nL 263 331 \nL 781 331 \nL 781 2988 \nL 231 2988 \nL 231 3322 \nL 1356 3322 \nL 1356 2731 \nQ 1516 3069 1770 3241 \nQ 2025 3413 2363 3413 \nQ 2913 3413 3172 3097 \nQ 3431 2781 3431 2113 \nL 3431 331 \nL 3944 331 \nL 3944 0 \nL 2356 0 \nL 2356 331 \nL 2853 331 \nL 2853 1931 \nQ 2853 2541 2703 2767 \nQ 2553 2994 2175 2994 \nQ 1775 2994 1565 2701 \nQ 1356 2409 1356 1850 \nL 1356 331 \nL 1856 331 \nL 1856 0 \nL 263 0 \nz\n\" transform=\"scale(0.015625)\"/>\n       <path id=\"DejaVuSerif-63\" d=\"M 3291 997 \nQ 3169 466 2822 187 \nQ 2475 -91 1925 -91 \nQ 1200 -91 759 389 \nQ 319 869 319 1663 \nQ 319 2459 759 2936 \nQ 1200 3413 1925 3413 \nQ 2241 3413 2553 3339 \nQ 2866 3266 3181 3116 \nL 3181 2266 \nL 2847 2266 \nQ 2781 2703 2561 2903 \nQ 2341 3103 1931 3103 \nQ 1466 3103 1228 2742 \nQ 991 2381 991 1663 \nQ 991 944 1227 581 \nQ 1463 219 1931 219 \nQ 2303 219 2525 412 \nQ 2747 606 2828 997 \nL 3291 997 \nz\n\" transform=\"scale(0.015625)\"/>\n      </defs>\n      <use xlink:href=\"#DejaVuSerif-67\"/>\n      <use xlink:href=\"#DejaVuSerif-72\" x=\"64.013672\"/>\n      <use xlink:href=\"#DejaVuSerif-6f\" x=\"111.816406\"/>\n      <use xlink:href=\"#DejaVuSerif-73\" x=\"172.021484\"/>\n      <use xlink:href=\"#DejaVuSerif-73\" x=\"223.339844\"/>\n      <use xlink:href=\"#DejaVuSerif-20\" x=\"274.658203\"/>\n      <use xlink:href=\"#DejaVuSerif-70\" x=\"306.445312\"/>\n      <use xlink:href=\"#DejaVuSerif-65\" x=\"370.458984\"/>\n      <use xlink:href=\"#DejaVuSerif-72\" x=\"429.638672\"/>\n      <use xlink:href=\"#DejaVuSerif-66\" x=\"477.441406\"/>\n      <use xlink:href=\"#DejaVuSerif-6f\" x=\"514.453125\"/>\n      <use xlink:href=\"#DejaVuSerif-72\" x=\"574.658203\"/>\n      <use xlink:href=\"#DejaVuSerif-6d\" x=\"622.460938\"/>\n      <use xlink:href=\"#DejaVuSerif-61\" x=\"717.285156\"/>\n      <use xlink:href=\"#DejaVuSerif-6e\" x=\"776.904297\"/>\n      <use xlink:href=\"#DejaVuSerif-63\" x=\"841.308594\"/>\n      <use xlink:href=\"#DejaVuSerif-65\" x=\"897.314453\"/>\n     </g>\n    </g>\n   </g>\n   <g id=\"line2d_31\">\n    <path d=\"M 70.269105 174.279553 \nL 78.585051 322.164658 \nL 86.900998 171.473733 \nL 95.216944 322.145796 \nL 103.532891 322.432141 \nL 111.848837 322.235837 \nL 120.164783 321.653851 \nL 128.48073 268.013129 \nL 136.796676 249.248426 \nL 145.112622 266.094922 \nL 153.428569 323.156831 \nL 161.744515 322.017374 \nL 170.060461 307.168017 \nL 178.376408 292.734879 \nL 186.692354 243.902688 \nL 195.0083 303.811783 \nL 203.324247 236.586486 \nL 211.640193 324.72 \nL 219.956139 239.486437 \nL 228.272086 321.774063 \nL 236.588032 251.055947 \nL 244.903978 249.61231 \nL 253.219925 321.87234 \nL 261.535871 285.899596 \nL 269.851817 159.899733 \nL 278.167764 323.438865 \nL 286.48371 322.357867 \nL 294.799657 321.837713 \nL 303.115603 22.32 \nL 311.431549 322.048099 \nL 319.747496 322.156693 \nL 328.063442 224.586386 \nL 336.379388 304.447214 \nL 344.695335 138.476468 \nL 353.011281 256.264619 \nL 361.327227 321.4906 \nL 369.643174 191.028356 \nL 377.95912 217.303702 \nL 386.275066 260.832193 \nL 394.591013 247.771904 \nL 402.906959 321.796254 \nL 411.222905 293.159251 \nL 419.538852 195.615574 \nL 427.854798 292.787507 \nL 436.170744 273.540235 \nL 444.486691 159.640268 \nL 452.802637 205.088581 \nL 461.118584 164.201603 \nL 469.43453 321.687577 \nL 477.750476 260.093094 \nL 486.066423 151.400892 \nL 494.382369 253.6879 \nL 502.698315 128.306095 \nL 511.014262 234.640022 \nL 519.330208 78.865579 \nL 527.646154 223.443728 \nL 535.962101 298.059292 \nL 544.278047 210.811501 \nL 552.593993 280.816872 \nL 560.90994 211.537929 \nL 569.225886 185.681196 \n\" clip-path=\"url(#p64f0591a01)\" style=\"fill: none; stroke: #4c72b0; stroke-width: 1.75; stroke-linecap: round\"/>\n   </g>\n   <g id=\"line2d_32\">\n    <path d=\"M 70.269105 294.103005 \nL 78.585051 298.718858 \nL 86.900998 301.211722 \nL 95.216944 303.585805 \nL 103.532891 298.534507 \nL 111.848837 300.496883 \nL 120.164783 301.73408 \nL 128.48073 298.019136 \nL 136.796676 293.597423 \nL 145.112622 290.523711 \nL 153.428569 277.595405 \nL 161.744515 278.618459 \nL 170.060461 286.814563 \nL 178.376408 284.666334 \nL 186.692354 284.581095 \nL 195.0083 289.338083 \nL 203.324247 287.641099 \nL 211.640193 289.627446 \nL 219.956139 286.423983 \nL 228.272086 286.47991 \nL 236.588032 290.091406 \nL 244.903978 290.708038 \nL 253.219925 289.54267 \nL 261.535871 297.487611 \nL 269.851817 283.971698 \nL 278.167764 297.385794 \nL 286.48371 295.068248 \nL 294.799657 295.343655 \nL 303.115603 294.775188 \nL 311.431549 292.654168 \nL 319.747496 292.886227 \nL 328.063442 291.265955 \nL 336.379388 292.294518 \nL 344.695335 288.569101 \nL 353.011281 297.358385 \nL 361.327227 292.609308 \nL 369.643174 296.982088 \nL 377.95912 285.304211 \nL 386.275066 294.462785 \nL 394.591013 288.066411 \nL 402.906959 288.507088 \nL 411.222905 294.493942 \nL 419.538852 290.740088 \nL 427.854798 298.70386 \nL 436.170744 298.999556 \nL 444.486691 289.116121 \nL 452.802637 294.902383 \nL 461.118584 299.449228 \nL 469.43453 300.288227 \nL 477.750476 295.978245 \nL 486.066423 298.446281 \nL 494.382369 295.174367 \nL 502.698315 290.534615 \nL 511.014262 279.91369 \nL 519.330208 283.527606 \nL 527.646154 281.857993 \nL 535.962101 287.118198 \nL 544.278047 289.749253 \nL 552.593993 290.537103 \nL 560.90994 286.669772 \nL 569.225886 290.270517 \n\" clip-path=\"url(#p64f0591a01)\" style=\"fill: none; stroke: #55a868; stroke-width: 1.75; stroke-linecap: round\"/>\n   </g>\n   <g id=\"line2d_33\">\n    <path d=\"M 78.585051 261.746745 \nL 86.900998 265.585014 \nL 95.216944 269.051636 \nL 103.532891 272.157819 \nL 111.848837 274.914772 \nL 120.164783 277.333706 \nL 128.48073 279.42583 \nL 136.796676 281.202352 \nL 145.112622 282.674483 \nL 153.428569 283.853432 \nL 161.744515 284.750408 \nL 170.060461 285.376621 \nL 178.376408 285.74328 \nL 186.692354 285.861595 \nL 195.0083 285.742774 \nL 203.324247 285.398028 \nL 211.640193 284.838566 \nL 219.956139 284.075597 \nL 228.272086 283.120331 \nL 236.588032 281.983976 \nL 244.903978 280.677743 \nL 253.219925 279.212841 \nL 261.535871 277.60048 \nL 269.851817 275.851868 \nL 278.167764 273.978215 \nL 286.48371 271.99073 \nL 294.799657 269.900624 \nL 303.115603 267.719105 \nL 311.431549 265.457383 \nL 319.747496 263.126667 \nL 328.063442 260.738167 \nL 336.379388 258.303092 \nL 344.695335 255.832651 \nL 353.011281 253.338054 \nL 361.327227 250.830511 \nL 369.643174 248.32123 \nL 377.95912 245.821421 \nL 386.275066 243.342294 \nL 394.591013 240.895058 \nL 402.906959 238.490923 \nL 411.222905 236.141097 \nL 419.538852 233.85679 \nL 427.854798 231.649212 \nL 436.170744 229.529573 \nL 444.486691 227.50908 \nL 452.802637 225.598945 \nL 461.118584 223.810376 \nL 469.43453 222.154582 \nL 477.750476 220.642774 \nL 486.066423 219.286161 \nL 494.382369 218.095951 \nL 502.698315 217.083355 \nL 511.014262 216.259582 \nL 519.330208 215.63584 \nL 527.646154 215.223341 \nL 535.962101 215.033293 \nL 544.278047 215.076905 \nL 552.593993 215.365387 \nL 560.90994 215.909948 \nL 569.225886 216.721799 \nL 577.541832 217.812147 \n\" clip-path=\"url(#p64f0591a01)\" style=\"fill: none; stroke-dasharray: 6.475,2.8; stroke-dashoffset: 0; stroke: #ff0000; stroke-width: 1.75\"/>\n   </g>\n   <g id=\"line2d_34\">\n    <path d=\"M 78.585051 301.357575 \nL 86.900998 299.792148 \nL 95.216944 298.351041 \nL 103.532891 297.030061 \nL 111.848837 295.825013 \nL 120.164783 294.731707 \nL 128.48073 293.745947 \nL 136.796676 292.863541 \nL 145.112622 292.080296 \nL 153.428569 291.392018 \nL 161.744515 290.794515 \nL 170.060461 290.283592 \nL 178.376408 289.855058 \nL 186.692354 289.504719 \nL 195.0083 289.228381 \nL 203.324247 289.021852 \nL 211.640193 288.880938 \nL 219.956139 288.801446 \nL 228.272086 288.779182 \nL 236.588032 288.809955 \nL 244.903978 288.88957 \nL 253.219925 289.013834 \nL 261.535871 289.178555 \nL 269.851817 289.379538 \nL 278.167764 289.612592 \nL 286.48371 289.873522 \nL 294.799657 290.158135 \nL 303.115603 290.462239 \nL 311.431549 290.781639 \nL 319.747496 291.112144 \nL 328.063442 291.449559 \nL 336.379388 291.789691 \nL 344.695335 292.128348 \nL 353.011281 292.461337 \nL 361.327227 292.784463 \nL 369.643174 293.093533 \nL 377.95912 293.384356 \nL 386.275066 293.652737 \nL 394.591013 293.894483 \nL 402.906959 294.105401 \nL 411.222905 294.281298 \nL 419.538852 294.417981 \nL 427.854798 294.511256 \nL 436.170744 294.55693 \nL 444.486691 294.550811 \nL 452.802637 294.488705 \nL 461.118584 294.366418 \nL 469.43453 294.179758 \nL 477.750476 293.924531 \nL 486.066423 293.596545 \nL 494.382369 293.191605 \nL 502.698315 292.70552 \nL 511.014262 292.134095 \nL 519.330208 291.473137 \nL 527.646154 290.718454 \nL 535.962101 289.865852 \nL 544.278047 288.911138 \nL 552.593993 287.850119 \nL 560.90994 286.678601 \nL 569.225886 285.392392 \nL 577.541832 283.987298 \n\" clip-path=\"url(#p64f0591a01)\" style=\"fill: none; stroke-dasharray: 11.2,2.8,1.75,2.8; stroke-dashoffset: 0; stroke: #ff0000; stroke-width: 1.75\"/>\n   </g>\n   <g id=\"patch_3\">\n    <path d=\"M 44.905469 339.84 \nL 44.905469 7.2 \n\" style=\"fill: none\"/>\n   </g>\n   <g id=\"patch_4\">\n    <path d=\"M 602.905469 339.84 \nL 602.905469 7.2 \n\" style=\"fill: none\"/>\n   </g>\n   <g id=\"patch_5\">\n    <path d=\"M 44.905469 339.84 \nL 602.905469 339.84 \n\" style=\"fill: none\"/>\n   </g>\n   <g id=\"patch_6\">\n    <path d=\"M 44.905469 7.2 \nL 602.905469 7.2 \n\" style=\"fill: none\"/>\n   </g>\n   <g id=\"legend_1\">\n    <g id=\"line2d_35\">\n     <path d=\"M 476.792969 20.298437 \nL 486.792969 20.298437 \nL 496.792969 20.298437 \n\" style=\"fill: none; stroke: #4c72b0; stroke-width: 1.75; stroke-linecap: round\"/>\n    </g>\n    <g id=\"text_18\">\n     <!-- training -->\n     <g style=\"fill: #262626\" transform=\"translate(504.792969 23.798437) scale(0.1 -0.1)\">\n      <defs>\n       <path id=\"DejaVuSerif-74\" d=\"M 691 2988 \nL 184 2988 \nL 184 3322 \nL 691 3322 \nL 691 4353 \nL 1269 4353 \nL 1269 3322 \nL 2350 3322 \nL 2350 2988 \nL 1269 2988 \nL 1269 878 \nQ 1269 456 1350 337 \nQ 1431 219 1650 219 \nQ 1875 219 1978 351 \nQ 2081 484 2088 781 \nL 2522 781 \nQ 2497 328 2275 118 \nQ 2053 -91 1600 -91 \nQ 1103 -91 897 129 \nQ 691 350 691 878 \nL 691 2988 \nz\n\" transform=\"scale(0.015625)\"/>\n      </defs>\n      <use xlink:href=\"#DejaVuSerif-74\"/>\n      <use xlink:href=\"#DejaVuSerif-72\" x=\"40.185547\"/>\n      <use xlink:href=\"#DejaVuSerif-61\" x=\"87.988281\"/>\n      <use xlink:href=\"#DejaVuSerif-69\" x=\"147.607422\"/>\n      <use xlink:href=\"#DejaVuSerif-6e\" x=\"179.589844\"/>\n      <use xlink:href=\"#DejaVuSerif-69\" x=\"243.994141\"/>\n      <use xlink:href=\"#DejaVuSerif-6e\" x=\"275.976562\"/>\n      <use xlink:href=\"#DejaVuSerif-67\" x=\"340.380859\"/>\n     </g>\n    </g>\n    <g id=\"line2d_36\">\n     <path d=\"M 476.792969 35.11875 \nL 486.792969 35.11875 \nL 496.792969 35.11875 \n\" style=\"fill: none; stroke: #55a868; stroke-width: 1.75; stroke-linecap: round\"/>\n    </g>\n    <g id=\"text_19\">\n     <!-- validation -->\n     <g style=\"fill: #262626\" transform=\"translate(504.792969 38.61875) scale(0.1 -0.1)\">\n      <defs>\n       <path id=\"DejaVuSerif-76\" d=\"M 1581 0 \nL 359 2988 \nL -19 2988 \nL -19 3322 \nL 1509 3322 \nL 1509 2988 \nL 978 2988 \nL 1913 703 \nL 2847 2988 \nL 2350 2988 \nL 2350 3322 \nL 3597 3322 \nL 3597 2988 \nL 3225 2988 \nL 2003 0 \nL 1581 0 \nz\n\" transform=\"scale(0.015625)\"/>\n       <path id=\"DejaVuSerif-6c\" d=\"M 1313 331 \nL 1856 331 \nL 1856 0 \nL 184 0 \nL 184 331 \nL 738 331 \nL 738 4531 \nL 184 4531 \nL 184 4863 \nL 1313 4863 \nL 1313 331 \nz\n\" transform=\"scale(0.015625)\"/>\n      </defs>\n      <use xlink:href=\"#DejaVuSerif-76\"/>\n      <use xlink:href=\"#DejaVuSerif-61\" x=\"56.494141\"/>\n      <use xlink:href=\"#DejaVuSerif-6c\" x=\"116.113281\"/>\n      <use xlink:href=\"#DejaVuSerif-69\" x=\"148.095703\"/>\n      <use xlink:href=\"#DejaVuSerif-64\" x=\"180.078125\"/>\n      <use xlink:href=\"#DejaVuSerif-61\" x=\"244.091797\"/>\n      <use xlink:href=\"#DejaVuSerif-74\" x=\"303.710938\"/>\n      <use xlink:href=\"#DejaVuSerif-69\" x=\"343.896484\"/>\n      <use xlink:href=\"#DejaVuSerif-6f\" x=\"375.878906\"/>\n      <use xlink:href=\"#DejaVuSerif-6e\" x=\"436.083984\"/>\n     </g>\n    </g>\n    <g id=\"line2d_37\">\n     <path d=\"M 476.792969 49.796875 \nL 486.792969 49.796875 \nL 496.792969 49.796875 \n\" style=\"fill: none; stroke-dasharray: 6.475,2.8; stroke-dashoffset: 0; stroke: #ff0000; stroke-width: 1.75\"/>\n    </g>\n    <g id=\"text_20\">\n     <!-- regression (train) -->\n     <g style=\"fill: #262626\" transform=\"translate(504.792969 53.296875) scale(0.1 -0.1)\">\n      <defs>\n       <path id=\"DejaVuSerif-28\" d=\"M 2041 -997 \nQ 1281 -656 893 83 \nQ 506 822 506 1931 \nQ 506 3044 893 3783 \nQ 1281 4522 2041 4863 \nL 2041 4556 \nQ 1559 4225 1350 3623 \nQ 1141 3022 1141 1931 \nQ 1141 844 1350 242 \nQ 1559 -359 2041 -691 \nL 2041 -997 \nz\n\" transform=\"scale(0.015625)\"/>\n       <path id=\"DejaVuSerif-29\" d=\"M 453 -997 \nL 453 -691 \nQ 934 -359 1145 242 \nQ 1356 844 1356 1931 \nQ 1356 3022 1145 3623 \nQ 934 4225 453 4556 \nL 453 4863 \nQ 1216 4522 1603 3783 \nQ 1991 3044 1991 1931 \nQ 1991 822 1603 83 \nQ 1216 -656 453 -997 \nz\n\" transform=\"scale(0.015625)\"/>\n      </defs>\n      <use xlink:href=\"#DejaVuSerif-72\"/>\n      <use xlink:href=\"#DejaVuSerif-65\" x=\"47.802734\"/>\n      <use xlink:href=\"#DejaVuSerif-67\" x=\"106.982422\"/>\n      <use xlink:href=\"#DejaVuSerif-72\" x=\"170.996094\"/>\n      <use xlink:href=\"#DejaVuSerif-65\" x=\"218.798828\"/>\n      <use xlink:href=\"#DejaVuSerif-73\" x=\"277.978516\"/>\n      <use xlink:href=\"#DejaVuSerif-73\" x=\"329.296875\"/>\n      <use xlink:href=\"#DejaVuSerif-69\" x=\"380.615234\"/>\n      <use xlink:href=\"#DejaVuSerif-6f\" x=\"412.597656\"/>\n      <use xlink:href=\"#DejaVuSerif-6e\" x=\"472.802734\"/>\n      <use xlink:href=\"#DejaVuSerif-20\" x=\"537.207031\"/>\n      <use xlink:href=\"#DejaVuSerif-28\" x=\"568.994141\"/>\n      <use xlink:href=\"#DejaVuSerif-74\" x=\"608.007812\"/>\n      <use xlink:href=\"#DejaVuSerif-72\" x=\"648.193359\"/>\n      <use xlink:href=\"#DejaVuSerif-61\" x=\"695.996094\"/>\n      <use xlink:href=\"#DejaVuSerif-69\" x=\"755.615234\"/>\n      <use xlink:href=\"#DejaVuSerif-6e\" x=\"787.597656\"/>\n      <use xlink:href=\"#DejaVuSerif-29\" x=\"852.001953\"/>\n     </g>\n    </g>\n    <g id=\"line2d_38\">\n     <path d=\"M 476.792969 64.617188 \nL 486.792969 64.617188 \nL 496.792969 64.617188 \n\" style=\"fill: none; stroke-dasharray: 11.2,2.8,1.75,2.8; stroke-dashoffset: 0; stroke: #ff0000; stroke-width: 1.75\"/>\n    </g>\n    <g id=\"text_21\">\n     <!-- regression (valid) -->\n     <g style=\"fill: #262626\" transform=\"translate(504.792969 68.117188) scale(0.1 -0.1)\">\n      <use xlink:href=\"#DejaVuSerif-72\"/>\n      <use xlink:href=\"#DejaVuSerif-65\" x=\"47.802734\"/>\n      <use xlink:href=\"#DejaVuSerif-67\" x=\"106.982422\"/>\n      <use xlink:href=\"#DejaVuSerif-72\" x=\"170.996094\"/>\n      <use xlink:href=\"#DejaVuSerif-65\" x=\"218.798828\"/>\n      <use xlink:href=\"#DejaVuSerif-73\" x=\"277.978516\"/>\n      <use xlink:href=\"#DejaVuSerif-73\" x=\"329.296875\"/>\n      <use xlink:href=\"#DejaVuSerif-69\" x=\"380.615234\"/>\n      <use xlink:href=\"#DejaVuSerif-6f\" x=\"412.597656\"/>\n      <use xlink:href=\"#DejaVuSerif-6e\" x=\"472.802734\"/>\n      <use xlink:href=\"#DejaVuSerif-20\" x=\"537.207031\"/>\n      <use xlink:href=\"#DejaVuSerif-28\" x=\"568.994141\"/>\n      <use xlink:href=\"#DejaVuSerif-76\" x=\"608.007812\"/>\n      <use xlink:href=\"#DejaVuSerif-61\" x=\"664.501953\"/>\n      <use xlink:href=\"#DejaVuSerif-6c\" x=\"724.121094\"/>\n      <use xlink:href=\"#DejaVuSerif-69\" x=\"756.103516\"/>\n      <use xlink:href=\"#DejaVuSerif-64\" x=\"788.085938\"/>\n      <use xlink:href=\"#DejaVuSerif-29\" x=\"852.099609\"/>\n     </g>\n    </g>\n   </g>\n  </g>\n </g>\n <defs>\n  <clipPath id=\"p64f0591a01\">\n   <rect x=\"44.905469\" y=\"7.2\" width=\"558\" height=\"332.64\"/>\n  </clipPath>\n </defs>\n</svg>\n"
          },
          "metadata": {}
        }
      ]
    }
  ]
}