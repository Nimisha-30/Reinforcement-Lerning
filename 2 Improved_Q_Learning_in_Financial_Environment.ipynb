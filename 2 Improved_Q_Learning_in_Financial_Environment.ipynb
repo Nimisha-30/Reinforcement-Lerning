{
  "nbformat": 4,
  "nbformat_minor": 0,
  "metadata": {
    "colab": {
      "provenance": [],
      "gpuType": "T4"
    },
    "kernelspec": {
      "name": "python3",
      "display_name": "Python 3"
    },
    "language_info": {
      "name": "python"
    },
    "accelerator": "GPU"
  },
  "cells": [
    {
      "cell_type": "markdown",
      "source": [
        "The agent learns through trial and error by interacting with the environment and receiving rewards for its actions."
      ],
      "metadata": {
        "id": "bZMJ5_V0PX6I"
      }
    },
    {
      "cell_type": "markdown",
      "source": [
        "## Import necessary libraries"
      ],
      "metadata": {
        "id": "ZkwjvXI3N7nl"
      }
    },
    {
      "cell_type": "code",
      "source": [
        "!pip install tensorflow==2.8.0rc0"
      ],
      "metadata": {
        "colab": {
          "base_uri": "https://localhost:8080/",
          "height": 1000
        },
        "id": "Jsuu3m1SQIND",
        "outputId": "f3f52277-c7fb-4d47-b8e4-29f9acf63c3a"
      },
      "execution_count": 1,
      "outputs": [
        {
          "output_type": "stream",
          "name": "stdout",
          "text": [
            "Collecting tensorflow==2.8.0rc0\n",
            "  Downloading tensorflow-2.8.0rc0-cp310-cp310-manylinux2010_x86_64.whl (492.2 MB)\n",
            "\u001b[2K     \u001b[90m━━━━━━━━━━━━━━━━━━━━━━━━━━━━━━━━━━━━━━━━\u001b[0m \u001b[32m492.2/492.2 MB\u001b[0m \u001b[31m1.1 MB/s\u001b[0m eta \u001b[36m0:00:00\u001b[0m\n",
            "\u001b[?25hRequirement already satisfied: absl-py>=0.4.0 in /usr/local/lib/python3.10/dist-packages (from tensorflow==2.8.0rc0) (1.4.0)\n",
            "Requirement already satisfied: astunparse>=1.6.0 in /usr/local/lib/python3.10/dist-packages (from tensorflow==2.8.0rc0) (1.6.3)\n",
            "Requirement already satisfied: flatbuffers>=1.12 in /usr/local/lib/python3.10/dist-packages (from tensorflow==2.8.0rc0) (24.3.7)\n",
            "Requirement already satisfied: gast>=0.2.1 in /usr/local/lib/python3.10/dist-packages (from tensorflow==2.8.0rc0) (0.5.4)\n",
            "Requirement already satisfied: google-pasta>=0.1.1 in /usr/local/lib/python3.10/dist-packages (from tensorflow==2.8.0rc0) (0.2.0)\n",
            "Requirement already satisfied: h5py>=2.9.0 in /usr/local/lib/python3.10/dist-packages (from tensorflow==2.8.0rc0) (3.9.0)\n",
            "Collecting keras-preprocessing>=1.1.1 (from tensorflow==2.8.0rc0)\n",
            "  Downloading Keras_Preprocessing-1.1.2-py2.py3-none-any.whl (42 kB)\n",
            "\u001b[2K     \u001b[90m━━━━━━━━━━━━━━━━━━━━━━━━━━━━━━━━━━━━━━━━\u001b[0m \u001b[32m42.6/42.6 kB\u001b[0m \u001b[31m2.0 MB/s\u001b[0m eta \u001b[36m0:00:00\u001b[0m\n",
            "\u001b[?25hRequirement already satisfied: libclang>=9.0.1 in /usr/local/lib/python3.10/dist-packages (from tensorflow==2.8.0rc0) (16.0.6)\n",
            "Requirement already satisfied: numpy>=1.14.5 in /usr/local/lib/python3.10/dist-packages (from tensorflow==2.8.0rc0) (1.25.2)\n",
            "Requirement already satisfied: opt-einsum>=2.3.2 in /usr/local/lib/python3.10/dist-packages (from tensorflow==2.8.0rc0) (3.3.0)\n",
            "Requirement already satisfied: protobuf>=3.9.2 in /usr/local/lib/python3.10/dist-packages (from tensorflow==2.8.0rc0) (3.20.3)\n",
            "Collecting setuptools<60 (from tensorflow==2.8.0rc0)\n",
            "  Downloading setuptools-59.8.0-py3-none-any.whl (952 kB)\n",
            "\u001b[2K     \u001b[90m━━━━━━━━━━━━━━━━━━━━━━━━━━━━━━━━━━━━━━━━\u001b[0m \u001b[32m952.8/952.8 kB\u001b[0m \u001b[31m2.3 MB/s\u001b[0m eta \u001b[36m0:00:00\u001b[0m\n",
            "\u001b[?25hRequirement already satisfied: six>=1.12.0 in /usr/local/lib/python3.10/dist-packages (from tensorflow==2.8.0rc0) (1.16.0)\n",
            "Requirement already satisfied: termcolor>=1.1.0 in /usr/local/lib/python3.10/dist-packages (from tensorflow==2.8.0rc0) (2.4.0)\n",
            "Requirement already satisfied: typing-extensions>=3.6.6 in /usr/local/lib/python3.10/dist-packages (from tensorflow==2.8.0rc0) (4.10.0)\n",
            "Requirement already satisfied: wrapt>=1.11.0 in /usr/local/lib/python3.10/dist-packages (from tensorflow==2.8.0rc0) (1.14.1)\n",
            "Collecting tensorboard<2.8,>=2.7 (from tensorflow==2.8.0rc0)\n",
            "  Downloading tensorboard-2.7.0-py3-none-any.whl (5.8 MB)\n",
            "\u001b[2K     \u001b[90m━━━━━━━━━━━━━━━━━━━━━━━━━━━━━━━━━━━━━━━━\u001b[0m \u001b[32m5.8/5.8 MB\u001b[0m \u001b[31m2.5 MB/s\u001b[0m eta \u001b[36m0:00:00\u001b[0m\n",
            "\u001b[?25hCollecting tf-estimator-nightly==2.8.0.dev2021122109 (from tensorflow==2.8.0rc0)\n",
            "  Downloading tf_estimator_nightly-2.8.0.dev2021122109-py2.py3-none-any.whl (462 kB)\n",
            "\u001b[2K     \u001b[90m━━━━━━━━━━━━━━━━━━━━━━━━━━━━━━━━━━━━━━━━\u001b[0m \u001b[32m462.5/462.5 kB\u001b[0m \u001b[31m2.9 MB/s\u001b[0m eta \u001b[36m0:00:00\u001b[0m\n",
            "\u001b[?25hCollecting keras<2.9,>=2.8.0rc0 (from tensorflow==2.8.0rc0)\n",
            "  Downloading keras-2.8.0-py2.py3-none-any.whl (1.4 MB)\n",
            "\u001b[2K     \u001b[90m━━━━━━━━━━━━━━━━━━━━━━━━━━━━━━━━━━━━━━━━\u001b[0m \u001b[32m1.4/1.4 MB\u001b[0m \u001b[31m1.8 MB/s\u001b[0m eta \u001b[36m0:00:00\u001b[0m\n",
            "\u001b[?25hRequirement already satisfied: tensorflow-io-gcs-filesystem>=0.23.1 in /usr/local/lib/python3.10/dist-packages (from tensorflow==2.8.0rc0) (0.36.0)\n",
            "Requirement already satisfied: grpcio<2.0,>=1.24.3 in /usr/local/lib/python3.10/dist-packages (from tensorflow==2.8.0rc0) (1.62.1)\n",
            "Requirement already satisfied: wheel<1.0,>=0.23.0 in /usr/local/lib/python3.10/dist-packages (from astunparse>=1.6.0->tensorflow==2.8.0rc0) (0.43.0)\n",
            "Requirement already satisfied: google-auth<3,>=1.6.3 in /usr/local/lib/python3.10/dist-packages (from tensorboard<2.8,>=2.7->tensorflow==2.8.0rc0) (2.27.0)\n",
            "Collecting google-auth-oauthlib<0.5,>=0.4.1 (from tensorboard<2.8,>=2.7->tensorflow==2.8.0rc0)\n",
            "  Downloading google_auth_oauthlib-0.4.6-py2.py3-none-any.whl (18 kB)\n",
            "Requirement already satisfied: markdown>=2.6.8 in /usr/local/lib/python3.10/dist-packages (from tensorboard<2.8,>=2.7->tensorflow==2.8.0rc0) (3.5.2)\n",
            "Requirement already satisfied: requests<3,>=2.21.0 in /usr/local/lib/python3.10/dist-packages (from tensorboard<2.8,>=2.7->tensorflow==2.8.0rc0) (2.31.0)\n",
            "Collecting tensorboard-data-server<0.7.0,>=0.6.0 (from tensorboard<2.8,>=2.7->tensorflow==2.8.0rc0)\n",
            "  Downloading tensorboard_data_server-0.6.1-py3-none-manylinux2010_x86_64.whl (4.9 MB)\n",
            "\u001b[2K     \u001b[90m━━━━━━━━━━━━━━━━━━━━━━━━━━━━━━━━━━━━━━━━\u001b[0m \u001b[32m4.9/4.9 MB\u001b[0m \u001b[31m1.9 MB/s\u001b[0m eta \u001b[36m0:00:00\u001b[0m\n",
            "\u001b[?25hCollecting tensorboard-plugin-wit>=1.6.0 (from tensorboard<2.8,>=2.7->tensorflow==2.8.0rc0)\n",
            "  Downloading tensorboard_plugin_wit-1.8.1-py3-none-any.whl (781 kB)\n",
            "\u001b[2K     \u001b[90m━━━━━━━━━━━━━━━━━━━━━━━━━━━━━━━━━━━━━━━━\u001b[0m \u001b[32m781.3/781.3 kB\u001b[0m \u001b[31m2.5 MB/s\u001b[0m eta \u001b[36m0:00:00\u001b[0m\n",
            "\u001b[?25hRequirement already satisfied: werkzeug>=0.11.15 in /usr/local/lib/python3.10/dist-packages (from tensorboard<2.8,>=2.7->tensorflow==2.8.0rc0) (3.0.1)\n",
            "Requirement already satisfied: cachetools<6.0,>=2.0.0 in /usr/local/lib/python3.10/dist-packages (from google-auth<3,>=1.6.3->tensorboard<2.8,>=2.7->tensorflow==2.8.0rc0) (5.3.3)\n",
            "Requirement already satisfied: pyasn1-modules>=0.2.1 in /usr/local/lib/python3.10/dist-packages (from google-auth<3,>=1.6.3->tensorboard<2.8,>=2.7->tensorflow==2.8.0rc0) (0.3.0)\n",
            "Requirement already satisfied: rsa<5,>=3.1.4 in /usr/local/lib/python3.10/dist-packages (from google-auth<3,>=1.6.3->tensorboard<2.8,>=2.7->tensorflow==2.8.0rc0) (4.9)\n",
            "Requirement already satisfied: requests-oauthlib>=0.7.0 in /usr/local/lib/python3.10/dist-packages (from google-auth-oauthlib<0.5,>=0.4.1->tensorboard<2.8,>=2.7->tensorflow==2.8.0rc0) (1.4.0)\n",
            "Requirement already satisfied: charset-normalizer<4,>=2 in /usr/local/lib/python3.10/dist-packages (from requests<3,>=2.21.0->tensorboard<2.8,>=2.7->tensorflow==2.8.0rc0) (3.3.2)\n",
            "Requirement already satisfied: idna<4,>=2.5 in /usr/local/lib/python3.10/dist-packages (from requests<3,>=2.21.0->tensorboard<2.8,>=2.7->tensorflow==2.8.0rc0) (3.6)\n",
            "Requirement already satisfied: urllib3<3,>=1.21.1 in /usr/local/lib/python3.10/dist-packages (from requests<3,>=2.21.0->tensorboard<2.8,>=2.7->tensorflow==2.8.0rc0) (2.0.7)\n",
            "Requirement already satisfied: certifi>=2017.4.17 in /usr/local/lib/python3.10/dist-packages (from requests<3,>=2.21.0->tensorboard<2.8,>=2.7->tensorflow==2.8.0rc0) (2024.2.2)\n",
            "Requirement already satisfied: MarkupSafe>=2.1.1 in /usr/local/lib/python3.10/dist-packages (from werkzeug>=0.11.15->tensorboard<2.8,>=2.7->tensorflow==2.8.0rc0) (2.1.5)\n",
            "Requirement already satisfied: pyasn1<0.6.0,>=0.4.6 in /usr/local/lib/python3.10/dist-packages (from pyasn1-modules>=0.2.1->google-auth<3,>=1.6.3->tensorboard<2.8,>=2.7->tensorflow==2.8.0rc0) (0.5.1)\n",
            "Requirement already satisfied: oauthlib>=3.0.0 in /usr/local/lib/python3.10/dist-packages (from requests-oauthlib>=0.7.0->google-auth-oauthlib<0.5,>=0.4.1->tensorboard<2.8,>=2.7->tensorflow==2.8.0rc0) (3.2.2)\n",
            "Installing collected packages: tf-estimator-nightly, tensorboard-plugin-wit, keras, tensorboard-data-server, setuptools, keras-preprocessing, google-auth-oauthlib, tensorboard, tensorflow\n",
            "  Attempting uninstall: keras\n",
            "    Found existing installation: keras 2.15.0\n",
            "    Uninstalling keras-2.15.0:\n",
            "      Successfully uninstalled keras-2.15.0\n",
            "  Attempting uninstall: tensorboard-data-server\n",
            "    Found existing installation: tensorboard-data-server 0.7.2\n",
            "    Uninstalling tensorboard-data-server-0.7.2:\n",
            "      Successfully uninstalled tensorboard-data-server-0.7.2\n",
            "  Attempting uninstall: setuptools\n",
            "    Found existing installation: setuptools 67.7.2\n",
            "    Uninstalling setuptools-67.7.2:\n",
            "      Successfully uninstalled setuptools-67.7.2\n",
            "  Attempting uninstall: google-auth-oauthlib\n",
            "    Found existing installation: google-auth-oauthlib 1.2.0\n",
            "    Uninstalling google-auth-oauthlib-1.2.0:\n",
            "      Successfully uninstalled google-auth-oauthlib-1.2.0\n",
            "  Attempting uninstall: tensorboard\n",
            "    Found existing installation: tensorboard 2.15.2\n",
            "    Uninstalling tensorboard-2.15.2:\n",
            "      Successfully uninstalled tensorboard-2.15.2\n",
            "  Attempting uninstall: tensorflow\n",
            "    Found existing installation: tensorflow 2.15.0\n",
            "    Uninstalling tensorflow-2.15.0:\n",
            "      Successfully uninstalled tensorflow-2.15.0\n",
            "\u001b[31mERROR: pip's dependency resolver does not currently take into account all the packages that are installed. This behaviour is the source of the following dependency conflicts.\n",
            "ipython 7.34.0 requires jedi>=0.16, which is not installed.\n",
            "arviz 0.15.1 requires setuptools>=60.0.0, but you have setuptools 59.8.0 which is incompatible.\n",
            "cvxpy 1.3.3 requires setuptools>65.5.1, but you have setuptools 59.8.0 which is incompatible.\n",
            "pandas-gbq 0.19.2 requires google-auth-oauthlib>=0.7.0, but you have google-auth-oauthlib 0.4.6 which is incompatible.\n",
            "tf-keras 2.15.1 requires tensorflow<2.16,>=2.15, but you have tensorflow 2.8.0rc0 which is incompatible.\u001b[0m\u001b[31m\n",
            "\u001b[0mSuccessfully installed google-auth-oauthlib-0.4.6 keras-2.8.0 keras-preprocessing-1.1.2 setuptools-59.8.0 tensorboard-2.7.0 tensorboard-data-server-0.6.1 tensorboard-plugin-wit-1.8.1 tensorflow-2.8.0rc0 tf-estimator-nightly-2.8.0.dev2021122109\n"
          ]
        },
        {
          "output_type": "display_data",
          "data": {
            "application/vnd.colab-display-data+json": {
              "pip_warning": {
                "packages": [
                  "_distutils_hack",
                  "pkg_resources",
                  "setuptools"
                ]
              },
              "id": "1dbf99d4566841cca05fbbb130b9eb65"
            }
          },
          "metadata": {}
        }
      ]
    },
    {
      "cell_type": "code",
      "source": [
        "import tensorflow as tf\n",
        "if not tf.config.list_physical_devices('GPU'):  # Check for GPU availability\n",
        "  print(\"Installing TensorFlow for GPU support...\")\n",
        "  !pip install tensorflow-gpu  # Install TensorFlow with GPU support\n",
        "else:\n",
        "  print(\"TensorFlow is already installed with GPU support.\")"
      ],
      "metadata": {
        "colab": {
          "base_uri": "https://localhost:8080/"
        },
        "id": "f_MPZ4GsQUJj",
        "outputId": "ba646f12-9f49-41ae-b93f-a6625555846b"
      },
      "execution_count": 7,
      "outputs": [
        {
          "output_type": "stream",
          "name": "stdout",
          "text": [
            "Installing TensorFlow for GPU support...\n",
            "Collecting tensorflow-gpu\n",
            "  Using cached tensorflow-gpu-2.12.0.tar.gz (2.6 kB)\n",
            "  Preparing metadata (setup.py) ... \u001b[?25l\u001b[?25hdone\n",
            "Collecting python_version>\"3.7\" (from tensorflow-gpu)\n",
            "  Using cached python_version-0.0.2-py2.py3-none-any.whl (3.4 kB)\n",
            "Building wheels for collected packages: tensorflow-gpu\n",
            "  \u001b[1;31merror\u001b[0m: \u001b[1msubprocess-exited-with-error\u001b[0m\n",
            "  \n",
            "  \u001b[31m×\u001b[0m \u001b[32mpython setup.py bdist_wheel\u001b[0m did not run successfully.\n",
            "  \u001b[31m│\u001b[0m exit code: \u001b[1;36m1\u001b[0m\n",
            "  \u001b[31m╰─>\u001b[0m See above for output.\n",
            "  \n",
            "  \u001b[1;35mnote\u001b[0m: This error originates from a subprocess, and is likely not a problem with pip.\n",
            "  Building wheel for tensorflow-gpu (setup.py) ... \u001b[?25lerror\n",
            "\u001b[31m  ERROR: Failed building wheel for tensorflow-gpu\u001b[0m\u001b[31m\n",
            "\u001b[0m\u001b[?25h  Running setup.py clean for tensorflow-gpu\n",
            "Failed to build tensorflow-gpu\n",
            "\u001b[31mERROR: Could not build wheels for tensorflow-gpu, which is required to install pyproject.toml-based projects\u001b[0m\u001b[31m\n",
            "\u001b[0m"
          ]
        }
      ]
    },
    {
      "cell_type": "code",
      "execution_count": 8,
      "metadata": {
        "id": "Nr8ucdPRGto0",
        "colab": {
          "base_uri": "https://localhost:8080/"
        },
        "outputId": "71cca6b7-bff0-41d5-ba4c-6ee1963c2c7b"
      },
      "outputs": [
        {
          "output_type": "stream",
          "name": "stderr",
          "text": [
            "<ipython-input-8-eabaf03f8e47>:7: MatplotlibDeprecationWarning: The seaborn styles shipped by Matplotlib are deprecated since 3.6, as they no longer correspond to the styles shipped by seaborn. However, they will remain available as 'seaborn-v0_8-<style>'. Alternatively, directly use the seaborn API instead.\n",
            "  plt.style.use('seaborn')\n"
          ]
        }
      ],
      "source": [
        "import os\n",
        "import math\n",
        "import random\n",
        "import numpy as np\n",
        "import pandas as pd\n",
        "from pylab import plt, mpl\n",
        "plt.style.use('seaborn')\n",
        "mpl.rcParams['font.family'] = 'serif'\n",
        "np.set_printoptions(precision=4, suppress=True)\n",
        "os.environ['PYTHONHASHSEED'] = '0'\n",
        "%config InlineBackend.figure_format = 'svg'"
      ]
    },
    {
      "cell_type": "code",
      "source": [
        "import warnings as w\n",
        "w.simplefilter('ignore')"
      ],
      "metadata": {
        "id": "Qicwz_BeKTZK"
      },
      "execution_count": 9,
      "outputs": []
    },
    {
      "cell_type": "code",
      "source": [
        "os.environ['TF_CPP_MIN_LOG_LEVEL'] = '4'"
      ],
      "metadata": {
        "id": "mLBxPavxKUQQ"
      },
      "execution_count": 10,
      "outputs": []
    },
    {
      "cell_type": "code",
      "source": [
        "import tensorflow as tf"
      ],
      "metadata": {
        "id": "C35pz7ZsKUNA"
      },
      "execution_count": 11,
      "outputs": []
    },
    {
      "cell_type": "code",
      "source": [
        "from tensorflow import keras\n",
        "from keras.layers import Dense, Dropout\n",
        "from keras.models import Sequential\n",
        "from sklearn.metrics import accuracy_score"
      ],
      "metadata": {
        "id": "O11dODqhKUKO"
      },
      "execution_count": 12,
      "outputs": []
    },
    {
      "cell_type": "code",
      "source": [
        "from tensorflow.python.framework.ops import disable_eager_execution\n",
        "disable_eager_execution()"
      ],
      "metadata": {
        "id": "1kSB1P-EKUH0"
      },
      "execution_count": 13,
      "outputs": []
    },
    {
      "cell_type": "markdown",
      "source": [
        "Set random seeds for reproducibility."
      ],
      "metadata": {
        "id": "jRANsDt_OFsC"
      }
    },
    {
      "cell_type": "code",
      "source": [
        "def set_seeds(seed=100):\n",
        "    random.seed(seed)\n",
        "    np.random.seed(seed)\n",
        "    tf.random.set_seed(seed)\n",
        "    env.seed(seed)\n",
        "    env.action_space.seed(100)"
      ],
      "metadata": {
        "id": "d_G8sb4oKdVw"
      },
      "execution_count": 14,
      "outputs": []
    },
    {
      "cell_type": "markdown",
      "source": [
        "# Improved Finance Environment"
      ],
      "metadata": {
        "id": "ZgrMe9uOKfY9"
      }
    },
    {
      "cell_type": "markdown",
      "source": [
        "Define helper classes for the financial environment:\n",
        "\n",
        "observation_space: Defines the state space (data points) the agent observes.\n",
        "\n",
        "action_space: Defines the possible actions the agent can take (in this case, buy or sell).\n",
        "\n",
        "Finance: This class creates a simulated financial environment based on historical data. It takes arguments like symbol (stock ticker), features to consider (e.g., price, volatility), window size for calculations, etc.\n",
        "\n",
        "It prepares the data by calculating features like rolling mean, standard deviation, and converting prices to logarithmic returns."
      ],
      "metadata": {
        "id": "KZoDca1EOO0_"
      }
    },
    {
      "cell_type": "code",
      "source": [
        "class observation_space:\n",
        "    def __init__(self, n):\n",
        "        self.shape = (n,)"
      ],
      "metadata": {
        "id": "ENxETFfzKgaM"
      },
      "execution_count": 15,
      "outputs": []
    },
    {
      "cell_type": "code",
      "source": [
        "class action_space:\n",
        "    def __init__(self, n):\n",
        "        self.n = n\n",
        "    def seed(self, seed):\n",
        "        pass\n",
        "    def sample(self):\n",
        "        return random.randint(0, self.n - 1)"
      ],
      "metadata": {
        "id": "85BGs15UKg5m"
      },
      "execution_count": 16,
      "outputs": []
    },
    {
      "cell_type": "code",
      "source": [
        "class Finance:\n",
        "    url = 'http://hilpisch.com/aiif_eikon_eod_data.csv'\n",
        "    def __init__(self, symbol, features, window, lags,\n",
        "                 leverage=1, min_performance=0.85,\n",
        "                 start=0, end=None, mu=None, std=None):\n",
        "        self.symbol = symbol\n",
        "        self.features = features\n",
        "        self.n_features = len(features)\n",
        "        self.window = window\n",
        "        self.lags = lags\n",
        "        self.leverage = leverage\n",
        "        self.min_performance = min_performance\n",
        "        self.start = start\n",
        "        self.end = end\n",
        "        self.mu = mu\n",
        "        self.std = std\n",
        "        self.observation_space = observation_space(self.lags)\n",
        "        self.action_space = action_space(2)\n",
        "        self._get_data()\n",
        "        self._prepare_data()\n",
        "    def _get_data(self):\n",
        "        self.raw = pd.read_csv(self.url, index_col=0,\n",
        "                               parse_dates=True).dropna()\n",
        "    def _prepare_data(self):\n",
        "        self.data = pd.DataFrame(self.raw[self.symbol])\n",
        "        self.data = self.data.iloc[self.start:]\n",
        "        self.data['r'] = np.log(self.data / self.data.shift(1))\n",
        "        self.data.dropna(inplace=True)\n",
        "        self.data['s'] = self.data[self.symbol].rolling(\n",
        "                                              self.window).mean()\n",
        "        self.data['m'] = self.data['r'].rolling(self.window).mean()\n",
        "        self.data['v'] = self.data['r'].rolling(self.window).std()\n",
        "        self.data.dropna(inplace=True)\n",
        "        if self.mu is None:\n",
        "            self.mu = self.data.mean()\n",
        "            self.std = self.data.std()\n",
        "        self.data_ = (self.data - self.mu) / self.std\n",
        "        self.data_['d'] = np.where(self.data['r'] > 0, 1, 0)\n",
        "        self.data_['d'] = self.data_['d'].astype(int)\n",
        "        if self.end is not None:\n",
        "            self.data = self.data.iloc[:self.end - self.start]\n",
        "            self.data_ = self.data_.iloc[:self.end - self.start]\n",
        "    def _get_state(self):\n",
        "        return self.data_[self.features].iloc[self.bar -\n",
        "                                self.lags:self.bar]\n",
        "    def seed(self, seed):\n",
        "        random.seed(seed)\n",
        "        np.random.seed(seed)\n",
        "    def reset(self):\n",
        "        self.treward = 0\n",
        "        self.accuracy = 0\n",
        "        self.performance = 1\n",
        "        self.bar = self.lags\n",
        "        state = self.data_[self.features].iloc[self.bar-\n",
        "                        self.lags:self.bar]\n",
        "        return state.values\n",
        "    def step(self, action):\n",
        "        correct = action == self.data_['d'].iloc[self.bar]\n",
        "        ret = self.data['r'].iloc[self.bar] * self.leverage\n",
        "        reward_1 = 1 if correct else 0\n",
        "        reward_2 = abs(ret) if correct else -abs(ret)\n",
        "        self.treward += reward_1\n",
        "        self.bar += 1\n",
        "        self.accuracy = self.treward / (self.bar - self.lags)\n",
        "        self.performance *= math.exp(reward_2)\n",
        "        if self.bar >= len(self.data):\n",
        "            done = True\n",
        "        elif reward_1 == 1:\n",
        "            done = False\n",
        "        elif (self.performance < self.min_performance and\n",
        "              self.bar > self.lags + 15):\n",
        "            done = True\n",
        "        else:\n",
        "            done = False\n",
        "        state = self._get_state()\n",
        "        info = {}\n",
        "        return state.values, reward_1 + reward_2 * 252, done, info"
      ],
      "metadata": {
        "id": "-piuXU0wKg2a"
      },
      "execution_count": 17,
      "outputs": []
    },
    {
      "cell_type": "code",
      "source": [
        "env = Finance('EUR=', ['EUR=', 'r', 'v'], window=10, lags=5)"
      ],
      "metadata": {
        "id": "nSWxrew9Kg0B"
      },
      "execution_count": 18,
      "outputs": []
    },
    {
      "cell_type": "code",
      "source": [
        "a = env.action_space.sample()\n",
        "a"
      ],
      "metadata": {
        "colab": {
          "base_uri": "https://localhost:8080/"
        },
        "id": "od0I-aTWKgx5",
        "outputId": "8f2d928e-3b7b-4a96-cc33-851f084f0d26"
      },
      "execution_count": 19,
      "outputs": [
        {
          "output_type": "execute_result",
          "data": {
            "text/plain": [
              "0"
            ]
          },
          "metadata": {},
          "execution_count": 19
        }
      ]
    },
    {
      "cell_type": "code",
      "source": [
        "env.reset()"
      ],
      "metadata": {
        "colab": {
          "base_uri": "https://localhost:8080/"
        },
        "id": "PG_4NbsYK1rH",
        "outputId": "5ca90d5b-6940-4deb-d334-4644d00713c6"
      },
      "execution_count": 20,
      "outputs": [
        {
          "output_type": "execute_result",
          "data": {
            "text/plain": [
              "array([[ 1.7721, -1.0214,  0.0351],\n",
              "       [ 1.5973, -2.4432,  0.6954],\n",
              "       [ 1.5876, -0.1208,  0.6   ],\n",
              "       [ 1.6292,  0.6083,  0.6123],\n",
              "       [ 1.6408,  0.1807,  0.3693]])"
            ]
          },
          "metadata": {},
          "execution_count": 20
        }
      ]
    },
    {
      "cell_type": "code",
      "source": [
        "env.step(a)"
      ],
      "metadata": {
        "colab": {
          "base_uri": "https://localhost:8080/"
        },
        "id": "gNXiO5DfK1nt",
        "outputId": "ab8aafda-f9c7-481e-9960-3221fcc193d5"
      },
      "execution_count": 21,
      "outputs": [
        {
          "output_type": "execute_result",
          "data": {
            "text/plain": [
              "(array([[ 1.5973, -2.4432,  0.6954],\n",
              "        [ 1.5876, -0.1208,  0.6   ],\n",
              "        [ 1.6292,  0.6083,  0.6123],\n",
              "        [ 1.6408,  0.1807,  0.3693],\n",
              "        [ 1.5725, -0.9502,  0.0035]]),\n",
              " 2.3750521308536245,\n",
              " False,\n",
              " {})"
            ]
          },
          "metadata": {},
          "execution_count": 21
        }
      ]
    },
    {
      "cell_type": "markdown",
      "source": [
        "# Improved Financial QL Agent"
      ],
      "metadata": {
        "id": "hHpZGEjXLGJZ"
      }
    },
    {
      "cell_type": "markdown",
      "source": [
        "FQLAgent: This class defines the reinforcement learning agent. It takes the learning and validation environments, learning rate, and other hyperparameters.\n",
        "\n",
        "It has methods for:\n",
        "\n",
        "_build_model: This builds a neural network model that takes the state (past data points) as input and predicts the Q-values (estimated future rewards) for each action (buy or sell).\n",
        "\n",
        "act: This function decides the action based on the current state. It uses epsilon-greedy exploration, where it randomly explores with some probability or chooses the action with the highest predicted Q-value.\n",
        "\n",
        "replay: This function replays past experiences from memory to train the neural network model. It updates the Q-values based on the rewards received for taking actions in different states.\n",
        "\n",
        "learn: This function trains the agent over a specified number of episodes. In each episode, the agent interacts with the environment, taking actions, collecting rewards, and updating its model through replay.\n",
        "\n",
        "validate: This function evaluates the agent's performance on a separate validation environment after each training episode."
      ],
      "metadata": {
        "id": "HBtngwOnOmG4"
      }
    },
    {
      "cell_type": "code",
      "source": [
        "from collections import deque"
      ],
      "metadata": {
        "id": "woot7NPbK1lU"
      },
      "execution_count": 22,
      "outputs": []
    },
    {
      "cell_type": "code",
      "source": [
        "class FQLAgent:\n",
        "    def __init__(self, hidden_units, learning_rate, learn_env, valid_env, dropout=True):\n",
        "        self.learn_env = learn_env\n",
        "        self.valid_env = valid_env\n",
        "        self.dropout = dropout\n",
        "        self.epsilon = 1.0\n",
        "        self.epsilon_min = 0.1\n",
        "        self.epsilon_decay = 0.98\n",
        "        self.learning_rate = learning_rate\n",
        "        self.gamma = 0.95\n",
        "        self.batch_size = 128\n",
        "        self.max_treward = 0\n",
        "        self.trewards = list()\n",
        "        self.averages = list()\n",
        "        self.performances = list()\n",
        "        self.aperformances = list()\n",
        "        self.vperformances = list()\n",
        "        self.memory = deque(maxlen=2000)\n",
        "        self.model = self._build_model(hidden_units, learning_rate)\n",
        "    def _build_model(self, hu, lr):\n",
        "        model = Sequential()\n",
        "        model.add(Dense(hu, input_shape=(\n",
        "            self.learn_env.lags, self.learn_env.n_features),\n",
        "                        activation='relu'))\n",
        "        if self.dropout:\n",
        "            model.add(Dropout(0.3, seed=100))\n",
        "        model.add(Dense(hu, activation='relu'))\n",
        "        if self.dropout:\n",
        "            model.add(Dropout(0.3, seed=100))\n",
        "        model.add(Dense(2, activation='linear'))\n",
        "        model.compile(\n",
        "            loss='mse',\n",
        "            optimizer=tf.compat.v1.train.AdamOptimizer(learning_rate=lr)\n",
        "        )\n",
        "        return model\n",
        "\n",
        "    def act(self, state):\n",
        "        if random.random() <= self.epsilon:\n",
        "            return self.learn_env.action_space.sample()\n",
        "        action = self.model.predict(state)[0, 0]\n",
        "        return np.argmax(action)\n",
        "    def replay(self):\n",
        "        batch = random.sample(self.memory, self.batch_size)\n",
        "        for state, action, reward, next_state, done in batch:\n",
        "            if not done:\n",
        "                reward += self.gamma * np.amax(\n",
        "                    self.model.predict(next_state)[0, 0])\n",
        "            target = self.model.predict(state)\n",
        "            target[0, 0, action] = reward\n",
        "            self.model.fit(state, target, epochs=1,\n",
        "                           verbose=False)\n",
        "        if self.epsilon > self.epsilon_min:\n",
        "            self.epsilon *= self.epsilon_decay\n",
        "\n",
        "    def learn(self, episodes):\n",
        "        for e in range(1, episodes + 1):\n",
        "            state = self.learn_env.reset()\n",
        "            state = np.reshape(state, [1, self.learn_env.lags,\n",
        "                                       self.learn_env.n_features])\n",
        "            for _ in range(10000):\n",
        "                action = self.act(state)\n",
        "                next_state, reward, done, info = \\\n",
        "                                self.learn_env.step(action)\n",
        "                next_state = np.reshape(next_state,\n",
        "                                [1, self.learn_env.lags,\n",
        "                                 self.learn_env.n_features])\n",
        "                self.memory.append([state, action, reward,\n",
        "                                     next_state, done])\n",
        "                state = next_state\n",
        "                if done:\n",
        "                    treward = _ + 1\n",
        "                    self.trewards.append(treward)\n",
        "                    av = sum(self.trewards[-25:]) / 25\n",
        "                    perf = self.learn_env.performance\n",
        "                    self.averages.append(av)\n",
        "                    self.performances.append(perf)\n",
        "                    self.aperformances.append(\n",
        "                        sum(self.performances[-25:]) / 25)\n",
        "                    self.max_treward = max(self.max_treward, treward)\n",
        "                    templ = 'episode: {:2d}/{} | treward: {:4d} | '\n",
        "                    templ += 'perf: {:5.3f} | av: {:5.1f} | max: {:4d}'\n",
        "                    print(templ.format(e, episodes, treward, perf,\n",
        "                                  av, self.max_treward), end='\\r')\n",
        "                    break\n",
        "            self.validate(e, episodes)\n",
        "            if len(self.memory) > self.batch_size:\n",
        "                self.replay()\n",
        "        print()\n",
        "    def validate(self, e, episodes):\n",
        "        state = self.valid_env.reset()\n",
        "        state = np.reshape(state, [1, self.valid_env.lags,\n",
        "                                   self.valid_env.n_features])\n",
        "        for _ in range(10000):\n",
        "            action = np.argmax(self.model.predict(state)[0, 0])\n",
        "            next_state, reward, done, info = self.valid_env.step(action)\n",
        "            state = np.reshape(next_state, [1, self.valid_env.lags,\n",
        "                                   self.valid_env.n_features])\n",
        "            if done:\n",
        "                treward = _ + 1\n",
        "                perf = self.valid_env.performance\n",
        "                self.vperformances.append(perf)\n",
        "                if e % 20 == 0:\n",
        "                    templ = 71 * '='\n",
        "                    templ += '\\nepisode: {:2d}/{} | VALIDATION | '\n",
        "                    templ += 'treward: {:4d} | perf: {:5.3f} | '\n",
        "                    templ += 'eps: {:.2f}\\n'\n",
        "                    templ += 71 * '='\n",
        "                    print(templ.format(e, episodes, treward,\n",
        "                                       perf, self.epsilon))\n",
        "                break"
      ],
      "metadata": {
        "id": "icKCDdZtK1iy"
      },
      "execution_count": 32,
      "outputs": []
    },
    {
      "cell_type": "markdown",
      "source": [
        "This part sets the learning and validation environment parameters like symbol, features, window size, etc.\n",
        "\n",
        "It creates instances of the Finance class for the learning and validation environments.\n",
        "\n",
        "It sets a random seed for reproducibility and creates an FQLAgent instance.\n",
        "It defines the number of training episodes.\n",
        "\n",
        "Finally, it trains the agent using the learn method and plots the results (average rewards and performance) over time."
      ],
      "metadata": {
        "id": "1PgbBUtdPlQs"
      }
    },
    {
      "cell_type": "code",
      "source": [
        "symbol = 'EUR='\n",
        "features = ['r', 's', 'm', 'v']"
      ],
      "metadata": {
        "id": "fhhWmxNELcR3"
      },
      "execution_count": 24,
      "outputs": []
    },
    {
      "cell_type": "code",
      "source": [
        "a = 0\n",
        "b = 2000\n",
        "c = 500"
      ],
      "metadata": {
        "id": "75GTMOo1Lc8H"
      },
      "execution_count": 25,
      "outputs": []
    },
    {
      "cell_type": "code",
      "source": [
        "learn_env = Finance(symbol, features, window=10, lags=6,\n",
        "                 leverage=1, min_performance=0.85,\n",
        "                 start=a, end=a + b, mu=None, std=None)"
      ],
      "metadata": {
        "id": "-mlZ45jlLg-M"
      },
      "execution_count": 33,
      "outputs": []
    },
    {
      "cell_type": "code",
      "source": [
        "learn_env.data.info()"
      ],
      "metadata": {
        "colab": {
          "base_uri": "https://localhost:8080/"
        },
        "id": "mo-lkz5YLjJa",
        "outputId": "2d3b9bfb-b2c2-43f1-9f38-4a062ef2f7b5"
      },
      "execution_count": 34,
      "outputs": [
        {
          "output_type": "stream",
          "name": "stdout",
          "text": [
            "<class 'pandas.core.frame.DataFrame'>\n",
            "DatetimeIndex: 2000 entries, 2010-01-19 to 2017-12-26\n",
            "Data columns (total 5 columns):\n",
            " #   Column  Non-Null Count  Dtype  \n",
            "---  ------  --------------  -----  \n",
            " 0   EUR=    2000 non-null   float64\n",
            " 1   r       2000 non-null   float64\n",
            " 2   s       2000 non-null   float64\n",
            " 3   m       2000 non-null   float64\n",
            " 4   v       2000 non-null   float64\n",
            "dtypes: float64(5)\n",
            "memory usage: 93.8 KB\n"
          ]
        }
      ]
    },
    {
      "cell_type": "code",
      "source": [
        "valid_env = Finance(symbol, features, window=learn_env.window,\n",
        "                 lags=learn_env.lags, leverage=learn_env.leverage,\n",
        "                 min_performance=learn_env.min_performance,\n",
        "                 start=a + b, end=a + b + c,\n",
        "                 mu=learn_env.mu, std=learn_env.std)"
      ],
      "metadata": {
        "id": "-vp8OEZWLlf4"
      },
      "execution_count": 28,
      "outputs": []
    },
    {
      "cell_type": "code",
      "source": [
        "valid_env.data.info()"
      ],
      "metadata": {
        "colab": {
          "base_uri": "https://localhost:8080/"
        },
        "id": "XQe5TGz2Lnld",
        "outputId": "23e82a54-cdca-46f5-e77e-e282886fde9f"
      },
      "execution_count": 35,
      "outputs": [
        {
          "output_type": "stream",
          "name": "stdout",
          "text": [
            "<class 'pandas.core.frame.DataFrame'>\n",
            "DatetimeIndex: 500 entries, 2017-12-27 to 2019-12-20\n",
            "Data columns (total 5 columns):\n",
            " #   Column  Non-Null Count  Dtype  \n",
            "---  ------  --------------  -----  \n",
            " 0   EUR=    500 non-null    float64\n",
            " 1   r       500 non-null    float64\n",
            " 2   s       500 non-null    float64\n",
            " 3   m       500 non-null    float64\n",
            " 4   v       500 non-null    float64\n",
            "dtypes: float64(5)\n",
            "memory usage: 23.4 KB\n"
          ]
        }
      ]
    },
    {
      "cell_type": "code",
      "source": [
        "set_seeds(100)\n",
        "agent = FQLAgent(48, 0.0001, learn_env, valid_env, True)"
      ],
      "metadata": {
        "id": "8qNryRCILniC"
      },
      "execution_count": 36,
      "outputs": []
    },
    {
      "cell_type": "code",
      "source": [
        "episodes = 61"
      ],
      "metadata": {
        "id": "0OolP0deLnfD"
      },
      "execution_count": 37,
      "outputs": []
    },
    {
      "cell_type": "code",
      "source": [
        "%time agent.learn(episodes)"
      ],
      "metadata": {
        "colab": {
          "base_uri": "https://localhost:8080/"
        },
        "id": "4Tpfnk46LzWN",
        "outputId": "79df8b83-0287-42a2-a5e5-4a4cc0fc044d"
      },
      "execution_count": 38,
      "outputs": [
        {
          "output_type": "stream",
          "name": "stdout",
          "text": [
            "=======================================================================\n",
            "episode: 20/61 | VALIDATION | treward:  494 | perf: 0.933 | eps: 0.68\n",
            "=======================================================================\n",
            "=======================================================================\n",
            "episode: 40/61 | VALIDATION | treward:  494 | perf: 0.918 | eps: 0.45\n",
            "=======================================================================\n",
            "=======================================================================\n",
            "episode: 60/61 | VALIDATION | treward:  494 | perf: 0.918 | eps: 0.30\n",
            "=======================================================================\n",
            "\n",
            "CPU times: user 2min 45s, sys: 5.12 s, total: 2min 50s\n",
            "Wall time: 2min 42s\n"
          ]
        }
      ]
    },
    {
      "cell_type": "code",
      "source": [
        "agent.epsilon"
      ],
      "metadata": {
        "colab": {
          "base_uri": "https://localhost:8080/"
        },
        "id": "9JCSTnihLzSz",
        "outputId": "a255b506-e8b2-488d-81cd-63353becd83b"
      },
      "execution_count": 39,
      "outputs": [
        {
          "output_type": "execute_result",
          "data": {
            "text/plain": [
              "0.291602079838278"
            ]
          },
          "metadata": {},
          "execution_count": 39
        }
      ]
    },
    {
      "cell_type": "code",
      "source": [
        "plt.figure(figsize=(10, 6))\n",
        "x = range(1, len(agent.averages) + 1)\n",
        "y = np.polyval(np.polyfit(x, agent.averages, deg=3), x)\n",
        "plt.plot(agent.averages, label='moving average')\n",
        "plt.plot(x, y, 'r--', label='regression')\n",
        "plt.xlabel('episodes')\n",
        "plt.ylabel('total reward')\n",
        "plt.legend();"
      ],
      "metadata": {
        "colab": {
          "base_uri": "https://localhost:8080/",
          "height": 525
        },
        "id": "V3GYZbegLzQV",
        "outputId": "8090a6e9-794c-4e7b-d150-f808e361b9e4"
      },
      "execution_count": 40,
      "outputs": [
        {
          "output_type": "display_data",
          "data": {
            "text/plain": [
              "<Figure size 1000x600 with 1 Axes>"
            ],
            "image/svg+xml": "<?xml version=\"1.0\" encoding=\"utf-8\" standalone=\"no\"?>\n<!DOCTYPE svg PUBLIC \"-//W3C//DTD SVG 1.1//EN\"\n  \"http://www.w3.org/Graphics/SVG/1.1/DTD/svg11.dtd\">\n<svg xmlns:xlink=\"http://www.w3.org/1999/xlink\" width=\"621.513125pt\" height=\"378.364062pt\" viewBox=\"0 0 621.513125 378.364062\" xmlns=\"http://www.w3.org/2000/svg\" version=\"1.1\">\n <metadata>\n  <rdf:RDF xmlns:dc=\"http://purl.org/dc/elements/1.1/\" xmlns:cc=\"http://creativecommons.org/ns#\" xmlns:rdf=\"http://www.w3.org/1999/02/22-rdf-syntax-ns#\">\n   <cc:Work>\n    <dc:type rdf:resource=\"http://purl.org/dc/dcmitype/StillImage\"/>\n    <dc:date>2024-03-18T16:01:11.692700</dc:date>\n    <dc:format>image/svg+xml</dc:format>\n    <dc:creator>\n     <cc:Agent>\n      <dc:title>Matplotlib v3.7.1, https://matplotlib.org/</dc:title>\n     </cc:Agent>\n    </dc:creator>\n   </cc:Work>\n  </rdf:RDF>\n </metadata>\n <defs>\n  <style type=\"text/css\">*{stroke-linejoin: round; stroke-linecap: butt}</style>\n </defs>\n <g id=\"figure_1\">\n  <g id=\"patch_1\">\n   <path d=\"M 0 378.364062 \nL 621.513125 378.364062 \nL 621.513125 0 \nL 0 0 \nz\n\" style=\"fill: #ffffff\"/>\n  </g>\n  <g id=\"axes_1\">\n   <g id=\"patch_2\">\n    <path d=\"M 56.313125 339.84 \nL 614.313125 339.84 \nL 614.313125 7.2 \nL 56.313125 7.2 \nz\n\" style=\"fill: #eaeaf2\"/>\n   </g>\n   <g id=\"matplotlib.axis_1\">\n    <g id=\"xtick_1\">\n     <g id=\"line2d_1\">\n      <path d=\"M 81.676761 339.84 \nL 81.676761 7.2 \n\" clip-path=\"url(#p6e0b828480)\" style=\"fill: none; stroke: #ffffff; stroke-linecap: round\"/>\n     </g>\n     <g id=\"line2d_2\"/>\n     <g id=\"text_1\">\n      <!-- 0 -->\n      <g style=\"fill: #262626\" transform=\"translate(78.495511 354.438437) scale(0.1 -0.1)\">\n       <defs>\n        <path id=\"DejaVuSerif-30\" d=\"M 2034 219 \nQ 2513 219 2750 744 \nQ 2988 1269 2988 2328 \nQ 2988 3391 2750 3916 \nQ 2513 4441 2034 4441 \nQ 1556 4441 1318 3916 \nQ 1081 3391 1081 2328 \nQ 1081 1269 1318 744 \nQ 1556 219 2034 219 \nz\nM 2034 -91 \nQ 1275 -91 848 546 \nQ 422 1184 422 2328 \nQ 422 3475 848 4112 \nQ 1275 4750 2034 4750 \nQ 2797 4750 3222 4112 \nQ 3647 3475 3647 2328 \nQ 3647 1184 3222 546 \nQ 2797 -91 2034 -91 \nz\n\" transform=\"scale(0.015625)\"/>\n       </defs>\n       <use xlink:href=\"#DejaVuSerif-30\"/>\n      </g>\n     </g>\n    </g>\n    <g id=\"xtick_2\">\n     <g id=\"line2d_3\">\n      <path d=\"M 164.836225 339.84 \nL 164.836225 7.2 \n\" clip-path=\"url(#p6e0b828480)\" style=\"fill: none; stroke: #ffffff; stroke-linecap: round\"/>\n     </g>\n     <g id=\"line2d_4\"/>\n     <g id=\"text_2\">\n      <!-- 10 -->\n      <g style=\"fill: #262626\" transform=\"translate(158.473725 354.438437) scale(0.1 -0.1)\">\n       <defs>\n        <path id=\"DejaVuSerif-31\" d=\"M 909 0 \nL 909 331 \nL 1722 331 \nL 1722 4213 \nL 781 3603 \nL 781 4013 \nL 1919 4750 \nL 2350 4750 \nL 2350 331 \nL 3163 331 \nL 3163 0 \nL 909 0 \nz\n\" transform=\"scale(0.015625)\"/>\n       </defs>\n       <use xlink:href=\"#DejaVuSerif-31\"/>\n       <use xlink:href=\"#DejaVuSerif-30\" x=\"63.623047\"/>\n      </g>\n     </g>\n    </g>\n    <g id=\"xtick_3\">\n     <g id=\"line2d_5\">\n      <path d=\"M 247.995688 339.84 \nL 247.995688 7.2 \n\" clip-path=\"url(#p6e0b828480)\" style=\"fill: none; stroke: #ffffff; stroke-linecap: round\"/>\n     </g>\n     <g id=\"line2d_6\"/>\n     <g id=\"text_3\">\n      <!-- 20 -->\n      <g style=\"fill: #262626\" transform=\"translate(241.633188 354.438437) scale(0.1 -0.1)\">\n       <defs>\n        <path id=\"DejaVuSerif-32\" d=\"M 819 3553 \nL 469 3553 \nL 469 4384 \nQ 803 4563 1142 4656 \nQ 1481 4750 1806 4750 \nQ 2534 4750 2956 4397 \nQ 3378 4044 3378 3438 \nQ 3378 2753 2422 1800 \nQ 2347 1728 2309 1691 \nL 1131 513 \nL 3078 513 \nL 3078 1088 \nL 3444 1088 \nL 3444 0 \nL 434 0 \nL 434 341 \nL 1850 1753 \nQ 2319 2222 2519 2614 \nQ 2719 3006 2719 3438 \nQ 2719 3909 2473 4175 \nQ 2228 4441 1797 4441 \nQ 1350 4441 1106 4219 \nQ 863 3997 819 3553 \nz\n\" transform=\"scale(0.015625)\"/>\n       </defs>\n       <use xlink:href=\"#DejaVuSerif-32\"/>\n       <use xlink:href=\"#DejaVuSerif-30\" x=\"63.623047\"/>\n      </g>\n     </g>\n    </g>\n    <g id=\"xtick_4\">\n     <g id=\"line2d_7\">\n      <path d=\"M 331.155152 339.84 \nL 331.155152 7.2 \n\" clip-path=\"url(#p6e0b828480)\" style=\"fill: none; stroke: #ffffff; stroke-linecap: round\"/>\n     </g>\n     <g id=\"line2d_8\"/>\n     <g id=\"text_4\">\n      <!-- 30 -->\n      <g style=\"fill: #262626\" transform=\"translate(324.792652 354.438437) scale(0.1 -0.1)\">\n       <defs>\n        <path id=\"DejaVuSerif-33\" d=\"M 622 4469 \nQ 988 4606 1323 4678 \nQ 1659 4750 1953 4750 \nQ 2638 4750 3022 4454 \nQ 3406 4159 3406 3634 \nQ 3406 3213 3140 2930 \nQ 2875 2647 2388 2547 \nQ 2963 2466 3280 2130 \nQ 3597 1794 3597 1259 \nQ 3597 606 3158 257 \nQ 2719 -91 1894 -91 \nQ 1528 -91 1179 -12 \nQ 831 66 488 225 \nL 488 1131 \nL 838 1131 \nQ 869 681 1141 450 \nQ 1413 219 1906 219 \nQ 2384 219 2661 495 \nQ 2938 772 2938 1253 \nQ 2938 1803 2653 2086 \nQ 2369 2369 1819 2369 \nL 1522 2369 \nL 1522 2688 \nL 1678 2688 \nQ 2225 2688 2498 2914 \nQ 2772 3141 2772 3597 \nQ 2772 4006 2547 4223 \nQ 2322 4441 1900 4441 \nQ 1478 4441 1245 4241 \nQ 1013 4041 972 3647 \nL 622 3647 \nL 622 4469 \nz\n\" transform=\"scale(0.015625)\"/>\n       </defs>\n       <use xlink:href=\"#DejaVuSerif-33\"/>\n       <use xlink:href=\"#DejaVuSerif-30\" x=\"63.623047\"/>\n      </g>\n     </g>\n    </g>\n    <g id=\"xtick_5\">\n     <g id=\"line2d_9\">\n      <path d=\"M 414.314615 339.84 \nL 414.314615 7.2 \n\" clip-path=\"url(#p6e0b828480)\" style=\"fill: none; stroke: #ffffff; stroke-linecap: round\"/>\n     </g>\n     <g id=\"line2d_10\"/>\n     <g id=\"text_5\">\n      <!-- 40 -->\n      <g style=\"fill: #262626\" transform=\"translate(407.952115 354.438437) scale(0.1 -0.1)\">\n       <defs>\n        <path id=\"DejaVuSerif-34\" d=\"M 2234 1581 \nL 2234 4063 \nL 641 1581 \nL 2234 1581 \nz\nM 3609 0 \nL 1484 0 \nL 1484 331 \nL 2234 331 \nL 2234 1247 \nL 197 1247 \nL 197 1588 \nL 2241 4750 \nL 2859 4750 \nL 2859 1581 \nL 3750 1581 \nL 3750 1247 \nL 2859 1247 \nL 2859 331 \nL 3609 331 \nL 3609 0 \nz\n\" transform=\"scale(0.015625)\"/>\n       </defs>\n       <use xlink:href=\"#DejaVuSerif-34\"/>\n       <use xlink:href=\"#DejaVuSerif-30\" x=\"63.623047\"/>\n      </g>\n     </g>\n    </g>\n    <g id=\"xtick_6\">\n     <g id=\"line2d_11\">\n      <path d=\"M 497.474079 339.84 \nL 497.474079 7.2 \n\" clip-path=\"url(#p6e0b828480)\" style=\"fill: none; stroke: #ffffff; stroke-linecap: round\"/>\n     </g>\n     <g id=\"line2d_12\"/>\n     <g id=\"text_6\">\n      <!-- 50 -->\n      <g style=\"fill: #262626\" transform=\"translate(491.111579 354.438437) scale(0.1 -0.1)\">\n       <defs>\n        <path id=\"DejaVuSerif-35\" d=\"M 3219 4666 \nL 3219 4153 \nL 1081 4153 \nL 1081 2816 \nQ 1244 2928 1461 2984 \nQ 1678 3041 1947 3041 \nQ 2703 3041 3140 2622 \nQ 3578 2203 3578 1478 \nQ 3578 738 3136 323 \nQ 2694 -91 1894 -91 \nQ 1572 -91 1234 -12 \nQ 897 66 544 225 \nL 544 1131 \nL 897 1131 \nQ 925 688 1179 453 \nQ 1434 219 1894 219 \nQ 2388 219 2653 544 \nQ 2919 869 2919 1478 \nQ 2919 2084 2655 2407 \nQ 2391 2731 1894 2731 \nQ 1613 2731 1398 2631 \nQ 1184 2531 1019 2322 \nL 750 2322 \nL 750 4666 \nL 3219 4666 \nz\n\" transform=\"scale(0.015625)\"/>\n       </defs>\n       <use xlink:href=\"#DejaVuSerif-35\"/>\n       <use xlink:href=\"#DejaVuSerif-30\" x=\"63.623047\"/>\n      </g>\n     </g>\n    </g>\n    <g id=\"xtick_7\">\n     <g id=\"line2d_13\">\n      <path d=\"M 580.633542 339.84 \nL 580.633542 7.2 \n\" clip-path=\"url(#p6e0b828480)\" style=\"fill: none; stroke: #ffffff; stroke-linecap: round\"/>\n     </g>\n     <g id=\"line2d_14\"/>\n     <g id=\"text_7\">\n      <!-- 60 -->\n      <g style=\"fill: #262626\" transform=\"translate(574.271042 354.438437) scale(0.1 -0.1)\">\n       <defs>\n        <path id=\"DejaVuSerif-36\" d=\"M 2094 219 \nQ 2534 219 2771 542 \nQ 3009 866 3009 1472 \nQ 3009 2078 2771 2401 \nQ 2534 2725 2094 2725 \nQ 1647 2725 1412 2412 \nQ 1178 2100 1178 1509 \nQ 1178 888 1415 553 \nQ 1653 219 2094 219 \nz\nM 1075 2569 \nQ 1288 2803 1556 2918 \nQ 1825 3034 2163 3034 \nQ 2859 3034 3264 2615 \nQ 3669 2197 3669 1472 \nQ 3669 763 3233 336 \nQ 2797 -91 2069 -91 \nQ 1278 -91 853 498 \nQ 428 1088 428 2181 \nQ 428 3406 931 4078 \nQ 1434 4750 2350 4750 \nQ 2597 4750 2869 4703 \nQ 3141 4656 3425 4563 \nL 3425 3794 \nL 3072 3794 \nQ 3034 4109 2831 4275 \nQ 2628 4441 2284 4441 \nQ 1678 4441 1381 3981 \nQ 1084 3522 1075 2569 \nz\n\" transform=\"scale(0.015625)\"/>\n       </defs>\n       <use xlink:href=\"#DejaVuSerif-36\"/>\n       <use xlink:href=\"#DejaVuSerif-30\" x=\"63.623047\"/>\n      </g>\n     </g>\n    </g>\n    <g id=\"text_8\">\n     <!-- episodes -->\n     <g style=\"fill: #262626\" transform=\"translate(311.046094 368.876406) scale(0.11 -0.11)\">\n      <defs>\n       <path id=\"DejaVuSerif-65\" d=\"M 3469 1600 \nL 991 1600 \nL 991 1575 \nQ 991 903 1244 561 \nQ 1497 219 1991 219 \nQ 2369 219 2611 417 \nQ 2853 616 2950 1006 \nL 3413 1006 \nQ 3275 459 2904 184 \nQ 2534 -91 1931 -91 \nQ 1203 -91 761 389 \nQ 319 869 319 1663 \nQ 319 2450 753 2931 \nQ 1188 3413 1894 3413 \nQ 2647 3413 3050 2948 \nQ 3453 2484 3469 1600 \nz\nM 2791 1931 \nQ 2772 2513 2545 2808 \nQ 2319 3103 1894 3103 \nQ 1497 3103 1269 2806 \nQ 1041 2509 991 1931 \nL 2791 1931 \nz\n\" transform=\"scale(0.015625)\"/>\n       <path id=\"DejaVuSerif-70\" d=\"M 1313 1825 \nL 1313 1497 \nQ 1313 897 1542 583 \nQ 1772 269 2209 269 \nQ 2650 269 2876 622 \nQ 3103 975 3103 1663 \nQ 3103 2353 2876 2703 \nQ 2650 3053 2209 3053 \nQ 1772 3053 1542 2737 \nQ 1313 2422 1313 1825 \nz\nM 738 2988 \nL 184 2988 \nL 184 3322 \nL 1313 3322 \nL 1313 2803 \nQ 1481 3116 1742 3264 \nQ 2003 3413 2388 3413 \nQ 3000 3413 3387 2928 \nQ 3775 2444 3775 1663 \nQ 3775 881 3387 395 \nQ 3000 -91 2388 -91 \nQ 2003 -91 1742 57 \nQ 1481 206 1313 519 \nL 1313 -997 \nL 1856 -997 \nL 1856 -1331 \nL 184 -1331 \nL 184 -997 \nL 738 -997 \nL 738 2988 \nz\n\" transform=\"scale(0.015625)\"/>\n       <path id=\"DejaVuSerif-69\" d=\"M 622 4353 \nQ 622 4497 726 4603 \nQ 831 4709 978 4709 \nQ 1122 4709 1226 4603 \nQ 1331 4497 1331 4353 \nQ 1331 4206 1228 4103 \nQ 1125 4000 978 4000 \nQ 831 4000 726 4103 \nQ 622 4206 622 4353 \nz\nM 1356 331 \nL 1900 331 \nL 1900 0 \nL 231 0 \nL 231 331 \nL 781 331 \nL 781 2988 \nL 231 2988 \nL 231 3322 \nL 1356 3322 \nL 1356 331 \nz\n\" transform=\"scale(0.015625)\"/>\n       <path id=\"DejaVuSerif-73\" d=\"M 359 184 \nL 359 959 \nL 691 959 \nQ 703 588 923 403 \nQ 1144 219 1575 219 \nQ 1963 219 2166 364 \nQ 2369 509 2369 788 \nQ 2369 1006 2220 1140 \nQ 2072 1275 1594 1428 \nL 1178 1569 \nQ 750 1706 558 1912 \nQ 366 2119 366 2438 \nQ 366 2894 700 3153 \nQ 1034 3413 1625 3413 \nQ 1888 3413 2178 3344 \nQ 2469 3275 2778 3144 \nL 2778 2419 \nL 2447 2419 \nQ 2434 2741 2221 2922 \nQ 2009 3103 1644 3103 \nQ 1281 3103 1095 2975 \nQ 909 2847 909 2591 \nQ 909 2381 1050 2254 \nQ 1191 2128 1613 1997 \nL 2069 1856 \nQ 2541 1709 2748 1489 \nQ 2956 1269 2956 922 \nQ 2956 450 2595 179 \nQ 2234 -91 1600 -91 \nQ 1278 -91 972 -22 \nQ 666 47 359 184 \nz\n\" transform=\"scale(0.015625)\"/>\n       <path id=\"DejaVuSerif-6f\" d=\"M 1925 219 \nQ 2388 219 2623 584 \nQ 2859 950 2859 1663 \nQ 2859 2375 2623 2739 \nQ 2388 3103 1925 3103 \nQ 1463 3103 1227 2739 \nQ 991 2375 991 1663 \nQ 991 950 1228 584 \nQ 1466 219 1925 219 \nz\nM 1925 -91 \nQ 1200 -91 759 389 \nQ 319 869 319 1663 \nQ 319 2456 758 2934 \nQ 1197 3413 1925 3413 \nQ 2653 3413 3092 2934 \nQ 3531 2456 3531 1663 \nQ 3531 869 3092 389 \nQ 2653 -91 1925 -91 \nz\n\" transform=\"scale(0.015625)\"/>\n       <path id=\"DejaVuSerif-64\" d=\"M 3359 331 \nL 3909 331 \nL 3909 0 \nL 2784 0 \nL 2784 519 \nQ 2616 206 2355 57 \nQ 2094 -91 1709 -91 \nQ 1097 -91 708 395 \nQ 319 881 319 1663 \nQ 319 2444 706 2928 \nQ 1094 3413 1709 3413 \nQ 2094 3413 2355 3264 \nQ 2616 3116 2784 2803 \nL 2784 4531 \nL 2241 4531 \nL 2241 4863 \nL 3359 4863 \nL 3359 331 \nz\nM 2784 1497 \nL 2784 1825 \nQ 2784 2422 2554 2737 \nQ 2325 3053 1888 3053 \nQ 1444 3053 1217 2703 \nQ 991 2353 991 1663 \nQ 991 975 1217 622 \nQ 1444 269 1888 269 \nQ 2325 269 2554 583 \nQ 2784 897 2784 1497 \nz\n\" transform=\"scale(0.015625)\"/>\n      </defs>\n      <use xlink:href=\"#DejaVuSerif-65\"/>\n      <use xlink:href=\"#DejaVuSerif-70\" x=\"59.179688\"/>\n      <use xlink:href=\"#DejaVuSerif-69\" x=\"123.193359\"/>\n      <use xlink:href=\"#DejaVuSerif-73\" x=\"155.175781\"/>\n      <use xlink:href=\"#DejaVuSerif-6f\" x=\"206.494141\"/>\n      <use xlink:href=\"#DejaVuSerif-64\" x=\"266.699219\"/>\n      <use xlink:href=\"#DejaVuSerif-65\" x=\"330.712891\"/>\n      <use xlink:href=\"#DejaVuSerif-73\" x=\"389.892578\"/>\n     </g>\n    </g>\n   </g>\n   <g id=\"matplotlib.axis_2\">\n    <g id=\"ytick_1\">\n     <g id=\"line2d_15\">\n      <path d=\"M 56.313125 333.094086 \nL 614.313125 333.094086 \n\" clip-path=\"url(#p6e0b828480)\" style=\"fill: none; stroke: #ffffff; stroke-linecap: round\"/>\n     </g>\n     <g id=\"line2d_16\"/>\n     <g id=\"text_9\">\n      <!-- −200 -->\n      <g style=\"fill: #262626\" transform=\"translate(21.845938 336.893305) scale(0.1 -0.1)\">\n       <defs>\n        <path id=\"DejaVuSerif-2212\" d=\"M 678 2259 \nL 4684 2259 \nL 4684 1753 \nL 678 1753 \nL 678 2259 \nz\n\" transform=\"scale(0.015625)\"/>\n       </defs>\n       <use xlink:href=\"#DejaVuSerif-2212\"/>\n       <use xlink:href=\"#DejaVuSerif-32\" x=\"83.789062\"/>\n       <use xlink:href=\"#DejaVuSerif-30\" x=\"147.412109\"/>\n       <use xlink:href=\"#DejaVuSerif-30\" x=\"211.035156\"/>\n      </g>\n     </g>\n    </g>\n    <g id=\"ytick_2\">\n     <g id=\"line2d_17\">\n      <path d=\"M 56.313125 287.367806 \nL 614.313125 287.367806 \n\" clip-path=\"url(#p6e0b828480)\" style=\"fill: none; stroke: #ffffff; stroke-linecap: round\"/>\n     </g>\n     <g id=\"line2d_18\"/>\n     <g id=\"text_10\">\n      <!-- 0 -->\n      <g style=\"fill: #262626\" transform=\"translate(42.950625 291.167025) scale(0.1 -0.1)\">\n       <use xlink:href=\"#DejaVuSerif-30\"/>\n      </g>\n     </g>\n    </g>\n    <g id=\"ytick_3\">\n     <g id=\"line2d_19\">\n      <path d=\"M 56.313125 241.641527 \nL 614.313125 241.641527 \n\" clip-path=\"url(#p6e0b828480)\" style=\"fill: none; stroke: #ffffff; stroke-linecap: round\"/>\n     </g>\n     <g id=\"line2d_20\"/>\n     <g id=\"text_11\">\n      <!-- 200 -->\n      <g style=\"fill: #262626\" transform=\"translate(30.225625 245.440746) scale(0.1 -0.1)\">\n       <use xlink:href=\"#DejaVuSerif-32\"/>\n       <use xlink:href=\"#DejaVuSerif-30\" x=\"63.623047\"/>\n       <use xlink:href=\"#DejaVuSerif-30\" x=\"127.246094\"/>\n      </g>\n     </g>\n    </g>\n    <g id=\"ytick_4\">\n     <g id=\"line2d_21\">\n      <path d=\"M 56.313125 195.915247 \nL 614.313125 195.915247 \n\" clip-path=\"url(#p6e0b828480)\" style=\"fill: none; stroke: #ffffff; stroke-linecap: round\"/>\n     </g>\n     <g id=\"line2d_22\"/>\n     <g id=\"text_12\">\n      <!-- 400 -->\n      <g style=\"fill: #262626\" transform=\"translate(30.225625 199.714466) scale(0.1 -0.1)\">\n       <use xlink:href=\"#DejaVuSerif-34\"/>\n       <use xlink:href=\"#DejaVuSerif-30\" x=\"63.623047\"/>\n       <use xlink:href=\"#DejaVuSerif-30\" x=\"127.246094\"/>\n      </g>\n     </g>\n    </g>\n    <g id=\"ytick_5\">\n     <g id=\"line2d_23\">\n      <path d=\"M 56.313125 150.188968 \nL 614.313125 150.188968 \n\" clip-path=\"url(#p6e0b828480)\" style=\"fill: none; stroke: #ffffff; stroke-linecap: round\"/>\n     </g>\n     <g id=\"line2d_24\"/>\n     <g id=\"text_13\">\n      <!-- 600 -->\n      <g style=\"fill: #262626\" transform=\"translate(30.225625 153.988187) scale(0.1 -0.1)\">\n       <use xlink:href=\"#DejaVuSerif-36\"/>\n       <use xlink:href=\"#DejaVuSerif-30\" x=\"63.623047\"/>\n       <use xlink:href=\"#DejaVuSerif-30\" x=\"127.246094\"/>\n      </g>\n     </g>\n    </g>\n    <g id=\"ytick_6\">\n     <g id=\"line2d_25\">\n      <path d=\"M 56.313125 104.462688 \nL 614.313125 104.462688 \n\" clip-path=\"url(#p6e0b828480)\" style=\"fill: none; stroke: #ffffff; stroke-linecap: round\"/>\n     </g>\n     <g id=\"line2d_26\"/>\n     <g id=\"text_14\">\n      <!-- 800 -->\n      <g style=\"fill: #262626\" transform=\"translate(30.225625 108.261907) scale(0.1 -0.1)\">\n       <defs>\n        <path id=\"DejaVuSerif-38\" d=\"M 2981 1275 \nQ 2981 1775 2732 2051 \nQ 2484 2328 2034 2328 \nQ 1584 2328 1336 2051 \nQ 1088 1775 1088 1275 \nQ 1088 772 1336 495 \nQ 1584 219 2034 219 \nQ 2484 219 2732 495 \nQ 2981 772 2981 1275 \nz\nM 2853 3541 \nQ 2853 3966 2637 4203 \nQ 2422 4441 2034 4441 \nQ 1650 4441 1433 4203 \nQ 1216 3966 1216 3541 \nQ 1216 3113 1433 2875 \nQ 1650 2638 2034 2638 \nQ 2422 2638 2637 2875 \nQ 2853 3113 2853 3541 \nz\nM 2516 2484 \nQ 3047 2413 3344 2092 \nQ 3641 1772 3641 1275 \nQ 3641 619 3225 264 \nQ 2809 -91 2034 -91 \nQ 1263 -91 845 264 \nQ 428 619 428 1275 \nQ 428 1772 725 2092 \nQ 1022 2413 1556 2484 \nQ 1084 2569 832 2842 \nQ 581 3116 581 3541 \nQ 581 4103 968 4426 \nQ 1356 4750 2034 4750 \nQ 2713 4750 3100 4426 \nQ 3488 4103 3488 3541 \nQ 3488 3116 3236 2842 \nQ 2984 2569 2516 2484 \nz\n\" transform=\"scale(0.015625)\"/>\n       </defs>\n       <use xlink:href=\"#DejaVuSerif-38\"/>\n       <use xlink:href=\"#DejaVuSerif-30\" x=\"63.623047\"/>\n       <use xlink:href=\"#DejaVuSerif-30\" x=\"127.246094\"/>\n      </g>\n     </g>\n    </g>\n    <g id=\"ytick_7\">\n     <g id=\"line2d_27\">\n      <path d=\"M 56.313125 58.736409 \nL 614.313125 58.736409 \n\" clip-path=\"url(#p6e0b828480)\" style=\"fill: none; stroke: #ffffff; stroke-linecap: round\"/>\n     </g>\n     <g id=\"line2d_28\"/>\n     <g id=\"text_15\">\n      <!-- 1000 -->\n      <g style=\"fill: #262626\" transform=\"translate(23.863125 62.535628) scale(0.1 -0.1)\">\n       <use xlink:href=\"#DejaVuSerif-31\"/>\n       <use xlink:href=\"#DejaVuSerif-30\" x=\"63.623047\"/>\n       <use xlink:href=\"#DejaVuSerif-30\" x=\"127.246094\"/>\n       <use xlink:href=\"#DejaVuSerif-30\" x=\"190.869141\"/>\n      </g>\n     </g>\n    </g>\n    <g id=\"ytick_8\">\n     <g id=\"line2d_29\">\n      <path d=\"M 56.313125 13.010129 \nL 614.313125 13.010129 \n\" clip-path=\"url(#p6e0b828480)\" style=\"fill: none; stroke: #ffffff; stroke-linecap: round\"/>\n     </g>\n     <g id=\"line2d_30\"/>\n     <g id=\"text_16\">\n      <!-- 1200 -->\n      <g style=\"fill: #262626\" transform=\"translate(23.863125 16.809348) scale(0.1 -0.1)\">\n       <use xlink:href=\"#DejaVuSerif-31\"/>\n       <use xlink:href=\"#DejaVuSerif-32\" x=\"63.623047\"/>\n       <use xlink:href=\"#DejaVuSerif-30\" x=\"127.246094\"/>\n       <use xlink:href=\"#DejaVuSerif-30\" x=\"190.869141\"/>\n      </g>\n     </g>\n    </g>\n    <g id=\"text_17\">\n     <!-- total reward -->\n     <g style=\"fill: #262626\" transform=\"translate(15.558281 208.059141) rotate(-90) scale(0.11 -0.11)\">\n      <defs>\n       <path id=\"DejaVuSerif-74\" d=\"M 691 2988 \nL 184 2988 \nL 184 3322 \nL 691 3322 \nL 691 4353 \nL 1269 4353 \nL 1269 3322 \nL 2350 3322 \nL 2350 2988 \nL 1269 2988 \nL 1269 878 \nQ 1269 456 1350 337 \nQ 1431 219 1650 219 \nQ 1875 219 1978 351 \nQ 2081 484 2088 781 \nL 2522 781 \nQ 2497 328 2275 118 \nQ 2053 -91 1600 -91 \nQ 1103 -91 897 129 \nQ 691 350 691 878 \nL 691 2988 \nz\n\" transform=\"scale(0.015625)\"/>\n       <path id=\"DejaVuSerif-61\" d=\"M 2547 1044 \nL 2547 1747 \nL 1806 1747 \nQ 1378 1747 1168 1562 \nQ 959 1378 959 997 \nQ 959 650 1171 447 \nQ 1384 244 1747 244 \nQ 2106 244 2326 466 \nQ 2547 688 2547 1044 \nz\nM 3122 2075 \nL 3122 331 \nL 3634 331 \nL 3634 0 \nL 2547 0 \nL 2547 359 \nQ 2356 128 2106 18 \nQ 1856 -91 1522 -91 \nQ 969 -91 644 203 \nQ 319 497 319 997 \nQ 319 1513 691 1797 \nQ 1063 2081 1741 2081 \nL 2547 2081 \nL 2547 2309 \nQ 2547 2688 2317 2895 \nQ 2088 3103 1672 3103 \nQ 1328 3103 1125 2947 \nQ 922 2791 872 2484 \nL 575 2484 \nL 575 3156 \nQ 875 3284 1158 3348 \nQ 1441 3413 1709 3413 \nQ 2400 3413 2761 3070 \nQ 3122 2728 3122 2075 \nz\n\" transform=\"scale(0.015625)\"/>\n       <path id=\"DejaVuSerif-6c\" d=\"M 1313 331 \nL 1856 331 \nL 1856 0 \nL 184 0 \nL 184 331 \nL 738 331 \nL 738 4531 \nL 184 4531 \nL 184 4863 \nL 1313 4863 \nL 1313 331 \nz\n\" transform=\"scale(0.015625)\"/>\n       <path id=\"DejaVuSerif-20\" transform=\"scale(0.015625)\"/>\n       <path id=\"DejaVuSerif-72\" d=\"M 3059 3328 \nL 3059 2497 \nL 2728 2497 \nQ 2713 2744 2591 2866 \nQ 2469 2988 2234 2988 \nQ 1809 2988 1582 2694 \nQ 1356 2400 1356 1850 \nL 1356 331 \nL 2022 331 \nL 2022 0 \nL 263 0 \nL 263 331 \nL 781 331 \nL 781 2994 \nL 231 2994 \nL 231 3322 \nL 1356 3322 \nL 1356 2731 \nQ 1525 3078 1790 3245 \nQ 2056 3413 2438 3413 \nQ 2578 3413 2733 3391 \nQ 2888 3369 3059 3328 \nz\n\" transform=\"scale(0.015625)\"/>\n       <path id=\"DejaVuSerif-77\" d=\"M 3072 3322 \nL 3922 728 \nL 4672 2988 \nL 4191 2988 \nL 4191 3322 \nL 5394 3322 \nL 5394 2988 \nL 5025 2988 \nL 4038 0 \nL 3559 0 \nL 2741 2484 \nL 1919 0 \nL 1459 0 \nL 475 2988 \nL 103 2988 \nL 103 3322 \nL 1606 3322 \nL 1606 2988 \nL 1069 2988 \nL 1813 728 \nL 2669 3322 \nL 3072 3322 \nz\n\" transform=\"scale(0.015625)\"/>\n      </defs>\n      <use xlink:href=\"#DejaVuSerif-74\"/>\n      <use xlink:href=\"#DejaVuSerif-6f\" x=\"40.185547\"/>\n      <use xlink:href=\"#DejaVuSerif-74\" x=\"100.390625\"/>\n      <use xlink:href=\"#DejaVuSerif-61\" x=\"140.576172\"/>\n      <use xlink:href=\"#DejaVuSerif-6c\" x=\"200.195312\"/>\n      <use xlink:href=\"#DejaVuSerif-20\" x=\"232.177734\"/>\n      <use xlink:href=\"#DejaVuSerif-72\" x=\"263.964844\"/>\n      <use xlink:href=\"#DejaVuSerif-65\" x=\"311.767578\"/>\n      <use xlink:href=\"#DejaVuSerif-77\" x=\"370.947266\"/>\n      <use xlink:href=\"#DejaVuSerif-61\" x=\"456.542969\"/>\n      <use xlink:href=\"#DejaVuSerif-72\" x=\"516.162109\"/>\n      <use xlink:href=\"#DejaVuSerif-64\" x=\"563.964844\"/>\n     </g>\n    </g>\n   </g>\n   <g id=\"line2d_31\">\n    <path d=\"M 81.676761 285.447303 \nL 89.992708 284.27671 \nL 98.308654 266.04107 \nL 106.6246 265.044237 \nL 114.940547 246.808597 \nL 123.256493 228.572956 \nL 131.572439 210.337316 \nL 139.888386 208.791768 \nL 148.204332 190.556128 \nL 156.520279 189.431261 \nL 164.836225 177.853367 \nL 173.152171 173.792873 \nL 181.468118 161.986348 \nL 189.784064 143.750708 \nL 198.10001 140.156622 \nL 206.415957 137.75142 \nL 214.731903 126.283269 \nL 223.047849 108.047629 \nL 231.363796 106.264304 \nL 239.679742 91.522151 \nL 247.995688 73.286511 \nL 256.311635 60.3917 \nL 264.627581 55.947106 \nL 272.943527 37.711466 \nL 281.259474 26.225024 \nL 289.57542 22.32 \nL 297.891366 22.850425 \nL 306.207313 37.354801 \nL 314.523259 37.354801 \nL 322.839205 37.354801 \nL 331.155152 52.224987 \nL 339.471098 68.25662 \nL 347.787045 68.494397 \nL 356.102991 85.41312 \nL 364.418937 74.804624 \nL 372.734884 82.495784 \nL 381.05083 85.778931 \nL 389.366776 81.169722 \nL 397.682723 94.915041 \nL 405.998669 80.273487 \nL 414.314615 64.443049 \nL 422.630562 64.159546 \nL 430.946508 81.572113 \nL 439.262454 82.102538 \nL 447.578401 78.60905 \nL 455.894347 93.305476 \nL 464.210293 105.432086 \nL 472.52624 109.245657 \nL 480.842186 112.565385 \nL 489.158132 118.875612 \nL 497.474079 119.808428 \nL 505.790025 104.88337 \nL 514.105971 92.098303 \nL 522.421918 92.317789 \nL 530.737864 109.840099 \nL 539.053811 94.969913 \nL 547.369757 96.47888 \nL 555.685703 86.583713 \nL 564.00165 69.66499 \nL 572.317596 68.741319 \nL 580.633542 65.339284 \n\" clip-path=\"url(#p6e0b828480)\" style=\"fill: none; stroke: #4c72b0; stroke-width: 1.75; stroke-linecap: round\"/>\n   </g>\n   <g id=\"line2d_32\">\n    <path d=\"M 89.992708 324.72 \nL 98.308654 303.025121 \nL 106.6246 282.50542 \nL 114.940547 263.131075 \nL 123.256493 244.872263 \nL 131.572439 227.699165 \nL 139.888386 211.581957 \nL 148.204332 196.490818 \nL 156.520279 182.395928 \nL 164.836225 169.267463 \nL 173.152171 157.075603 \nL 181.468118 145.790526 \nL 189.784064 135.382411 \nL 198.10001 125.821435 \nL 206.415957 117.077777 \nL 214.731903 109.121616 \nL 223.047849 101.92313 \nL 231.363796 95.452498 \nL 239.679742 89.679897 \nL 247.995688 84.575507 \nL 256.311635 80.109505 \nL 264.627581 76.25207 \nL 272.943527 72.97338 \nL 281.259474 70.243615 \nL 289.57542 68.032951 \nL 297.891366 66.311569 \nL 306.207313 65.049645 \nL 314.523259 64.217359 \nL 322.839205 63.784888 \nL 331.155152 63.722412 \nL 339.471098 64.000109 \nL 347.787045 64.588156 \nL 356.102991 65.456733 \nL 364.418937 66.576018 \nL 372.734884 67.916189 \nL 381.05083 69.447425 \nL 389.366776 71.139904 \nL 397.682723 72.963805 \nL 405.998669 74.889305 \nL 414.314615 76.886584 \nL 422.630562 78.925819 \nL 430.946508 80.97719 \nL 439.262454 83.010874 \nL 447.578401 84.99705 \nL 455.894347 86.905896 \nL 464.210293 88.707591 \nL 472.52624 90.372314 \nL 480.842186 91.870241 \nL 489.158132 93.171553 \nL 497.474079 94.246427 \nL 505.790025 95.065042 \nL 514.105971 95.597576 \nL 522.421918 95.814207 \nL 530.737864 95.685114 \nL 539.053811 95.180476 \nL 547.369757 94.270471 \nL 555.685703 92.925276 \nL 564.00165 91.115072 \nL 572.317596 88.810035 \nL 580.633542 85.980345 \nL 588.949489 82.596179 \n\" clip-path=\"url(#p6e0b828480)\" style=\"fill: none; stroke-dasharray: 6.475,2.8; stroke-dashoffset: 0; stroke: #ff0000; stroke-width: 1.75\"/>\n   </g>\n   <g id=\"patch_3\">\n    <path d=\"M 56.313125 339.84 \nL 56.313125 7.2 \n\" style=\"fill: none\"/>\n   </g>\n   <g id=\"patch_4\">\n    <path d=\"M 614.313125 339.84 \nL 614.313125 7.2 \n\" style=\"fill: none\"/>\n   </g>\n   <g id=\"patch_5\">\n    <path d=\"M 56.313125 339.84 \nL 614.313125 339.84 \n\" style=\"fill: none\"/>\n   </g>\n   <g id=\"patch_6\">\n    <path d=\"M 56.313125 7.2 \nL 614.313125 7.2 \n\" style=\"fill: none\"/>\n   </g>\n   <g id=\"legend_1\">\n    <g id=\"line2d_33\">\n     <path d=\"M 496.3475 20.298437 \nL 506.3475 20.298437 \nL 516.3475 20.298437 \n\" style=\"fill: none; stroke: #4c72b0; stroke-width: 1.75; stroke-linecap: round\"/>\n    </g>\n    <g id=\"text_18\">\n     <!-- moving average -->\n     <g style=\"fill: #262626\" transform=\"translate(524.3475 23.798437) scale(0.1 -0.1)\">\n      <defs>\n       <path id=\"DejaVuSerif-6d\" d=\"M 3316 2675 \nQ 3481 3041 3739 3227 \nQ 3997 3413 4341 3413 \nQ 4863 3413 5119 3089 \nQ 5375 2766 5375 2113 \nL 5375 331 \nL 5894 331 \nL 5894 0 \nL 4300 0 \nL 4300 331 \nL 4800 331 \nL 4800 2047 \nQ 4800 2556 4650 2772 \nQ 4500 2988 4153 2988 \nQ 3769 2988 3567 2697 \nQ 3366 2406 3366 1850 \nL 3366 331 \nL 3866 331 \nL 3866 0 \nL 2291 0 \nL 2291 331 \nL 2791 331 \nL 2791 2069 \nQ 2791 2566 2641 2777 \nQ 2491 2988 2144 2988 \nQ 1759 2988 1557 2697 \nQ 1356 2406 1356 1850 \nL 1356 331 \nL 1856 331 \nL 1856 0 \nL 263 0 \nL 263 331 \nL 781 331 \nL 781 2994 \nL 231 2994 \nL 231 3322 \nL 1356 3322 \nL 1356 2731 \nQ 1516 3063 1762 3238 \nQ 2009 3413 2322 3413 \nQ 2709 3413 2968 3220 \nQ 3228 3028 3316 2675 \nz\n\" transform=\"scale(0.015625)\"/>\n       <path id=\"DejaVuSerif-76\" d=\"M 1581 0 \nL 359 2988 \nL -19 2988 \nL -19 3322 \nL 1509 3322 \nL 1509 2988 \nL 978 2988 \nL 1913 703 \nL 2847 2988 \nL 2350 2988 \nL 2350 3322 \nL 3597 3322 \nL 3597 2988 \nL 3225 2988 \nL 2003 0 \nL 1581 0 \nz\n\" transform=\"scale(0.015625)\"/>\n       <path id=\"DejaVuSerif-6e\" d=\"M 263 0 \nL 263 331 \nL 781 331 \nL 781 2988 \nL 231 2988 \nL 231 3322 \nL 1356 3322 \nL 1356 2731 \nQ 1516 3069 1770 3241 \nQ 2025 3413 2363 3413 \nQ 2913 3413 3172 3097 \nQ 3431 2781 3431 2113 \nL 3431 331 \nL 3944 331 \nL 3944 0 \nL 2356 0 \nL 2356 331 \nL 2853 331 \nL 2853 1931 \nQ 2853 2541 2703 2767 \nQ 2553 2994 2175 2994 \nQ 1775 2994 1565 2701 \nQ 1356 2409 1356 1850 \nL 1356 331 \nL 1856 331 \nL 1856 0 \nL 263 0 \nz\n\" transform=\"scale(0.015625)\"/>\n       <path id=\"DejaVuSerif-67\" d=\"M 3359 2988 \nL 3359 72 \nQ 3359 -644 2965 -1033 \nQ 2572 -1422 1844 -1422 \nQ 1516 -1422 1216 -1362 \nQ 916 -1303 641 -1184 \nL 641 -488 \nL 941 -488 \nQ 997 -813 1206 -963 \nQ 1416 -1113 1806 -1113 \nQ 2313 -1113 2548 -827 \nQ 2784 -541 2784 72 \nL 2784 519 \nQ 2616 206 2355 57 \nQ 2094 -91 1709 -91 \nQ 1097 -91 708 395 \nQ 319 881 319 1663 \nQ 319 2444 706 2928 \nQ 1094 3413 1709 3413 \nQ 2094 3413 2355 3264 \nQ 2616 3116 2784 2803 \nL 2784 3322 \nL 3909 3322 \nL 3909 2988 \nL 3359 2988 \nz\nM 2784 1825 \nQ 2784 2422 2554 2737 \nQ 2325 3053 1888 3053 \nQ 1444 3053 1217 2703 \nQ 991 2353 991 1663 \nQ 991 975 1217 622 \nQ 1444 269 1888 269 \nQ 2325 269 2554 583 \nQ 2784 897 2784 1497 \nL 2784 1825 \nz\n\" transform=\"scale(0.015625)\"/>\n      </defs>\n      <use xlink:href=\"#DejaVuSerif-6d\"/>\n      <use xlink:href=\"#DejaVuSerif-6f\" x=\"94.824219\"/>\n      <use xlink:href=\"#DejaVuSerif-76\" x=\"155.029297\"/>\n      <use xlink:href=\"#DejaVuSerif-69\" x=\"211.523438\"/>\n      <use xlink:href=\"#DejaVuSerif-6e\" x=\"243.505859\"/>\n      <use xlink:href=\"#DejaVuSerif-67\" x=\"307.910156\"/>\n      <use xlink:href=\"#DejaVuSerif-20\" x=\"371.923828\"/>\n      <use xlink:href=\"#DejaVuSerif-61\" x=\"403.710938\"/>\n      <use xlink:href=\"#DejaVuSerif-76\" x=\"463.330078\"/>\n      <use xlink:href=\"#DejaVuSerif-65\" x=\"519.824219\"/>\n      <use xlink:href=\"#DejaVuSerif-72\" x=\"579.003906\"/>\n      <use xlink:href=\"#DejaVuSerif-61\" x=\"626.806641\"/>\n      <use xlink:href=\"#DejaVuSerif-67\" x=\"686.425781\"/>\n      <use xlink:href=\"#DejaVuSerif-65\" x=\"750.439453\"/>\n     </g>\n    </g>\n    <g id=\"line2d_34\">\n     <path d=\"M 496.3475 35.11875 \nL 506.3475 35.11875 \nL 516.3475 35.11875 \n\" style=\"fill: none; stroke-dasharray: 6.475,2.8; stroke-dashoffset: 0; stroke: #ff0000; stroke-width: 1.75\"/>\n    </g>\n    <g id=\"text_19\">\n     <!-- regression -->\n     <g style=\"fill: #262626\" transform=\"translate(524.3475 38.61875) scale(0.1 -0.1)\">\n      <use xlink:href=\"#DejaVuSerif-72\"/>\n      <use xlink:href=\"#DejaVuSerif-65\" x=\"47.802734\"/>\n      <use xlink:href=\"#DejaVuSerif-67\" x=\"106.982422\"/>\n      <use xlink:href=\"#DejaVuSerif-72\" x=\"170.996094\"/>\n      <use xlink:href=\"#DejaVuSerif-65\" x=\"218.798828\"/>\n      <use xlink:href=\"#DejaVuSerif-73\" x=\"277.978516\"/>\n      <use xlink:href=\"#DejaVuSerif-73\" x=\"329.296875\"/>\n      <use xlink:href=\"#DejaVuSerif-69\" x=\"380.615234\"/>\n      <use xlink:href=\"#DejaVuSerif-6f\" x=\"412.597656\"/>\n      <use xlink:href=\"#DejaVuSerif-6e\" x=\"472.802734\"/>\n     </g>\n    </g>\n   </g>\n  </g>\n </g>\n <defs>\n  <clipPath id=\"p6e0b828480\">\n   <rect x=\"56.313125\" y=\"7.2\" width=\"558\" height=\"332.64\"/>\n  </clipPath>\n </defs>\n</svg>\n"
          },
          "metadata": {}
        }
      ]
    },
    {
      "cell_type": "code",
      "source": [
        "plt.figure(figsize=(10, 6))\n",
        "x = range(1, len(agent.performances) + 1)\n",
        "y = np.polyval(np.polyfit(x, agent.performances, deg=3), x)\n",
        "y_ = np.polyval(np.polyfit(x, agent.vperformances, deg=3), x)\n",
        "plt.plot(agent.performances[:], label='training')\n",
        "plt.plot(agent.vperformances[:], label='validation')\n",
        "plt.plot(x, y, 'r--', label='regression (train)')\n",
        "plt.plot(x, y_, 'r-.', label='regression (valid)')\n",
        "plt.xlabel('episodes')\n",
        "plt.ylabel('gross performance')\n",
        "plt.legend();"
      ],
      "metadata": {
        "colab": {
          "base_uri": "https://localhost:8080/",
          "height": 525
        },
        "id": "MH5egC8vL6Wq",
        "outputId": "57dffa88-82a8-4fa3-f89c-63a6e688713b"
      },
      "execution_count": 41,
      "outputs": [
        {
          "output_type": "display_data",
          "data": {
            "text/plain": [
              "<Figure size 1000x600 with 1 Axes>"
            ],
            "image/svg+xml": "<?xml version=\"1.0\" encoding=\"utf-8\" standalone=\"no\"?>\n<!DOCTYPE svg PUBLIC \"-//W3C//DTD SVG 1.1//EN\"\n  \"http://www.w3.org/Graphics/SVG/1.1/DTD/svg11.dtd\">\n<svg xmlns:xlink=\"http://www.w3.org/1999/xlink\" width=\"610.105469pt\" height=\"378.364063pt\" viewBox=\"0 0 610.105469 378.364063\" xmlns=\"http://www.w3.org/2000/svg\" version=\"1.1\">\n <metadata>\n  <rdf:RDF xmlns:dc=\"http://purl.org/dc/elements/1.1/\" xmlns:cc=\"http://creativecommons.org/ns#\" xmlns:rdf=\"http://www.w3.org/1999/02/22-rdf-syntax-ns#\">\n   <cc:Work>\n    <dc:type rdf:resource=\"http://purl.org/dc/dcmitype/StillImage\"/>\n    <dc:date>2024-03-18T16:01:12.098766</dc:date>\n    <dc:format>image/svg+xml</dc:format>\n    <dc:creator>\n     <cc:Agent>\n      <dc:title>Matplotlib v3.7.1, https://matplotlib.org/</dc:title>\n     </cc:Agent>\n    </dc:creator>\n   </cc:Work>\n  </rdf:RDF>\n </metadata>\n <defs>\n  <style type=\"text/css\">*{stroke-linejoin: round; stroke-linecap: butt}</style>\n </defs>\n <g id=\"figure_1\">\n  <g id=\"patch_1\">\n   <path d=\"M 0 378.364063 \nL 610.105469 378.364063 \nL 610.105469 0 \nL 0 0 \nz\n\" style=\"fill: #ffffff\"/>\n  </g>\n  <g id=\"axes_1\">\n   <g id=\"patch_2\">\n    <path d=\"M 44.905469 339.84 \nL 602.905469 339.84 \nL 602.905469 7.2 \nL 44.905469 7.2 \nz\n\" style=\"fill: #eaeaf2\"/>\n   </g>\n   <g id=\"matplotlib.axis_1\">\n    <g id=\"xtick_1\">\n     <g id=\"line2d_1\">\n      <path d=\"M 70.269105 339.84 \nL 70.269105 7.2 \n\" clip-path=\"url(#pede7819f9f)\" style=\"fill: none; stroke: #ffffff; stroke-linecap: round\"/>\n     </g>\n     <g id=\"line2d_2\"/>\n     <g id=\"text_1\">\n      <!-- 0 -->\n      <g style=\"fill: #262626\" transform=\"translate(67.087855 354.438438) scale(0.1 -0.1)\">\n       <defs>\n        <path id=\"DejaVuSerif-30\" d=\"M 2034 219 \nQ 2513 219 2750 744 \nQ 2988 1269 2988 2328 \nQ 2988 3391 2750 3916 \nQ 2513 4441 2034 4441 \nQ 1556 4441 1318 3916 \nQ 1081 3391 1081 2328 \nQ 1081 1269 1318 744 \nQ 1556 219 2034 219 \nz\nM 2034 -91 \nQ 1275 -91 848 546 \nQ 422 1184 422 2328 \nQ 422 3475 848 4112 \nQ 1275 4750 2034 4750 \nQ 2797 4750 3222 4112 \nQ 3647 3475 3647 2328 \nQ 3647 1184 3222 546 \nQ 2797 -91 2034 -91 \nz\n\" transform=\"scale(0.015625)\"/>\n       </defs>\n       <use xlink:href=\"#DejaVuSerif-30\"/>\n      </g>\n     </g>\n    </g>\n    <g id=\"xtick_2\">\n     <g id=\"line2d_3\">\n      <path d=\"M 153.428569 339.84 \nL 153.428569 7.2 \n\" clip-path=\"url(#pede7819f9f)\" style=\"fill: none; stroke: #ffffff; stroke-linecap: round\"/>\n     </g>\n     <g id=\"line2d_4\"/>\n     <g id=\"text_2\">\n      <!-- 10 -->\n      <g style=\"fill: #262626\" transform=\"translate(147.066069 354.438438) scale(0.1 -0.1)\">\n       <defs>\n        <path id=\"DejaVuSerif-31\" d=\"M 909 0 \nL 909 331 \nL 1722 331 \nL 1722 4213 \nL 781 3603 \nL 781 4013 \nL 1919 4750 \nL 2350 4750 \nL 2350 331 \nL 3163 331 \nL 3163 0 \nL 909 0 \nz\n\" transform=\"scale(0.015625)\"/>\n       </defs>\n       <use xlink:href=\"#DejaVuSerif-31\"/>\n       <use xlink:href=\"#DejaVuSerif-30\" x=\"63.623047\"/>\n      </g>\n     </g>\n    </g>\n    <g id=\"xtick_3\">\n     <g id=\"line2d_5\">\n      <path d=\"M 236.588032 339.84 \nL 236.588032 7.2 \n\" clip-path=\"url(#pede7819f9f)\" style=\"fill: none; stroke: #ffffff; stroke-linecap: round\"/>\n     </g>\n     <g id=\"line2d_6\"/>\n     <g id=\"text_3\">\n      <!-- 20 -->\n      <g style=\"fill: #262626\" transform=\"translate(230.225532 354.438438) scale(0.1 -0.1)\">\n       <defs>\n        <path id=\"DejaVuSerif-32\" d=\"M 819 3553 \nL 469 3553 \nL 469 4384 \nQ 803 4563 1142 4656 \nQ 1481 4750 1806 4750 \nQ 2534 4750 2956 4397 \nQ 3378 4044 3378 3438 \nQ 3378 2753 2422 1800 \nQ 2347 1728 2309 1691 \nL 1131 513 \nL 3078 513 \nL 3078 1088 \nL 3444 1088 \nL 3444 0 \nL 434 0 \nL 434 341 \nL 1850 1753 \nQ 2319 2222 2519 2614 \nQ 2719 3006 2719 3438 \nQ 2719 3909 2473 4175 \nQ 2228 4441 1797 4441 \nQ 1350 4441 1106 4219 \nQ 863 3997 819 3553 \nz\n\" transform=\"scale(0.015625)\"/>\n       </defs>\n       <use xlink:href=\"#DejaVuSerif-32\"/>\n       <use xlink:href=\"#DejaVuSerif-30\" x=\"63.623047\"/>\n      </g>\n     </g>\n    </g>\n    <g id=\"xtick_4\">\n     <g id=\"line2d_7\">\n      <path d=\"M 319.747496 339.84 \nL 319.747496 7.2 \n\" clip-path=\"url(#pede7819f9f)\" style=\"fill: none; stroke: #ffffff; stroke-linecap: round\"/>\n     </g>\n     <g id=\"line2d_8\"/>\n     <g id=\"text_4\">\n      <!-- 30 -->\n      <g style=\"fill: #262626\" transform=\"translate(313.384996 354.438438) scale(0.1 -0.1)\">\n       <defs>\n        <path id=\"DejaVuSerif-33\" d=\"M 622 4469 \nQ 988 4606 1323 4678 \nQ 1659 4750 1953 4750 \nQ 2638 4750 3022 4454 \nQ 3406 4159 3406 3634 \nQ 3406 3213 3140 2930 \nQ 2875 2647 2388 2547 \nQ 2963 2466 3280 2130 \nQ 3597 1794 3597 1259 \nQ 3597 606 3158 257 \nQ 2719 -91 1894 -91 \nQ 1528 -91 1179 -12 \nQ 831 66 488 225 \nL 488 1131 \nL 838 1131 \nQ 869 681 1141 450 \nQ 1413 219 1906 219 \nQ 2384 219 2661 495 \nQ 2938 772 2938 1253 \nQ 2938 1803 2653 2086 \nQ 2369 2369 1819 2369 \nL 1522 2369 \nL 1522 2688 \nL 1678 2688 \nQ 2225 2688 2498 2914 \nQ 2772 3141 2772 3597 \nQ 2772 4006 2547 4223 \nQ 2322 4441 1900 4441 \nQ 1478 4441 1245 4241 \nQ 1013 4041 972 3647 \nL 622 3647 \nL 622 4469 \nz\n\" transform=\"scale(0.015625)\"/>\n       </defs>\n       <use xlink:href=\"#DejaVuSerif-33\"/>\n       <use xlink:href=\"#DejaVuSerif-30\" x=\"63.623047\"/>\n      </g>\n     </g>\n    </g>\n    <g id=\"xtick_5\">\n     <g id=\"line2d_9\">\n      <path d=\"M 402.906959 339.84 \nL 402.906959 7.2 \n\" clip-path=\"url(#pede7819f9f)\" style=\"fill: none; stroke: #ffffff; stroke-linecap: round\"/>\n     </g>\n     <g id=\"line2d_10\"/>\n     <g id=\"text_5\">\n      <!-- 40 -->\n      <g style=\"fill: #262626\" transform=\"translate(396.544459 354.438438) scale(0.1 -0.1)\">\n       <defs>\n        <path id=\"DejaVuSerif-34\" d=\"M 2234 1581 \nL 2234 4063 \nL 641 1581 \nL 2234 1581 \nz\nM 3609 0 \nL 1484 0 \nL 1484 331 \nL 2234 331 \nL 2234 1247 \nL 197 1247 \nL 197 1588 \nL 2241 4750 \nL 2859 4750 \nL 2859 1581 \nL 3750 1581 \nL 3750 1247 \nL 2859 1247 \nL 2859 331 \nL 3609 331 \nL 3609 0 \nz\n\" transform=\"scale(0.015625)\"/>\n       </defs>\n       <use xlink:href=\"#DejaVuSerif-34\"/>\n       <use xlink:href=\"#DejaVuSerif-30\" x=\"63.623047\"/>\n      </g>\n     </g>\n    </g>\n    <g id=\"xtick_6\">\n     <g id=\"line2d_11\">\n      <path d=\"M 486.066423 339.84 \nL 486.066423 7.2 \n\" clip-path=\"url(#pede7819f9f)\" style=\"fill: none; stroke: #ffffff; stroke-linecap: round\"/>\n     </g>\n     <g id=\"line2d_12\"/>\n     <g id=\"text_6\">\n      <!-- 50 -->\n      <g style=\"fill: #262626\" transform=\"translate(479.703923 354.438438) scale(0.1 -0.1)\">\n       <defs>\n        <path id=\"DejaVuSerif-35\" d=\"M 3219 4666 \nL 3219 4153 \nL 1081 4153 \nL 1081 2816 \nQ 1244 2928 1461 2984 \nQ 1678 3041 1947 3041 \nQ 2703 3041 3140 2622 \nQ 3578 2203 3578 1478 \nQ 3578 738 3136 323 \nQ 2694 -91 1894 -91 \nQ 1572 -91 1234 -12 \nQ 897 66 544 225 \nL 544 1131 \nL 897 1131 \nQ 925 688 1179 453 \nQ 1434 219 1894 219 \nQ 2388 219 2653 544 \nQ 2919 869 2919 1478 \nQ 2919 2084 2655 2407 \nQ 2391 2731 1894 2731 \nQ 1613 2731 1398 2631 \nQ 1184 2531 1019 2322 \nL 750 2322 \nL 750 4666 \nL 3219 4666 \nz\n\" transform=\"scale(0.015625)\"/>\n       </defs>\n       <use xlink:href=\"#DejaVuSerif-35\"/>\n       <use xlink:href=\"#DejaVuSerif-30\" x=\"63.623047\"/>\n      </g>\n     </g>\n    </g>\n    <g id=\"xtick_7\">\n     <g id=\"line2d_13\">\n      <path d=\"M 569.225886 339.84 \nL 569.225886 7.2 \n\" clip-path=\"url(#pede7819f9f)\" style=\"fill: none; stroke: #ffffff; stroke-linecap: round\"/>\n     </g>\n     <g id=\"line2d_14\"/>\n     <g id=\"text_7\">\n      <!-- 60 -->\n      <g style=\"fill: #262626\" transform=\"translate(562.863386 354.438438) scale(0.1 -0.1)\">\n       <defs>\n        <path id=\"DejaVuSerif-36\" d=\"M 2094 219 \nQ 2534 219 2771 542 \nQ 3009 866 3009 1472 \nQ 3009 2078 2771 2401 \nQ 2534 2725 2094 2725 \nQ 1647 2725 1412 2412 \nQ 1178 2100 1178 1509 \nQ 1178 888 1415 553 \nQ 1653 219 2094 219 \nz\nM 1075 2569 \nQ 1288 2803 1556 2918 \nQ 1825 3034 2163 3034 \nQ 2859 3034 3264 2615 \nQ 3669 2197 3669 1472 \nQ 3669 763 3233 336 \nQ 2797 -91 2069 -91 \nQ 1278 -91 853 498 \nQ 428 1088 428 2181 \nQ 428 3406 931 4078 \nQ 1434 4750 2350 4750 \nQ 2597 4750 2869 4703 \nQ 3141 4656 3425 4563 \nL 3425 3794 \nL 3072 3794 \nQ 3034 4109 2831 4275 \nQ 2628 4441 2284 4441 \nQ 1678 4441 1381 3981 \nQ 1084 3522 1075 2569 \nz\n\" transform=\"scale(0.015625)\"/>\n       </defs>\n       <use xlink:href=\"#DejaVuSerif-36\"/>\n       <use xlink:href=\"#DejaVuSerif-30\" x=\"63.623047\"/>\n      </g>\n     </g>\n    </g>\n    <g id=\"text_8\">\n     <!-- episodes -->\n     <g style=\"fill: #262626\" transform=\"translate(299.638438 368.876406) scale(0.11 -0.11)\">\n      <defs>\n       <path id=\"DejaVuSerif-65\" d=\"M 3469 1600 \nL 991 1600 \nL 991 1575 \nQ 991 903 1244 561 \nQ 1497 219 1991 219 \nQ 2369 219 2611 417 \nQ 2853 616 2950 1006 \nL 3413 1006 \nQ 3275 459 2904 184 \nQ 2534 -91 1931 -91 \nQ 1203 -91 761 389 \nQ 319 869 319 1663 \nQ 319 2450 753 2931 \nQ 1188 3413 1894 3413 \nQ 2647 3413 3050 2948 \nQ 3453 2484 3469 1600 \nz\nM 2791 1931 \nQ 2772 2513 2545 2808 \nQ 2319 3103 1894 3103 \nQ 1497 3103 1269 2806 \nQ 1041 2509 991 1931 \nL 2791 1931 \nz\n\" transform=\"scale(0.015625)\"/>\n       <path id=\"DejaVuSerif-70\" d=\"M 1313 1825 \nL 1313 1497 \nQ 1313 897 1542 583 \nQ 1772 269 2209 269 \nQ 2650 269 2876 622 \nQ 3103 975 3103 1663 \nQ 3103 2353 2876 2703 \nQ 2650 3053 2209 3053 \nQ 1772 3053 1542 2737 \nQ 1313 2422 1313 1825 \nz\nM 738 2988 \nL 184 2988 \nL 184 3322 \nL 1313 3322 \nL 1313 2803 \nQ 1481 3116 1742 3264 \nQ 2003 3413 2388 3413 \nQ 3000 3413 3387 2928 \nQ 3775 2444 3775 1663 \nQ 3775 881 3387 395 \nQ 3000 -91 2388 -91 \nQ 2003 -91 1742 57 \nQ 1481 206 1313 519 \nL 1313 -997 \nL 1856 -997 \nL 1856 -1331 \nL 184 -1331 \nL 184 -997 \nL 738 -997 \nL 738 2988 \nz\n\" transform=\"scale(0.015625)\"/>\n       <path id=\"DejaVuSerif-69\" d=\"M 622 4353 \nQ 622 4497 726 4603 \nQ 831 4709 978 4709 \nQ 1122 4709 1226 4603 \nQ 1331 4497 1331 4353 \nQ 1331 4206 1228 4103 \nQ 1125 4000 978 4000 \nQ 831 4000 726 4103 \nQ 622 4206 622 4353 \nz\nM 1356 331 \nL 1900 331 \nL 1900 0 \nL 231 0 \nL 231 331 \nL 781 331 \nL 781 2988 \nL 231 2988 \nL 231 3322 \nL 1356 3322 \nL 1356 331 \nz\n\" transform=\"scale(0.015625)\"/>\n       <path id=\"DejaVuSerif-73\" d=\"M 359 184 \nL 359 959 \nL 691 959 \nQ 703 588 923 403 \nQ 1144 219 1575 219 \nQ 1963 219 2166 364 \nQ 2369 509 2369 788 \nQ 2369 1006 2220 1140 \nQ 2072 1275 1594 1428 \nL 1178 1569 \nQ 750 1706 558 1912 \nQ 366 2119 366 2438 \nQ 366 2894 700 3153 \nQ 1034 3413 1625 3413 \nQ 1888 3413 2178 3344 \nQ 2469 3275 2778 3144 \nL 2778 2419 \nL 2447 2419 \nQ 2434 2741 2221 2922 \nQ 2009 3103 1644 3103 \nQ 1281 3103 1095 2975 \nQ 909 2847 909 2591 \nQ 909 2381 1050 2254 \nQ 1191 2128 1613 1997 \nL 2069 1856 \nQ 2541 1709 2748 1489 \nQ 2956 1269 2956 922 \nQ 2956 450 2595 179 \nQ 2234 -91 1600 -91 \nQ 1278 -91 972 -22 \nQ 666 47 359 184 \nz\n\" transform=\"scale(0.015625)\"/>\n       <path id=\"DejaVuSerif-6f\" d=\"M 1925 219 \nQ 2388 219 2623 584 \nQ 2859 950 2859 1663 \nQ 2859 2375 2623 2739 \nQ 2388 3103 1925 3103 \nQ 1463 3103 1227 2739 \nQ 991 2375 991 1663 \nQ 991 950 1228 584 \nQ 1466 219 1925 219 \nz\nM 1925 -91 \nQ 1200 -91 759 389 \nQ 319 869 319 1663 \nQ 319 2456 758 2934 \nQ 1197 3413 1925 3413 \nQ 2653 3413 3092 2934 \nQ 3531 2456 3531 1663 \nQ 3531 869 3092 389 \nQ 2653 -91 1925 -91 \nz\n\" transform=\"scale(0.015625)\"/>\n       <path id=\"DejaVuSerif-64\" d=\"M 3359 331 \nL 3909 331 \nL 3909 0 \nL 2784 0 \nL 2784 519 \nQ 2616 206 2355 57 \nQ 2094 -91 1709 -91 \nQ 1097 -91 708 395 \nQ 319 881 319 1663 \nQ 319 2444 706 2928 \nQ 1094 3413 1709 3413 \nQ 2094 3413 2355 3264 \nQ 2616 3116 2784 2803 \nL 2784 4531 \nL 2241 4531 \nL 2241 4863 \nL 3359 4863 \nL 3359 331 \nz\nM 2784 1497 \nL 2784 1825 \nQ 2784 2422 2554 2737 \nQ 2325 3053 1888 3053 \nQ 1444 3053 1217 2703 \nQ 991 2353 991 1663 \nQ 991 975 1217 622 \nQ 1444 269 1888 269 \nQ 2325 269 2554 583 \nQ 2784 897 2784 1497 \nz\n\" transform=\"scale(0.015625)\"/>\n      </defs>\n      <use xlink:href=\"#DejaVuSerif-65\"/>\n      <use xlink:href=\"#DejaVuSerif-70\" x=\"59.179688\"/>\n      <use xlink:href=\"#DejaVuSerif-69\" x=\"123.193359\"/>\n      <use xlink:href=\"#DejaVuSerif-73\" x=\"155.175781\"/>\n      <use xlink:href=\"#DejaVuSerif-6f\" x=\"206.494141\"/>\n      <use xlink:href=\"#DejaVuSerif-64\" x=\"266.699219\"/>\n      <use xlink:href=\"#DejaVuSerif-65\" x=\"330.712891\"/>\n      <use xlink:href=\"#DejaVuSerif-73\" x=\"389.892578\"/>\n     </g>\n    </g>\n   </g>\n   <g id=\"matplotlib.axis_2\">\n    <g id=\"ytick_1\">\n     <g id=\"line2d_15\">\n      <path d=\"M 44.905469 333.820034 \nL 602.905469 333.820034 \n\" clip-path=\"url(#pede7819f9f)\" style=\"fill: none; stroke: #ffffff; stroke-linecap: round\"/>\n     </g>\n     <g id=\"line2d_16\"/>\n     <g id=\"text_9\">\n      <!-- 0.8 -->\n      <g style=\"fill: #262626\" transform=\"translate(22.002344 337.619253) scale(0.1 -0.1)\">\n       <defs>\n        <path id=\"DejaVuSerif-2e\" d=\"M 603 325 \nQ 603 500 722 622 \nQ 841 744 1019 744 \nQ 1191 744 1312 622 \nQ 1434 500 1434 325 \nQ 1434 153 1312 31 \nQ 1191 -91 1019 -91 \nQ 841 -91 722 29 \nQ 603 150 603 325 \nz\n\" transform=\"scale(0.015625)\"/>\n        <path id=\"DejaVuSerif-38\" d=\"M 2981 1275 \nQ 2981 1775 2732 2051 \nQ 2484 2328 2034 2328 \nQ 1584 2328 1336 2051 \nQ 1088 1775 1088 1275 \nQ 1088 772 1336 495 \nQ 1584 219 2034 219 \nQ 2484 219 2732 495 \nQ 2981 772 2981 1275 \nz\nM 2853 3541 \nQ 2853 3966 2637 4203 \nQ 2422 4441 2034 4441 \nQ 1650 4441 1433 4203 \nQ 1216 3966 1216 3541 \nQ 1216 3113 1433 2875 \nQ 1650 2638 2034 2638 \nQ 2422 2638 2637 2875 \nQ 2853 3113 2853 3541 \nz\nM 2516 2484 \nQ 3047 2413 3344 2092 \nQ 3641 1772 3641 1275 \nQ 3641 619 3225 264 \nQ 2809 -91 2034 -91 \nQ 1263 -91 845 264 \nQ 428 619 428 1275 \nQ 428 1772 725 2092 \nQ 1022 2413 1556 2484 \nQ 1084 2569 832 2842 \nQ 581 3116 581 3541 \nQ 581 4103 968 4426 \nQ 1356 4750 2034 4750 \nQ 2713 4750 3100 4426 \nQ 3488 4103 3488 3541 \nQ 3488 3116 3236 2842 \nQ 2984 2569 2516 2484 \nz\n\" transform=\"scale(0.015625)\"/>\n       </defs>\n       <use xlink:href=\"#DejaVuSerif-30\"/>\n       <use xlink:href=\"#DejaVuSerif-2e\" x=\"63.623047\"/>\n       <use xlink:href=\"#DejaVuSerif-38\" x=\"95.410156\"/>\n      </g>\n     </g>\n    </g>\n    <g id=\"ytick_2\">\n     <g id=\"line2d_17\">\n      <path d=\"M 44.905469 285.593182 \nL 602.905469 285.593182 \n\" clip-path=\"url(#pede7819f9f)\" style=\"fill: none; stroke: #ffffff; stroke-linecap: round\"/>\n     </g>\n     <g id=\"line2d_18\"/>\n     <g id=\"text_10\">\n      <!-- 1.0 -->\n      <g style=\"fill: #262626\" transform=\"translate(22.002344 289.392401) scale(0.1 -0.1)\">\n       <use xlink:href=\"#DejaVuSerif-31\"/>\n       <use xlink:href=\"#DejaVuSerif-2e\" x=\"63.623047\"/>\n       <use xlink:href=\"#DejaVuSerif-30\" x=\"95.410156\"/>\n      </g>\n     </g>\n    </g>\n    <g id=\"ytick_3\">\n     <g id=\"line2d_19\">\n      <path d=\"M 44.905469 237.366329 \nL 602.905469 237.366329 \n\" clip-path=\"url(#pede7819f9f)\" style=\"fill: none; stroke: #ffffff; stroke-linecap: round\"/>\n     </g>\n     <g id=\"line2d_20\"/>\n     <g id=\"text_11\">\n      <!-- 1.2 -->\n      <g style=\"fill: #262626\" transform=\"translate(22.002344 241.165548) scale(0.1 -0.1)\">\n       <use xlink:href=\"#DejaVuSerif-31\"/>\n       <use xlink:href=\"#DejaVuSerif-2e\" x=\"63.623047\"/>\n       <use xlink:href=\"#DejaVuSerif-32\" x=\"95.410156\"/>\n      </g>\n     </g>\n    </g>\n    <g id=\"ytick_4\">\n     <g id=\"line2d_21\">\n      <path d=\"M 44.905469 189.139477 \nL 602.905469 189.139477 \n\" clip-path=\"url(#pede7819f9f)\" style=\"fill: none; stroke: #ffffff; stroke-linecap: round\"/>\n     </g>\n     <g id=\"line2d_22\"/>\n     <g id=\"text_12\">\n      <!-- 1.4 -->\n      <g style=\"fill: #262626\" transform=\"translate(22.002344 192.938696) scale(0.1 -0.1)\">\n       <use xlink:href=\"#DejaVuSerif-31\"/>\n       <use xlink:href=\"#DejaVuSerif-2e\" x=\"63.623047\"/>\n       <use xlink:href=\"#DejaVuSerif-34\" x=\"95.410156\"/>\n      </g>\n     </g>\n    </g>\n    <g id=\"ytick_5\">\n     <g id=\"line2d_23\">\n      <path d=\"M 44.905469 140.912624 \nL 602.905469 140.912624 \n\" clip-path=\"url(#pede7819f9f)\" style=\"fill: none; stroke: #ffffff; stroke-linecap: round\"/>\n     </g>\n     <g id=\"line2d_24\"/>\n     <g id=\"text_13\">\n      <!-- 1.6 -->\n      <g style=\"fill: #262626\" transform=\"translate(22.002344 144.711843) scale(0.1 -0.1)\">\n       <use xlink:href=\"#DejaVuSerif-31\"/>\n       <use xlink:href=\"#DejaVuSerif-2e\" x=\"63.623047\"/>\n       <use xlink:href=\"#DejaVuSerif-36\" x=\"95.410156\"/>\n      </g>\n     </g>\n    </g>\n    <g id=\"ytick_6\">\n     <g id=\"line2d_25\">\n      <path d=\"M 44.905469 92.685772 \nL 602.905469 92.685772 \n\" clip-path=\"url(#pede7819f9f)\" style=\"fill: none; stroke: #ffffff; stroke-linecap: round\"/>\n     </g>\n     <g id=\"line2d_26\"/>\n     <g id=\"text_14\">\n      <!-- 1.8 -->\n      <g style=\"fill: #262626\" transform=\"translate(22.002344 96.484991) scale(0.1 -0.1)\">\n       <use xlink:href=\"#DejaVuSerif-31\"/>\n       <use xlink:href=\"#DejaVuSerif-2e\" x=\"63.623047\"/>\n       <use xlink:href=\"#DejaVuSerif-38\" x=\"95.410156\"/>\n      </g>\n     </g>\n    </g>\n    <g id=\"ytick_7\">\n     <g id=\"line2d_27\">\n      <path d=\"M 44.905469 44.458919 \nL 602.905469 44.458919 \n\" clip-path=\"url(#pede7819f9f)\" style=\"fill: none; stroke: #ffffff; stroke-linecap: round\"/>\n     </g>\n     <g id=\"line2d_28\"/>\n     <g id=\"text_15\">\n      <!-- 2.0 -->\n      <g style=\"fill: #262626\" transform=\"translate(22.002344 48.258138) scale(0.1 -0.1)\">\n       <use xlink:href=\"#DejaVuSerif-32\"/>\n       <use xlink:href=\"#DejaVuSerif-2e\" x=\"63.623047\"/>\n       <use xlink:href=\"#DejaVuSerif-30\" x=\"95.410156\"/>\n      </g>\n     </g>\n    </g>\n    <g id=\"text_16\">\n     <!-- gross performance -->\n     <g style=\"fill: #262626\" transform=\"translate(15.558281 226.126641) rotate(-90) scale(0.11 -0.11)\">\n      <defs>\n       <path id=\"DejaVuSerif-67\" d=\"M 3359 2988 \nL 3359 72 \nQ 3359 -644 2965 -1033 \nQ 2572 -1422 1844 -1422 \nQ 1516 -1422 1216 -1362 \nQ 916 -1303 641 -1184 \nL 641 -488 \nL 941 -488 \nQ 997 -813 1206 -963 \nQ 1416 -1113 1806 -1113 \nQ 2313 -1113 2548 -827 \nQ 2784 -541 2784 72 \nL 2784 519 \nQ 2616 206 2355 57 \nQ 2094 -91 1709 -91 \nQ 1097 -91 708 395 \nQ 319 881 319 1663 \nQ 319 2444 706 2928 \nQ 1094 3413 1709 3413 \nQ 2094 3413 2355 3264 \nQ 2616 3116 2784 2803 \nL 2784 3322 \nL 3909 3322 \nL 3909 2988 \nL 3359 2988 \nz\nM 2784 1825 \nQ 2784 2422 2554 2737 \nQ 2325 3053 1888 3053 \nQ 1444 3053 1217 2703 \nQ 991 2353 991 1663 \nQ 991 975 1217 622 \nQ 1444 269 1888 269 \nQ 2325 269 2554 583 \nQ 2784 897 2784 1497 \nL 2784 1825 \nz\n\" transform=\"scale(0.015625)\"/>\n       <path id=\"DejaVuSerif-72\" d=\"M 3059 3328 \nL 3059 2497 \nL 2728 2497 \nQ 2713 2744 2591 2866 \nQ 2469 2988 2234 2988 \nQ 1809 2988 1582 2694 \nQ 1356 2400 1356 1850 \nL 1356 331 \nL 2022 331 \nL 2022 0 \nL 263 0 \nL 263 331 \nL 781 331 \nL 781 2994 \nL 231 2994 \nL 231 3322 \nL 1356 3322 \nL 1356 2731 \nQ 1525 3078 1790 3245 \nQ 2056 3413 2438 3413 \nQ 2578 3413 2733 3391 \nQ 2888 3369 3059 3328 \nz\n\" transform=\"scale(0.015625)\"/>\n       <path id=\"DejaVuSerif-20\" transform=\"scale(0.015625)\"/>\n       <path id=\"DejaVuSerif-66\" d=\"M 2753 4078 \nL 2450 4078 \nQ 2447 4313 2317 4434 \nQ 2188 4556 1941 4556 \nQ 1619 4556 1487 4379 \nQ 1356 4203 1356 3750 \nL 1356 3322 \nL 2284 3322 \nL 2284 2988 \nL 1356 2988 \nL 1356 331 \nL 2094 331 \nL 2094 0 \nL 231 0 \nL 231 331 \nL 781 331 \nL 781 2988 \nL 231 2988 \nL 231 3322 \nL 781 3322 \nL 781 3738 \nQ 781 4294 1070 4578 \nQ 1359 4863 1919 4863 \nQ 2128 4863 2337 4825 \nQ 2547 4788 2753 4709 \nL 2753 4078 \nz\n\" transform=\"scale(0.015625)\"/>\n       <path id=\"DejaVuSerif-6d\" d=\"M 3316 2675 \nQ 3481 3041 3739 3227 \nQ 3997 3413 4341 3413 \nQ 4863 3413 5119 3089 \nQ 5375 2766 5375 2113 \nL 5375 331 \nL 5894 331 \nL 5894 0 \nL 4300 0 \nL 4300 331 \nL 4800 331 \nL 4800 2047 \nQ 4800 2556 4650 2772 \nQ 4500 2988 4153 2988 \nQ 3769 2988 3567 2697 \nQ 3366 2406 3366 1850 \nL 3366 331 \nL 3866 331 \nL 3866 0 \nL 2291 0 \nL 2291 331 \nL 2791 331 \nL 2791 2069 \nQ 2791 2566 2641 2777 \nQ 2491 2988 2144 2988 \nQ 1759 2988 1557 2697 \nQ 1356 2406 1356 1850 \nL 1356 331 \nL 1856 331 \nL 1856 0 \nL 263 0 \nL 263 331 \nL 781 331 \nL 781 2994 \nL 231 2994 \nL 231 3322 \nL 1356 3322 \nL 1356 2731 \nQ 1516 3063 1762 3238 \nQ 2009 3413 2322 3413 \nQ 2709 3413 2968 3220 \nQ 3228 3028 3316 2675 \nz\n\" transform=\"scale(0.015625)\"/>\n       <path id=\"DejaVuSerif-61\" d=\"M 2547 1044 \nL 2547 1747 \nL 1806 1747 \nQ 1378 1747 1168 1562 \nQ 959 1378 959 997 \nQ 959 650 1171 447 \nQ 1384 244 1747 244 \nQ 2106 244 2326 466 \nQ 2547 688 2547 1044 \nz\nM 3122 2075 \nL 3122 331 \nL 3634 331 \nL 3634 0 \nL 2547 0 \nL 2547 359 \nQ 2356 128 2106 18 \nQ 1856 -91 1522 -91 \nQ 969 -91 644 203 \nQ 319 497 319 997 \nQ 319 1513 691 1797 \nQ 1063 2081 1741 2081 \nL 2547 2081 \nL 2547 2309 \nQ 2547 2688 2317 2895 \nQ 2088 3103 1672 3103 \nQ 1328 3103 1125 2947 \nQ 922 2791 872 2484 \nL 575 2484 \nL 575 3156 \nQ 875 3284 1158 3348 \nQ 1441 3413 1709 3413 \nQ 2400 3413 2761 3070 \nQ 3122 2728 3122 2075 \nz\n\" transform=\"scale(0.015625)\"/>\n       <path id=\"DejaVuSerif-6e\" d=\"M 263 0 \nL 263 331 \nL 781 331 \nL 781 2988 \nL 231 2988 \nL 231 3322 \nL 1356 3322 \nL 1356 2731 \nQ 1516 3069 1770 3241 \nQ 2025 3413 2363 3413 \nQ 2913 3413 3172 3097 \nQ 3431 2781 3431 2113 \nL 3431 331 \nL 3944 331 \nL 3944 0 \nL 2356 0 \nL 2356 331 \nL 2853 331 \nL 2853 1931 \nQ 2853 2541 2703 2767 \nQ 2553 2994 2175 2994 \nQ 1775 2994 1565 2701 \nQ 1356 2409 1356 1850 \nL 1356 331 \nL 1856 331 \nL 1856 0 \nL 263 0 \nz\n\" transform=\"scale(0.015625)\"/>\n       <path id=\"DejaVuSerif-63\" d=\"M 3291 997 \nQ 3169 466 2822 187 \nQ 2475 -91 1925 -91 \nQ 1200 -91 759 389 \nQ 319 869 319 1663 \nQ 319 2459 759 2936 \nQ 1200 3413 1925 3413 \nQ 2241 3413 2553 3339 \nQ 2866 3266 3181 3116 \nL 3181 2266 \nL 2847 2266 \nQ 2781 2703 2561 2903 \nQ 2341 3103 1931 3103 \nQ 1466 3103 1228 2742 \nQ 991 2381 991 1663 \nQ 991 944 1227 581 \nQ 1463 219 1931 219 \nQ 2303 219 2525 412 \nQ 2747 606 2828 997 \nL 3291 997 \nz\n\" transform=\"scale(0.015625)\"/>\n      </defs>\n      <use xlink:href=\"#DejaVuSerif-67\"/>\n      <use xlink:href=\"#DejaVuSerif-72\" x=\"64.013672\"/>\n      <use xlink:href=\"#DejaVuSerif-6f\" x=\"111.816406\"/>\n      <use xlink:href=\"#DejaVuSerif-73\" x=\"172.021484\"/>\n      <use xlink:href=\"#DejaVuSerif-73\" x=\"223.339844\"/>\n      <use xlink:href=\"#DejaVuSerif-20\" x=\"274.658203\"/>\n      <use xlink:href=\"#DejaVuSerif-70\" x=\"306.445312\"/>\n      <use xlink:href=\"#DejaVuSerif-65\" x=\"370.458984\"/>\n      <use xlink:href=\"#DejaVuSerif-72\" x=\"429.638672\"/>\n      <use xlink:href=\"#DejaVuSerif-66\" x=\"477.441406\"/>\n      <use xlink:href=\"#DejaVuSerif-6f\" x=\"514.453125\"/>\n      <use xlink:href=\"#DejaVuSerif-72\" x=\"574.658203\"/>\n      <use xlink:href=\"#DejaVuSerif-6d\" x=\"622.460938\"/>\n      <use xlink:href=\"#DejaVuSerif-61\" x=\"717.285156\"/>\n      <use xlink:href=\"#DejaVuSerif-6e\" x=\"776.904297\"/>\n      <use xlink:href=\"#DejaVuSerif-63\" x=\"841.308594\"/>\n      <use xlink:href=\"#DejaVuSerif-65\" x=\"897.314453\"/>\n     </g>\n    </g>\n   </g>\n   <g id=\"line2d_29\">\n    <path d=\"M 70.269105 322.763315 \nL 78.585051 321.914581 \nL 86.900998 264.314049 \nL 95.216944 323.597127 \nL 103.532891 193.9654 \nL 111.848837 227.030423 \nL 120.164783 115.025152 \nL 128.48073 322.053915 \nL 136.796676 22.32 \nL 145.112622 323.55628 \nL 153.428569 323.128415 \nL 161.744515 321.798231 \nL 170.060461 323.263289 \nL 178.376408 280.339629 \nL 186.692354 321.965574 \nL 195.0083 321.931156 \nL 203.324247 321.806338 \nL 211.640193 226.656844 \nL 219.956139 322.466018 \nL 228.272086 322.10777 \nL 236.588032 249.02244 \nL 244.903978 321.800575 \nL 253.219925 322.172906 \nL 261.535871 260.207775 \nL 269.851817 322.939687 \nL 278.167764 324.72 \nL 286.48371 322.371777 \nL 294.799657 322.529116 \nL 303.115603 322.100973 \nL 311.431549 290.331056 \nL 319.747496 322.591871 \nL 328.063442 322.264978 \nL 336.379388 322.287088 \nL 344.695335 323.340663 \nL 353.011281 321.777071 \nL 361.327227 322.069356 \nL 369.643174 324.631854 \nL 377.95912 322.430752 \nL 386.275066 323.526828 \nL 394.591013 240.875635 \nL 402.906959 284.589273 \nL 411.222905 322.191079 \nL 419.538852 322.739638 \nL 427.854798 323.509064 \nL 436.170744 178.22238 \nL 444.486691 322.457885 \nL 452.802637 324.70376 \nL 461.118584 323.580075 \nL 469.43453 321.830861 \nL 477.750476 322.115085 \nL 486.066423 321.867232 \nL 494.382369 321.898673 \nL 502.698315 321.928591 \nL 511.014262 322.217506 \nL 519.330208 323.720014 \nL 527.646154 244.602175 \nL 535.962101 324.398462 \nL 544.278047 322.272964 \nL 552.593993 253.297288 \nL 560.90994 322.837559 \nL 569.225886 321.808396 \n\" clip-path=\"url(#pede7819f9f)\" style=\"fill: none; stroke: #4c72b0; stroke-width: 1.75; stroke-linecap: round\"/>\n   </g>\n   <g id=\"line2d_30\">\n    <path d=\"M 70.269105 290.844507 \nL 78.585051 282.597718 \nL 86.900998 273.374928 \nL 95.216944 268.889851 \nL 103.532891 268.529992 \nL 111.848837 268.586582 \nL 120.164783 283.664584 \nL 128.48073 275.856672 \nL 136.796676 273.390193 \nL 145.112622 269.650632 \nL 153.428569 280.111539 \nL 161.744515 272.594291 \nL 170.060461 272.568002 \nL 178.376408 290.682645 \nL 186.692354 288.820922 \nL 195.0083 289.539127 \nL 203.324247 294.211579 \nL 211.640193 300.260915 \nL 219.956139 303.803581 \nL 228.272086 301.861762 \nL 236.588032 299.478161 \nL 244.903978 292.898253 \nL 253.219925 289.779336 \nL 261.535871 290.166373 \nL 269.851817 289.452989 \nL 278.167764 304.713304 \nL 286.48371 308.229397 \nL 294.799657 305.639071 \nL 303.115603 303.807486 \nL 311.431549 303.883499 \nL 319.747496 305.35632 \nL 328.063442 305.35632 \nL 336.379388 305.35632 \nL 344.695335 305.35632 \nL 353.011281 305.35632 \nL 361.327227 305.35632 \nL 369.643174 305.35632 \nL 377.95912 305.35632 \nL 386.275066 305.35632 \nL 394.591013 305.35632 \nL 402.906959 305.35632 \nL 411.222905 305.35632 \nL 419.538852 305.35632 \nL 427.854798 305.35632 \nL 436.170744 305.35632 \nL 444.486691 305.35632 \nL 452.802637 305.35632 \nL 461.118584 305.35632 \nL 469.43453 305.35632 \nL 477.750476 305.35632 \nL 486.066423 305.35632 \nL 494.382369 305.35632 \nL 502.698315 305.35632 \nL 511.014262 305.35632 \nL 519.330208 305.35632 \nL 527.646154 305.35632 \nL 535.962101 305.35632 \nL 544.278047 305.35632 \nL 552.593993 305.35632 \nL 560.90994 305.35632 \nL 569.225886 305.35632 \n\" clip-path=\"url(#pede7819f9f)\" style=\"fill: none; stroke: #55a868; stroke-width: 1.75; stroke-linecap: round\"/>\n   </g>\n   <g id=\"line2d_31\">\n    <path d=\"M 78.585051 253.008245 \nL 86.900998 255.835343 \nL 95.216944 258.599976 \nL 103.532891 261.301788 \nL 111.848837 263.940422 \nL 120.164783 266.515522 \nL 128.48073 269.026729 \nL 136.796676 271.473688 \nL 145.112622 273.856041 \nL 153.428569 276.173433 \nL 161.744515 278.425505 \nL 170.060461 280.611901 \nL 178.376408 282.732264 \nL 186.692354 284.786238 \nL 195.0083 286.773466 \nL 203.324247 288.69359 \nL 211.640193 290.546255 \nL 219.956139 292.331102 \nL 228.272086 294.047776 \nL 236.588032 295.695919 \nL 244.903978 297.275175 \nL 253.219925 298.785187 \nL 261.535871 300.225597 \nL 269.851817 301.59605 \nL 278.167764 302.896188 \nL 286.48371 304.125655 \nL 294.799657 305.284093 \nL 303.115603 306.371146 \nL 311.431549 307.386457 \nL 319.747496 308.32967 \nL 328.063442 309.200426 \nL 336.379388 309.99837 \nL 344.695335 310.723145 \nL 353.011281 311.374394 \nL 361.327227 311.951759 \nL 369.643174 312.454885 \nL 377.95912 312.883414 \nL 386.275066 313.23699 \nL 394.591013 313.515255 \nL 402.906959 313.717853 \nL 411.222905 313.844428 \nL 419.538852 313.894621 \nL 427.854798 313.868077 \nL 436.170744 313.764439 \nL 444.486691 313.583349 \nL 452.802637 313.324451 \nL 461.118584 312.987388 \nL 469.43453 312.571803 \nL 477.750476 312.07734 \nL 486.066423 311.503641 \nL 494.382369 310.85035 \nL 502.698315 310.11711 \nL 511.014262 309.303564 \nL 519.330208 308.409356 \nL 527.646154 307.434127 \nL 535.962101 306.377523 \nL 544.278047 305.239185 \nL 552.593993 304.018757 \nL 560.90994 302.715882 \nL 569.225886 301.330203 \nL 577.541832 299.861364 \n\" clip-path=\"url(#pede7819f9f)\" style=\"fill: none; stroke-dasharray: 6.475,2.8; stroke-dashoffset: 0; stroke: #ff0000; stroke-width: 1.75\"/>\n   </g>\n   <g id=\"line2d_32\">\n    <path d=\"M 78.585051 271.208617 \nL 86.900998 272.461254 \nL 95.216944 273.707839 \nL 103.532891 274.947386 \nL 111.848837 276.17891 \nL 120.164783 277.401425 \nL 128.48073 278.613946 \nL 136.796676 279.815487 \nL 145.112622 281.005063 \nL 153.428569 282.181688 \nL 161.744515 283.344376 \nL 170.060461 284.492143 \nL 178.376408 285.624002 \nL 186.692354 286.738968 \nL 195.0083 287.836056 \nL 203.324247 288.914279 \nL 211.640193 289.972653 \nL 219.956139 291.010193 \nL 228.272086 292.025911 \nL 236.588032 293.018824 \nL 244.903978 293.987945 \nL 253.219925 294.932289 \nL 261.535871 295.85087 \nL 269.851817 296.742703 \nL 278.167764 297.606803 \nL 286.48371 298.442183 \nL 294.799657 299.247859 \nL 303.115603 300.022844 \nL 311.431549 300.766154 \nL 319.747496 301.476803 \nL 328.063442 302.153804 \nL 336.379388 302.796174 \nL 344.695335 303.402925 \nL 353.011281 303.973074 \nL 361.327227 304.505633 \nL 369.643174 304.999618 \nL 377.95912 305.454044 \nL 386.275066 305.867923 \nL 394.591013 306.240272 \nL 402.906959 306.570105 \nL 411.222905 306.856435 \nL 419.538852 307.098278 \nL 427.854798 307.294648 \nL 436.170744 307.44456 \nL 444.486691 307.547027 \nL 452.802637 307.601065 \nL 461.118584 307.605688 \nL 469.43453 307.55991 \nL 477.750476 307.462747 \nL 486.066423 307.313211 \nL 494.382369 307.110319 \nL 502.698315 306.853083 \nL 511.014262 306.54052 \nL 519.330208 306.171643 \nL 527.646154 305.745466 \nL 535.962101 305.261005 \nL 544.278047 304.717274 \nL 552.593993 304.113287 \nL 560.90994 303.448058 \nL 569.225886 302.720603 \nL 577.541832 301.929935 \n\" clip-path=\"url(#pede7819f9f)\" style=\"fill: none; stroke-dasharray: 11.2,2.8,1.75,2.8; stroke-dashoffset: 0; stroke: #ff0000; stroke-width: 1.75\"/>\n   </g>\n   <g id=\"patch_3\">\n    <path d=\"M 44.905469 339.84 \nL 44.905469 7.2 \n\" style=\"fill: none\"/>\n   </g>\n   <g id=\"patch_4\">\n    <path d=\"M 602.905469 339.84 \nL 602.905469 7.2 \n\" style=\"fill: none\"/>\n   </g>\n   <g id=\"patch_5\">\n    <path d=\"M 44.905469 339.84 \nL 602.905469 339.84 \n\" style=\"fill: none\"/>\n   </g>\n   <g id=\"patch_6\">\n    <path d=\"M 44.905469 7.2 \nL 602.905469 7.2 \n\" style=\"fill: none\"/>\n   </g>\n   <g id=\"legend_1\">\n    <g id=\"line2d_33\">\n     <path d=\"M 476.792969 20.298438 \nL 486.792969 20.298438 \nL 496.792969 20.298438 \n\" style=\"fill: none; stroke: #4c72b0; stroke-width: 1.75; stroke-linecap: round\"/>\n    </g>\n    <g id=\"text_17\">\n     <!-- training -->\n     <g style=\"fill: #262626\" transform=\"translate(504.792969 23.798438) scale(0.1 -0.1)\">\n      <defs>\n       <path id=\"DejaVuSerif-74\" d=\"M 691 2988 \nL 184 2988 \nL 184 3322 \nL 691 3322 \nL 691 4353 \nL 1269 4353 \nL 1269 3322 \nL 2350 3322 \nL 2350 2988 \nL 1269 2988 \nL 1269 878 \nQ 1269 456 1350 337 \nQ 1431 219 1650 219 \nQ 1875 219 1978 351 \nQ 2081 484 2088 781 \nL 2522 781 \nQ 2497 328 2275 118 \nQ 2053 -91 1600 -91 \nQ 1103 -91 897 129 \nQ 691 350 691 878 \nL 691 2988 \nz\n\" transform=\"scale(0.015625)\"/>\n      </defs>\n      <use xlink:href=\"#DejaVuSerif-74\"/>\n      <use xlink:href=\"#DejaVuSerif-72\" x=\"40.185547\"/>\n      <use xlink:href=\"#DejaVuSerif-61\" x=\"87.988281\"/>\n      <use xlink:href=\"#DejaVuSerif-69\" x=\"147.607422\"/>\n      <use xlink:href=\"#DejaVuSerif-6e\" x=\"179.589844\"/>\n      <use xlink:href=\"#DejaVuSerif-69\" x=\"243.994141\"/>\n      <use xlink:href=\"#DejaVuSerif-6e\" x=\"275.976562\"/>\n      <use xlink:href=\"#DejaVuSerif-67\" x=\"340.380859\"/>\n     </g>\n    </g>\n    <g id=\"line2d_34\">\n     <path d=\"M 476.792969 35.11875 \nL 486.792969 35.11875 \nL 496.792969 35.11875 \n\" style=\"fill: none; stroke: #55a868; stroke-width: 1.75; stroke-linecap: round\"/>\n    </g>\n    <g id=\"text_18\">\n     <!-- validation -->\n     <g style=\"fill: #262626\" transform=\"translate(504.792969 38.61875) scale(0.1 -0.1)\">\n      <defs>\n       <path id=\"DejaVuSerif-76\" d=\"M 1581 0 \nL 359 2988 \nL -19 2988 \nL -19 3322 \nL 1509 3322 \nL 1509 2988 \nL 978 2988 \nL 1913 703 \nL 2847 2988 \nL 2350 2988 \nL 2350 3322 \nL 3597 3322 \nL 3597 2988 \nL 3225 2988 \nL 2003 0 \nL 1581 0 \nz\n\" transform=\"scale(0.015625)\"/>\n       <path id=\"DejaVuSerif-6c\" d=\"M 1313 331 \nL 1856 331 \nL 1856 0 \nL 184 0 \nL 184 331 \nL 738 331 \nL 738 4531 \nL 184 4531 \nL 184 4863 \nL 1313 4863 \nL 1313 331 \nz\n\" transform=\"scale(0.015625)\"/>\n      </defs>\n      <use xlink:href=\"#DejaVuSerif-76\"/>\n      <use xlink:href=\"#DejaVuSerif-61\" x=\"56.494141\"/>\n      <use xlink:href=\"#DejaVuSerif-6c\" x=\"116.113281\"/>\n      <use xlink:href=\"#DejaVuSerif-69\" x=\"148.095703\"/>\n      <use xlink:href=\"#DejaVuSerif-64\" x=\"180.078125\"/>\n      <use xlink:href=\"#DejaVuSerif-61\" x=\"244.091797\"/>\n      <use xlink:href=\"#DejaVuSerif-74\" x=\"303.710938\"/>\n      <use xlink:href=\"#DejaVuSerif-69\" x=\"343.896484\"/>\n      <use xlink:href=\"#DejaVuSerif-6f\" x=\"375.878906\"/>\n      <use xlink:href=\"#DejaVuSerif-6e\" x=\"436.083984\"/>\n     </g>\n    </g>\n    <g id=\"line2d_35\">\n     <path d=\"M 476.792969 49.796875 \nL 486.792969 49.796875 \nL 496.792969 49.796875 \n\" style=\"fill: none; stroke-dasharray: 6.475,2.8; stroke-dashoffset: 0; stroke: #ff0000; stroke-width: 1.75\"/>\n    </g>\n    <g id=\"text_19\">\n     <!-- regression (train) -->\n     <g style=\"fill: #262626\" transform=\"translate(504.792969 53.296875) scale(0.1 -0.1)\">\n      <defs>\n       <path id=\"DejaVuSerif-28\" d=\"M 2041 -997 \nQ 1281 -656 893 83 \nQ 506 822 506 1931 \nQ 506 3044 893 3783 \nQ 1281 4522 2041 4863 \nL 2041 4556 \nQ 1559 4225 1350 3623 \nQ 1141 3022 1141 1931 \nQ 1141 844 1350 242 \nQ 1559 -359 2041 -691 \nL 2041 -997 \nz\n\" transform=\"scale(0.015625)\"/>\n       <path id=\"DejaVuSerif-29\" d=\"M 453 -997 \nL 453 -691 \nQ 934 -359 1145 242 \nQ 1356 844 1356 1931 \nQ 1356 3022 1145 3623 \nQ 934 4225 453 4556 \nL 453 4863 \nQ 1216 4522 1603 3783 \nQ 1991 3044 1991 1931 \nQ 1991 822 1603 83 \nQ 1216 -656 453 -997 \nz\n\" transform=\"scale(0.015625)\"/>\n      </defs>\n      <use xlink:href=\"#DejaVuSerif-72\"/>\n      <use xlink:href=\"#DejaVuSerif-65\" x=\"47.802734\"/>\n      <use xlink:href=\"#DejaVuSerif-67\" x=\"106.982422\"/>\n      <use xlink:href=\"#DejaVuSerif-72\" x=\"170.996094\"/>\n      <use xlink:href=\"#DejaVuSerif-65\" x=\"218.798828\"/>\n      <use xlink:href=\"#DejaVuSerif-73\" x=\"277.978516\"/>\n      <use xlink:href=\"#DejaVuSerif-73\" x=\"329.296875\"/>\n      <use xlink:href=\"#DejaVuSerif-69\" x=\"380.615234\"/>\n      <use xlink:href=\"#DejaVuSerif-6f\" x=\"412.597656\"/>\n      <use xlink:href=\"#DejaVuSerif-6e\" x=\"472.802734\"/>\n      <use xlink:href=\"#DejaVuSerif-20\" x=\"537.207031\"/>\n      <use xlink:href=\"#DejaVuSerif-28\" x=\"568.994141\"/>\n      <use xlink:href=\"#DejaVuSerif-74\" x=\"608.007812\"/>\n      <use xlink:href=\"#DejaVuSerif-72\" x=\"648.193359\"/>\n      <use xlink:href=\"#DejaVuSerif-61\" x=\"695.996094\"/>\n      <use xlink:href=\"#DejaVuSerif-69\" x=\"755.615234\"/>\n      <use xlink:href=\"#DejaVuSerif-6e\" x=\"787.597656\"/>\n      <use xlink:href=\"#DejaVuSerif-29\" x=\"852.001953\"/>\n     </g>\n    </g>\n    <g id=\"line2d_36\">\n     <path d=\"M 476.792969 64.617188 \nL 486.792969 64.617188 \nL 496.792969 64.617188 \n\" style=\"fill: none; stroke-dasharray: 11.2,2.8,1.75,2.8; stroke-dashoffset: 0; stroke: #ff0000; stroke-width: 1.75\"/>\n    </g>\n    <g id=\"text_20\">\n     <!-- regression (valid) -->\n     <g style=\"fill: #262626\" transform=\"translate(504.792969 68.117188) scale(0.1 -0.1)\">\n      <use xlink:href=\"#DejaVuSerif-72\"/>\n      <use xlink:href=\"#DejaVuSerif-65\" x=\"47.802734\"/>\n      <use xlink:href=\"#DejaVuSerif-67\" x=\"106.982422\"/>\n      <use xlink:href=\"#DejaVuSerif-72\" x=\"170.996094\"/>\n      <use xlink:href=\"#DejaVuSerif-65\" x=\"218.798828\"/>\n      <use xlink:href=\"#DejaVuSerif-73\" x=\"277.978516\"/>\n      <use xlink:href=\"#DejaVuSerif-73\" x=\"329.296875\"/>\n      <use xlink:href=\"#DejaVuSerif-69\" x=\"380.615234\"/>\n      <use xlink:href=\"#DejaVuSerif-6f\" x=\"412.597656\"/>\n      <use xlink:href=\"#DejaVuSerif-6e\" x=\"472.802734\"/>\n      <use xlink:href=\"#DejaVuSerif-20\" x=\"537.207031\"/>\n      <use xlink:href=\"#DejaVuSerif-28\" x=\"568.994141\"/>\n      <use xlink:href=\"#DejaVuSerif-76\" x=\"608.007812\"/>\n      <use xlink:href=\"#DejaVuSerif-61\" x=\"664.501953\"/>\n      <use xlink:href=\"#DejaVuSerif-6c\" x=\"724.121094\"/>\n      <use xlink:href=\"#DejaVuSerif-69\" x=\"756.103516\"/>\n      <use xlink:href=\"#DejaVuSerif-64\" x=\"788.085938\"/>\n      <use xlink:href=\"#DejaVuSerif-29\" x=\"852.099609\"/>\n     </g>\n    </g>\n   </g>\n  </g>\n </g>\n <defs>\n  <clipPath id=\"pede7819f9f\">\n   <rect x=\"44.905469\" y=\"7.2\" width=\"558\" height=\"332.64\"/>\n  </clipPath>\n </defs>\n</svg>\n"
          },
          "metadata": {}
        }
      ]
    }
  ]
}