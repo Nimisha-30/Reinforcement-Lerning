{
  "nbformat": 4,
  "nbformat_minor": 0,
  "metadata": {
    "colab": {
      "provenance": []
    },
    "kernelspec": {
      "name": "python3",
      "display_name": "Python 3"
    },
    "language_info": {
      "name": "python"
    }
  },
  "cells": [
    {
      "cell_type": "code",
      "source": [
        "!pip install tensorflow==2.8.0rc0"
      ],
      "metadata": {
        "colab": {
          "base_uri": "https://localhost:8080/",
          "height": 1000
        },
        "id": "cDEhNTqJJ12g",
        "outputId": "375da307-18f6-40a5-8e91-9472f10e5ac5"
      },
      "execution_count": 33,
      "outputs": [
        {
          "output_type": "stream",
          "name": "stdout",
          "text": [
            "Collecting tensorflow==2.8.0rc0\n",
            "  Downloading tensorflow-2.8.0rc0-cp310-cp310-manylinux2010_x86_64.whl (492.2 MB)\n",
            "\u001b[2K     \u001b[90m━━━━━━━━━━━━━━━━━━━━━━━━━━━━━━━━━━━━━━━━\u001b[0m \u001b[32m492.2/492.2 MB\u001b[0m \u001b[31m2.1 MB/s\u001b[0m eta \u001b[36m0:00:00\u001b[0m\n",
            "\u001b[?25hRequirement already satisfied: absl-py>=0.4.0 in /usr/local/lib/python3.10/dist-packages (from tensorflow==2.8.0rc0) (1.4.0)\n",
            "Requirement already satisfied: astunparse>=1.6.0 in /usr/local/lib/python3.10/dist-packages (from tensorflow==2.8.0rc0) (1.6.3)\n",
            "Requirement already satisfied: flatbuffers>=1.12 in /usr/local/lib/python3.10/dist-packages (from tensorflow==2.8.0rc0) (24.3.7)\n",
            "Requirement already satisfied: gast>=0.2.1 in /usr/local/lib/python3.10/dist-packages (from tensorflow==2.8.0rc0) (0.5.4)\n",
            "Requirement already satisfied: google-pasta>=0.1.1 in /usr/local/lib/python3.10/dist-packages (from tensorflow==2.8.0rc0) (0.2.0)\n",
            "Requirement already satisfied: h5py>=2.9.0 in /usr/local/lib/python3.10/dist-packages (from tensorflow==2.8.0rc0) (3.9.0)\n",
            "Collecting keras-preprocessing>=1.1.1 (from tensorflow==2.8.0rc0)\n",
            "  Downloading Keras_Preprocessing-1.1.2-py2.py3-none-any.whl (42 kB)\n",
            "\u001b[2K     \u001b[90m━━━━━━━━━━━━━━━━━━━━━━━━━━━━━━━━━━━━━━━━\u001b[0m \u001b[32m42.6/42.6 kB\u001b[0m \u001b[31m4.4 MB/s\u001b[0m eta \u001b[36m0:00:00\u001b[0m\n",
            "\u001b[?25hRequirement already satisfied: libclang>=9.0.1 in /usr/local/lib/python3.10/dist-packages (from tensorflow==2.8.0rc0) (16.0.6)\n",
            "Requirement already satisfied: numpy>=1.14.5 in /usr/local/lib/python3.10/dist-packages (from tensorflow==2.8.0rc0) (1.25.2)\n",
            "Requirement already satisfied: opt-einsum>=2.3.2 in /usr/local/lib/python3.10/dist-packages (from tensorflow==2.8.0rc0) (3.3.0)\n",
            "Requirement already satisfied: protobuf>=3.9.2 in /usr/local/lib/python3.10/dist-packages (from tensorflow==2.8.0rc0) (3.20.3)\n",
            "Collecting setuptools<60 (from tensorflow==2.8.0rc0)\n",
            "  Downloading setuptools-59.8.0-py3-none-any.whl (952 kB)\n",
            "\u001b[2K     \u001b[90m━━━━━━━━━━━━━━━━━━━━━━━━━━━━━━━━━━━━━━━━\u001b[0m \u001b[32m952.8/952.8 kB\u001b[0m \u001b[31m48.0 MB/s\u001b[0m eta \u001b[36m0:00:00\u001b[0m\n",
            "\u001b[?25hRequirement already satisfied: six>=1.12.0 in /usr/local/lib/python3.10/dist-packages (from tensorflow==2.8.0rc0) (1.16.0)\n",
            "Requirement already satisfied: termcolor>=1.1.0 in /usr/local/lib/python3.10/dist-packages (from tensorflow==2.8.0rc0) (2.4.0)\n",
            "Requirement already satisfied: typing-extensions>=3.6.6 in /usr/local/lib/python3.10/dist-packages (from tensorflow==2.8.0rc0) (4.10.0)\n",
            "Requirement already satisfied: wrapt>=1.11.0 in /usr/local/lib/python3.10/dist-packages (from tensorflow==2.8.0rc0) (1.14.1)\n",
            "Collecting tensorboard<2.8,>=2.7 (from tensorflow==2.8.0rc0)\n",
            "  Downloading tensorboard-2.7.0-py3-none-any.whl (5.8 MB)\n",
            "\u001b[2K     \u001b[90m━━━━━━━━━━━━━━━━━━━━━━━━━━━━━━━━━━━━━━━━\u001b[0m \u001b[32m5.8/5.8 MB\u001b[0m \u001b[31m56.8 MB/s\u001b[0m eta \u001b[36m0:00:00\u001b[0m\n",
            "\u001b[?25hCollecting tf-estimator-nightly==2.8.0.dev2021122109 (from tensorflow==2.8.0rc0)\n",
            "  Downloading tf_estimator_nightly-2.8.0.dev2021122109-py2.py3-none-any.whl (462 kB)\n",
            "\u001b[2K     \u001b[90m━━━━━━━━━━━━━━━━━━━━━━━━━━━━━━━━━━━━━━━━\u001b[0m \u001b[32m462.5/462.5 kB\u001b[0m \u001b[31m40.2 MB/s\u001b[0m eta \u001b[36m0:00:00\u001b[0m\n",
            "\u001b[?25hCollecting keras<2.9,>=2.8.0rc0 (from tensorflow==2.8.0rc0)\n",
            "  Downloading keras-2.8.0-py2.py3-none-any.whl (1.4 MB)\n",
            "\u001b[2K     \u001b[90m━━━━━━━━━━━━━━━━━━━━━━━━━━━━━━━━━━━━━━━━\u001b[0m \u001b[32m1.4/1.4 MB\u001b[0m \u001b[31m74.4 MB/s\u001b[0m eta \u001b[36m0:00:00\u001b[0m\n",
            "\u001b[?25hRequirement already satisfied: tensorflow-io-gcs-filesystem>=0.23.1 in /usr/local/lib/python3.10/dist-packages (from tensorflow==2.8.0rc0) (0.36.0)\n",
            "Requirement already satisfied: grpcio<2.0,>=1.24.3 in /usr/local/lib/python3.10/dist-packages (from tensorflow==2.8.0rc0) (1.62.1)\n",
            "Requirement already satisfied: wheel<1.0,>=0.23.0 in /usr/local/lib/python3.10/dist-packages (from astunparse>=1.6.0->tensorflow==2.8.0rc0) (0.43.0)\n",
            "Requirement already satisfied: google-auth<3,>=1.6.3 in /usr/local/lib/python3.10/dist-packages (from tensorboard<2.8,>=2.7->tensorflow==2.8.0rc0) (2.27.0)\n",
            "Collecting google-auth-oauthlib<0.5,>=0.4.1 (from tensorboard<2.8,>=2.7->tensorflow==2.8.0rc0)\n",
            "  Downloading google_auth_oauthlib-0.4.6-py2.py3-none-any.whl (18 kB)\n",
            "Requirement already satisfied: markdown>=2.6.8 in /usr/local/lib/python3.10/dist-packages (from tensorboard<2.8,>=2.7->tensorflow==2.8.0rc0) (3.5.2)\n",
            "Requirement already satisfied: requests<3,>=2.21.0 in /usr/local/lib/python3.10/dist-packages (from tensorboard<2.8,>=2.7->tensorflow==2.8.0rc0) (2.31.0)\n",
            "Collecting tensorboard-data-server<0.7.0,>=0.6.0 (from tensorboard<2.8,>=2.7->tensorflow==2.8.0rc0)\n",
            "  Downloading tensorboard_data_server-0.6.1-py3-none-manylinux2010_x86_64.whl (4.9 MB)\n",
            "\u001b[2K     \u001b[90m━━━━━━━━━━━━━━━━━━━━━━━━━━━━━━━━━━━━━━━━\u001b[0m \u001b[32m4.9/4.9 MB\u001b[0m \u001b[31m91.7 MB/s\u001b[0m eta \u001b[36m0:00:00\u001b[0m\n",
            "\u001b[?25hCollecting tensorboard-plugin-wit>=1.6.0 (from tensorboard<2.8,>=2.7->tensorflow==2.8.0rc0)\n",
            "  Downloading tensorboard_plugin_wit-1.8.1-py3-none-any.whl (781 kB)\n",
            "\u001b[2K     \u001b[90m━━━━━━━━━━━━━━━━━━━━━━━━━━━━━━━━━━━━━━━━\u001b[0m \u001b[32m781.3/781.3 kB\u001b[0m \u001b[31m56.6 MB/s\u001b[0m eta \u001b[36m0:00:00\u001b[0m\n",
            "\u001b[?25hRequirement already satisfied: werkzeug>=0.11.15 in /usr/local/lib/python3.10/dist-packages (from tensorboard<2.8,>=2.7->tensorflow==2.8.0rc0) (3.0.1)\n",
            "Requirement already satisfied: cachetools<6.0,>=2.0.0 in /usr/local/lib/python3.10/dist-packages (from google-auth<3,>=1.6.3->tensorboard<2.8,>=2.7->tensorflow==2.8.0rc0) (5.3.3)\n",
            "Requirement already satisfied: pyasn1-modules>=0.2.1 in /usr/local/lib/python3.10/dist-packages (from google-auth<3,>=1.6.3->tensorboard<2.8,>=2.7->tensorflow==2.8.0rc0) (0.3.0)\n",
            "Requirement already satisfied: rsa<5,>=3.1.4 in /usr/local/lib/python3.10/dist-packages (from google-auth<3,>=1.6.3->tensorboard<2.8,>=2.7->tensorflow==2.8.0rc0) (4.9)\n",
            "Requirement already satisfied: requests-oauthlib>=0.7.0 in /usr/local/lib/python3.10/dist-packages (from google-auth-oauthlib<0.5,>=0.4.1->tensorboard<2.8,>=2.7->tensorflow==2.8.0rc0) (1.4.0)\n",
            "Requirement already satisfied: charset-normalizer<4,>=2 in /usr/local/lib/python3.10/dist-packages (from requests<3,>=2.21.0->tensorboard<2.8,>=2.7->tensorflow==2.8.0rc0) (3.3.2)\n",
            "Requirement already satisfied: idna<4,>=2.5 in /usr/local/lib/python3.10/dist-packages (from requests<3,>=2.21.0->tensorboard<2.8,>=2.7->tensorflow==2.8.0rc0) (3.6)\n",
            "Requirement already satisfied: urllib3<3,>=1.21.1 in /usr/local/lib/python3.10/dist-packages (from requests<3,>=2.21.0->tensorboard<2.8,>=2.7->tensorflow==2.8.0rc0) (2.0.7)\n",
            "Requirement already satisfied: certifi>=2017.4.17 in /usr/local/lib/python3.10/dist-packages (from requests<3,>=2.21.0->tensorboard<2.8,>=2.7->tensorflow==2.8.0rc0) (2024.2.2)\n",
            "Requirement already satisfied: MarkupSafe>=2.1.1 in /usr/local/lib/python3.10/dist-packages (from werkzeug>=0.11.15->tensorboard<2.8,>=2.7->tensorflow==2.8.0rc0) (2.1.5)\n",
            "Requirement already satisfied: pyasn1<0.6.0,>=0.4.6 in /usr/local/lib/python3.10/dist-packages (from pyasn1-modules>=0.2.1->google-auth<3,>=1.6.3->tensorboard<2.8,>=2.7->tensorflow==2.8.0rc0) (0.5.1)\n",
            "Requirement already satisfied: oauthlib>=3.0.0 in /usr/local/lib/python3.10/dist-packages (from requests-oauthlib>=0.7.0->google-auth-oauthlib<0.5,>=0.4.1->tensorboard<2.8,>=2.7->tensorflow==2.8.0rc0) (3.2.2)\n",
            "Installing collected packages: tf-estimator-nightly, tensorboard-plugin-wit, keras, tensorboard-data-server, setuptools, keras-preprocessing, google-auth-oauthlib, tensorboard, tensorflow\n",
            "  Attempting uninstall: keras\n",
            "    Found existing installation: keras 2.15.0\n",
            "    Uninstalling keras-2.15.0:\n",
            "      Successfully uninstalled keras-2.15.0\n",
            "  Attempting uninstall: tensorboard-data-server\n",
            "    Found existing installation: tensorboard-data-server 0.7.2\n",
            "    Uninstalling tensorboard-data-server-0.7.2:\n",
            "      Successfully uninstalled tensorboard-data-server-0.7.2\n",
            "  Attempting uninstall: setuptools\n",
            "    Found existing installation: setuptools 67.7.2\n",
            "    Uninstalling setuptools-67.7.2:\n",
            "      Successfully uninstalled setuptools-67.7.2\n",
            "  Attempting uninstall: google-auth-oauthlib\n",
            "    Found existing installation: google-auth-oauthlib 1.2.0\n",
            "    Uninstalling google-auth-oauthlib-1.2.0:\n",
            "      Successfully uninstalled google-auth-oauthlib-1.2.0\n",
            "  Attempting uninstall: tensorboard\n",
            "    Found existing installation: tensorboard 2.15.2\n",
            "    Uninstalling tensorboard-2.15.2:\n",
            "      Successfully uninstalled tensorboard-2.15.2\n",
            "  Attempting uninstall: tensorflow\n",
            "    Found existing installation: tensorflow 2.15.0\n",
            "    Uninstalling tensorflow-2.15.0:\n",
            "      Successfully uninstalled tensorflow-2.15.0\n",
            "\u001b[31mERROR: pip's dependency resolver does not currently take into account all the packages that are installed. This behaviour is the source of the following dependency conflicts.\n",
            "ipython 7.34.0 requires jedi>=0.16, which is not installed.\n",
            "arviz 0.15.1 requires setuptools>=60.0.0, but you have setuptools 59.8.0 which is incompatible.\n",
            "cvxpy 1.3.3 requires setuptools>65.5.1, but you have setuptools 59.8.0 which is incompatible.\n",
            "pandas-gbq 0.19.2 requires google-auth-oauthlib>=0.7.0, but you have google-auth-oauthlib 0.4.6 which is incompatible.\n",
            "tf-keras 2.15.1 requires tensorflow<2.16,>=2.15, but you have tensorflow 2.8.0rc0 which is incompatible.\u001b[0m\u001b[31m\n",
            "\u001b[0mSuccessfully installed google-auth-oauthlib-0.4.6 keras-2.8.0 keras-preprocessing-1.1.2 setuptools-59.8.0 tensorboard-2.7.0 tensorboard-data-server-0.6.1 tensorboard-plugin-wit-1.8.1 tensorflow-2.8.0rc0 tf-estimator-nightly-2.8.0.dev2021122109\n"
          ]
        },
        {
          "output_type": "display_data",
          "data": {
            "application/vnd.colab-display-data+json": {
              "pip_warning": {
                "packages": [
                  "_distutils_hack",
                  "keras",
                  "pkg_resources",
                  "setuptools",
                  "tensorboard",
                  "tensorflow"
                ]
              },
              "id": "567b0f00151449b09ba64ed1b839ae90"
            }
          },
          "metadata": {}
        }
      ]
    },
    {
      "cell_type": "markdown",
      "source": [
        "This code demonstrates how RL with Q-Learning can be used to train an agent to make buy/sell decisions in a simulated financial trading environment."
      ],
      "metadata": {
        "id": "9SSBf3-_HDno"
      }
    },
    {
      "cell_type": "code",
      "execution_count": 34,
      "metadata": {
        "id": "GIC-x1kHW6J-"
      },
      "outputs": [],
      "source": [
        "import os\n",
        "import math\n",
        "import random\n",
        "import numpy as np\n",
        "import pandas as pd\n",
        "from pylab import plt, mpl\n",
        "plt.style.use('seaborn')\n",
        "mpl.rcParams['font.family'] = 'serif'\n",
        "np.set_printoptions(precision=4, suppress=True)\n",
        "os.environ['PYTHONHASHSEED'] = '0'\n",
        "%config InlineBackend.figure_format = 'svg'"
      ]
    },
    {
      "cell_type": "code",
      "source": [
        "import warnings as w\n",
        "w.simplefilter('ignore')"
      ],
      "metadata": {
        "id": "wv1zarxC8gG7"
      },
      "execution_count": 35,
      "outputs": []
    },
    {
      "cell_type": "code",
      "source": [
        "os.environ['TF_CPP_MIN_LOG_LEVEL'] = '4'"
      ],
      "metadata": {
        "id": "N3JLKlfw8jlZ"
      },
      "execution_count": 36,
      "outputs": []
    },
    {
      "cell_type": "code",
      "source": [
        "from tensorflow.python.framework.ops import disable_eager_execution\n",
        "disable_eager_execution()"
      ],
      "metadata": {
        "id": "4fN8e7gS8t1G"
      },
      "execution_count": 37,
      "outputs": []
    },
    {
      "cell_type": "code",
      "source": [
        "import tensorflow as tf\n",
        "tf.__version__"
      ],
      "metadata": {
        "id": "Ig6Woq318zgS",
        "colab": {
          "base_uri": "https://localhost:8080/",
          "height": 35
        },
        "outputId": "acc9b1f2-f175-47db-979c-15aefedce0a2"
      },
      "execution_count": 38,
      "outputs": [
        {
          "output_type": "execute_result",
          "data": {
            "text/plain": [
              "'2.15.0'"
            ],
            "application/vnd.google.colaboratory.intrinsic+json": {
              "type": "string"
            }
          },
          "metadata": {},
          "execution_count": 38
        }
      ]
    },
    {
      "cell_type": "code",
      "source": [
        "import keras\n",
        "keras.__version__"
      ],
      "metadata": {
        "colab": {
          "base_uri": "https://localhost:8080/",
          "height": 35
        },
        "id": "Sbvv0EOML6Kf",
        "outputId": "2f28a52c-2feb-43b4-c4f1-3127fddae4ab"
      },
      "execution_count": 39,
      "outputs": [
        {
          "output_type": "execute_result",
          "data": {
            "text/plain": [
              "'2.15.0'"
            ],
            "application/vnd.google.colaboratory.intrinsic+json": {
              "type": "string"
            }
          },
          "metadata": {},
          "execution_count": 39
        }
      ]
    },
    {
      "cell_type": "code",
      "source": [
        "from tensorflow import keras\n",
        "from keras.layers import Dense\n",
        "from keras.models import Sequential\n",
        "from sklearn.metrics import accuracy_score"
      ],
      "metadata": {
        "id": "FaPIQ-Wc86ok"
      },
      "execution_count": 40,
      "outputs": []
    },
    {
      "cell_type": "code",
      "source": [
        "import tensorflow as tf\n",
        "if not tf.config.list_physical_devices('GPU'):  # Check for GPU availability\n",
        "  print(\"Installing TensorFlow for GPU support...\")\n",
        "  !pip install tensorflow-gpu  # Install TensorFlow with GPU support\n",
        "else:\n",
        "  print(\"TensorFlow is already installed with GPU support.\")"
      ],
      "metadata": {
        "colab": {
          "base_uri": "https://localhost:8080/"
        },
        "id": "Q-JgowwZMxa3",
        "outputId": "a4691bcb-d553-4600-d01e-994e260096f6"
      },
      "execution_count": 54,
      "outputs": [
        {
          "output_type": "stream",
          "name": "stdout",
          "text": [
            "Installing TensorFlow for GPU support...\n",
            "Collecting tensorflow-gpu\n",
            "  Downloading tensorflow-gpu-2.12.0.tar.gz (2.6 kB)\n",
            "  Preparing metadata (setup.py) ... \u001b[?25l\u001b[?25hdone\n",
            "Collecting python_version>\"3.7\" (from tensorflow-gpu)\n",
            "  Downloading python_version-0.0.2-py2.py3-none-any.whl (3.4 kB)\n",
            "Building wheels for collected packages: tensorflow-gpu\n",
            "  \u001b[1;31merror\u001b[0m: \u001b[1msubprocess-exited-with-error\u001b[0m\n",
            "  \n",
            "  \u001b[31m×\u001b[0m \u001b[32mpython setup.py bdist_wheel\u001b[0m did not run successfully.\n",
            "  \u001b[31m│\u001b[0m exit code: \u001b[1;36m1\u001b[0m\n",
            "  \u001b[31m╰─>\u001b[0m See above for output.\n",
            "  \n",
            "  \u001b[1;35mnote\u001b[0m: This error originates from a subprocess, and is likely not a problem with pip.\n",
            "  Building wheel for tensorflow-gpu (setup.py) ... \u001b[?25lerror\n",
            "\u001b[31m  ERROR: Failed building wheel for tensorflow-gpu\u001b[0m\u001b[31m\n",
            "\u001b[0m\u001b[?25h  Running setup.py clean for tensorflow-gpu\n",
            "Failed to build tensorflow-gpu\n",
            "\u001b[31mERROR: Could not build wheels for tensorflow-gpu, which is required to install pyproject.toml-based projects\u001b[0m\u001b[31m\n",
            "\u001b[0m"
          ]
        }
      ]
    },
    {
      "cell_type": "markdown",
      "source": [
        "Set a fixed seed for various libraries to ensure the experiment is reproducible and results are consistent across runs."
      ],
      "metadata": {
        "id": "9yG_w9d9KEpM"
      }
    },
    {
      "cell_type": "code",
      "source": [
        "def set_seeds(seed=100):\n",
        "    random.seed(seed)\n",
        "    np.random.seed(seed)\n",
        "    tf.random.set_seed(seed)\n",
        "    env.seed(seed)\n",
        "    env.action_space.seed(100)"
      ],
      "metadata": {
        "id": "lkGtKaKM89Fi"
      },
      "execution_count": 41,
      "outputs": []
    },
    {
      "cell_type": "markdown",
      "source": [
        "# Q-Learning"
      ],
      "metadata": {
        "id": "Vdq3eytK9Be1"
      }
    },
    {
      "cell_type": "markdown",
      "source": [
        "This class defines the core RL agent using Q-Learning.\n",
        "\n",
        "It initializes parameters like gamma (discount factor) = 0.95, hidden units in the neural network model = 24, optimizer = Adam, learning rate = 0.001, epsilon day rate = 0.995, batch size = 32.\n",
        "\n",
        "The '_build_model' function defines the neural network architecture with two hidden layers and an output layer with size equal to the number of available actions (buy or sell in this case).\n",
        "\n",
        "The 'act' function decides the action based on epsilon-greedy policy. It explores randomly with epsilon probability and exploits the model's prediction with 1-epsilon probability.\n",
        "\n",
        "The 'replay' function samples a mini-batch of experiences from memory and replays them to update the Q-values of the model using target Q-learning.\n",
        "\n",
        "The 'learn' function trains the agent over a specified number of episodes. It interacts with the environment, stores experiences in memory, and replays them to learn. It tracks average rewards and prints progress.\n",
        "\n",
        "The 'test' function in the DQLAgent class is designed to evaluate the performance of the trained agent on the environment."
      ],
      "metadata": {
        "id": "o-x79bMnfPI9"
      }
    },
    {
      "cell_type": "code",
      "source": [
        "from collections import deque"
      ],
      "metadata": {
        "id": "z68Zk6PR9BKW"
      },
      "execution_count": 42,
      "outputs": []
    },
    {
      "cell_type": "code",
      "source": [
        "class DQLAgent:\n",
        "\n",
        "    def __init__(self, gamma=0.95, hu=24, opt=keras.optimizers.Adam,\n",
        "           lr=0.001, finish=False):\n",
        "        self.finish = finish\n",
        "        self.epsilon = 1.0\n",
        "        self.epsilon_min = 0.01\n",
        "        self.epsilon_decay = 0.995\n",
        "        self.gamma = gamma\n",
        "        self.batch_size = 32\n",
        "        self.max_treward = 0\n",
        "        self.averages = list()\n",
        "        self.memory = deque(maxlen=2000)\n",
        "        self.osn = env.observation_space.shape[0]\n",
        "        self.model = self._build_model(hu, opt, lr)\n",
        "\n",
        "    def _build_model(self, hu, opt, lr):\n",
        "        model = Sequential()\n",
        "        model.add(Dense(hu, input_dim=self.osn,\n",
        "                        activation='relu'))\n",
        "        model.add(Dense(hu, activation='relu'))\n",
        "        model.add(Dense(env.action_space.n, activation='linear'))\n",
        "        model.compile(loss='mean_squared_error', optimizer=opt(learning_rate=lr))\n",
        "        return model\n",
        "\n",
        "    def act(self, state):\n",
        "        if random.random() <= self.epsilon:\n",
        "            return env.action_space.sample()\n",
        "        action = self.model.predict(state)[0]\n",
        "        return np.argmax(action)\n",
        "\n",
        "    def replay(self):\n",
        "        batch = random.sample(self.memory, self.batch_size)\n",
        "        for state, action, reward, next_state, done in batch:\n",
        "            if not done:\n",
        "                reward += self.gamma * np.amax(\n",
        "                    self.model.predict(next_state)[0])\n",
        "            target = self.model.predict(state)\n",
        "            target[0, action] = reward\n",
        "            self.model.fit(state, target, epochs=1,\n",
        "                           verbose=False)\n",
        "        if self.epsilon > self.epsilon_min:\n",
        "            self.epsilon *= self.epsilon_decay\n",
        "\n",
        "    def learn(self, episodes):\n",
        "        trewards = []\n",
        "        for e in range(1, episodes + 1):\n",
        "            state = env.reset()\n",
        "            state = np.reshape(state, [1, self.osn])\n",
        "            for _ in range(5000):\n",
        "                action = self.act(state)\n",
        "                next_state, reward, done, info = env.step(action)\n",
        "                next_state = np.reshape(next_state,\n",
        "                                        [1, self.osn])\n",
        "                self.memory.append([state, action, reward,\n",
        "                                     next_state, done])\n",
        "                state = next_state\n",
        "                if done:\n",
        "                    treward = _ + 1\n",
        "                    trewards.append(treward)\n",
        "                    av = sum(trewards[-25:]) / 25\n",
        "                    self.averages.append(av)\n",
        "                    self.max_treward = max(self.max_treward, treward)\n",
        "                    templ = 'episode: {:4d}/{} | treward: {:4d} | '\n",
        "                    templ += 'av: {:6.1f} | max: {:4d}'\n",
        "                    print(templ.format(e, episodes, treward, av,\n",
        "                                       self.max_treward), end='\\r')\n",
        "                    break\n",
        "            if av > 195 and self.finish:\n",
        "                break\n",
        "            if len(self.memory) > self.batch_size:\n",
        "                self.replay()\n",
        "        print()\n",
        "\n",
        "    def test(self, episodes):\n",
        "        trewards = []\n",
        "        for e in range(1, episodes + 1):\n",
        "            state = env.reset()\n",
        "            for _ in range(5001):\n",
        "                state = np.reshape(state, [1, self.osn])\n",
        "                action = np.argmax(self.model.predict(state)[0])\n",
        "                next_state, reward, done, info = env.step(action)\n",
        "                state = next_state\n",
        "                if done:\n",
        "                    treward = _ + 1\n",
        "                    trewards.append(treward)\n",
        "                    print('episode: {:4d}/{} | treward: {:4d}'\n",
        "                          .format(e, episodes, treward), end='\\r')\n",
        "                    break\n",
        "        return trewards"
      ],
      "metadata": {
        "id": "W8t7dDFf9KT0"
      },
      "execution_count": 43,
      "outputs": []
    },
    {
      "cell_type": "markdown",
      "source": [
        "# Environment for Finance"
      ],
      "metadata": {
        "id": "1mVrvFVwBadO"
      }
    },
    {
      "cell_type": "markdown",
      "source": [
        "This class defines the simulated financial trading environment.\n",
        "\n",
        "It downloads historical data for a specific symbol (EUR=) and features (price or log return).\n",
        "\n",
        "It preprocesses the data by normalizing it and creating a binary classification target indicating price increase/decrease.\n",
        "\n",
        "The '_get_state' function retrieves the relevant features for the current state.\n",
        "\n",
        "The 'reset' function initializes the environment for a new episode.\n",
        "\n",
        "The 'step' function takes an action (buy or sell) and simulates the next step. It provides reward based on the action matching the target, updates internal variables, and determines if the episode is done.\n"
      ],
      "metadata": {
        "id": "_zgKa2f_uVOc"
      }
    },
    {
      "cell_type": "code",
      "source": [
        "class observation_space:\n",
        "    def __init__(self, n):\n",
        "        self.shape = (n,)"
      ],
      "metadata": {
        "id": "ej5UH5im9Y3v"
      },
      "execution_count": 44,
      "outputs": []
    },
    {
      "cell_type": "code",
      "source": [
        "class action_space:\n",
        "    def __init__(self, n):\n",
        "        self.n = n\n",
        "    def seed(self, seed):\n",
        "        random.seed(seed)\n",
        "    def sample(self):\n",
        "        return random.randint(0, self.n - 1)"
      ],
      "metadata": {
        "id": "d8KberEqBerQ"
      },
      "execution_count": 45,
      "outputs": []
    },
    {
      "cell_type": "code",
      "source": [
        "class Finance:\n",
        "\n",
        "    url = 'http://hilpisch.com/aiif_eikon_eod_data.csv'\n",
        "\n",
        "    def __init__(self, symbol, features):\n",
        "        self.symbol = symbol\n",
        "        self.features = features\n",
        "        self.observation_space = observation_space(4)\n",
        "        self.osn = self.observation_space.shape[0]\n",
        "        self.action_space = action_space(2)\n",
        "        self.min_accuracy = 0.475\n",
        "        self._get_data()\n",
        "        self._prepare_data()\n",
        "\n",
        "    def _get_data(self):\n",
        "        self.raw = pd.read_csv(self.url, index_col=0,\n",
        "                               parse_dates=True).dropna()\n",
        "\n",
        "    def _prepare_data(self):\n",
        "        self.data = pd.DataFrame(self.raw[self.symbol])\n",
        "        self.data['r'] = np.log(self.data / self.data.shift(1))\n",
        "        self.data.dropna(inplace=True)\n",
        "        self.data = (self.data - self.data.mean()) / self.data.std()\n",
        "        self.data['d'] = np.where(self.data['r'] > 0, 1, 0)\n",
        "\n",
        "    def _get_state(self):\n",
        "        return self.data[self.features].iloc[\n",
        "            self.bar - self.osn:self.bar].values\n",
        "\n",
        "    def seed(self, seed=None):\n",
        "        pass\n",
        "\n",
        "    def reset(self):\n",
        "        self.treward = 0\n",
        "        self.accuracy = 0\n",
        "        self.bar = self.osn\n",
        "        state = self.data[self.features].iloc[\n",
        "            self.bar - self.osn:self.bar]\n",
        "        return state.values\n",
        "\n",
        "    def step(self, action):\n",
        "        correct = action == self.data['d'].iloc[self.bar]\n",
        "        reward = 1 if correct else 0\n",
        "        self.treward += reward\n",
        "        self.bar += 1\n",
        "        self.accuracy = self.treward / (self.bar - self.osn)\n",
        "        if self.bar >= len(self.data):\n",
        "            done = True\n",
        "        elif reward == 1:\n",
        "            done = False\n",
        "        elif (self.accuracy < self.min_accuracy and\n",
        "              self.bar > self.osn + 10):\n",
        "            done = True\n",
        "        else:\n",
        "            done = False\n",
        "        state = self._get_state()\n",
        "        info = {}\n",
        "        return state, reward, done, info"
      ],
      "metadata": {
        "id": "SMpragiMBiuv"
      },
      "execution_count": 46,
      "outputs": []
    },
    {
      "cell_type": "markdown",
      "source": [
        "Two environments are created, one using price as the feature and another using log return.\n",
        "\n",
        "An agent is created with specific hyperparameters (gamma, optimizer).\n",
        "\n",
        "The agent learns for a set number of episodes (300) by interacting with the environment.\n",
        "\n",
        "The agent's epsilon value (exploration vs exploitation) is printed after training.\n",
        "\n",
        "The agent is tested for 3 episodes to evaluate its performance.\n",
        "\n",
        "Finally, a plot is generated showing the moving average and regression line of the total rewards achieved during training."
      ],
      "metadata": {
        "id": "fG5ZjcRXFlQ_"
      }
    },
    {
      "cell_type": "code",
      "source": [
        "env = Finance('EUR=', 'EUR=')  # price as feature\n",
        "env = Finance('EUR=', 'r')  # log return as feature"
      ],
      "metadata": {
        "id": "YHjEBZccBprV"
      },
      "execution_count": 47,
      "outputs": []
    },
    {
      "cell_type": "code",
      "source": [
        "env.reset()"
      ],
      "metadata": {
        "colab": {
          "base_uri": "https://localhost:8080/"
        },
        "id": "Ru-jfPDwBpgI",
        "outputId": "0b453453-9ea8-4068-bb58-e3b266564959"
      },
      "execution_count": 48,
      "outputs": [
        {
          "output_type": "execute_result",
          "data": {
            "text/plain": [
              "array([-0.5125,  0.5603, -1.1434,  1.1788])"
            ]
          },
          "metadata": {},
          "execution_count": 48
        }
      ]
    },
    {
      "cell_type": "code",
      "source": [
        "a = env.action_space.sample()\n",
        "a"
      ],
      "metadata": {
        "colab": {
          "base_uri": "https://localhost:8080/"
        },
        "id": "VU1HXldyBwNs",
        "outputId": "22a2d530-96c5-458b-bba6-4f0b941fa53e"
      },
      "execution_count": 49,
      "outputs": [
        {
          "output_type": "execute_result",
          "data": {
            "text/plain": [
              "0"
            ]
          },
          "metadata": {},
          "execution_count": 49
        }
      ]
    },
    {
      "cell_type": "code",
      "source": [
        "env.step(a)"
      ],
      "metadata": {
        "colab": {
          "base_uri": "https://localhost:8080/"
        },
        "id": "dl6lhoIYBww7",
        "outputId": "1a980479-14a5-44ec-9d75-991a2754cd39"
      },
      "execution_count": 50,
      "outputs": [
        {
          "output_type": "execute_result",
          "data": {
            "text/plain": [
              "(array([ 0.5603, -1.1434,  1.1788,  1.2569]), 0, False, {})"
            ]
          },
          "metadata": {},
          "execution_count": 50
        }
      ]
    },
    {
      "cell_type": "code",
      "source": [
        "set_seeds(100)\n",
        "agent = DQLAgent(gamma=0.5, opt=tf.compat.v1.train.AdamOptimizer)"
      ],
      "metadata": {
        "id": "KoW58K-QBz5R"
      },
      "execution_count": 55,
      "outputs": []
    },
    {
      "cell_type": "code",
      "source": [
        "episodes = 300"
      ],
      "metadata": {
        "id": "AaqHXPZmB_0f"
      },
      "execution_count": 52,
      "outputs": []
    },
    {
      "cell_type": "code",
      "source": [
        "!pip install keras-tuner\n",
        "from tensorflow import keras\n",
        "from kerastuner import HyperParameters\n",
        "def learn(self, episodes):\n",
        "    for episode in range(episodes):\n",
        "        state = self.env.reset()\n",
        "        state = np.reshape(state, [1, self.state_size])\n",
        "        done = False\n",
        "        score = 0\n",
        "        while not done:\n",
        "            action = self.act(state)\n",
        "            next_state, reward, done, _ = self.env.step(action)\n",
        "            next_state = np.reshape(next_state, [1, self.state_size])\n",
        "            self.memory.append([state, action, reward, next_state, done])\n",
        "            state = next_state\n",
        "            score += reward\n",
        "            if done:\n",
        "                print(\"Episode: {}/{}, Score: {}\".format(episode, episodes, score))\n",
        "                break\n",
        "        if len(self.memory) > self.batch_size:\n",
        "            self.replay()\n",
        "def replay(self):\n",
        "    minibatch = random.sample(self.memory, self.batch_size)\n",
        "    for state, action, reward, next_state, done in minibatch:\n",
        "        target = self.model.predict(state)\n",
        "        if done:\n",
        "            target[0][action] = reward\n",
        "        else:\n",
        "            Q_future = max(self.model.predict(next_state)[0])\n",
        "            target[0][action] = reward + Q_future * self.gamma\n",
        "        self.model.fit(state, target, epochs=1, verbose=0)"
      ],
      "metadata": {
        "colab": {
          "base_uri": "https://localhost:8080/"
        },
        "id": "Zpv0mJBgCgPe",
        "outputId": "55759f80-bb2f-4d77-a03f-cba75859ab2b"
      },
      "execution_count": null,
      "outputs": [
        {
          "output_type": "stream",
          "name": "stdout",
          "text": [
            "Requirement already satisfied: keras-tuner in /usr/local/lib/python3.10/dist-packages (1.4.7)\n",
            "Requirement already satisfied: keras in /usr/local/lib/python3.10/dist-packages (from keras-tuner) (2.15.0)\n",
            "Requirement already satisfied: packaging in /usr/local/lib/python3.10/dist-packages (from keras-tuner) (24.0)\n",
            "Requirement already satisfied: requests in /usr/local/lib/python3.10/dist-packages (from keras-tuner) (2.31.0)\n",
            "Requirement already satisfied: kt-legacy in /usr/local/lib/python3.10/dist-packages (from keras-tuner) (1.0.5)\n",
            "Requirement already satisfied: charset-normalizer<4,>=2 in /usr/local/lib/python3.10/dist-packages (from requests->keras-tuner) (3.3.2)\n",
            "Requirement already satisfied: idna<4,>=2.5 in /usr/local/lib/python3.10/dist-packages (from requests->keras-tuner) (3.6)\n",
            "Requirement already satisfied: urllib3<3,>=1.21.1 in /usr/local/lib/python3.10/dist-packages (from requests->keras-tuner) (2.0.7)\n",
            "Requirement already satisfied: certifi>=2017.4.17 in /usr/local/lib/python3.10/dist-packages (from requests->keras-tuner) (2024.2.2)\n"
          ]
        }
      ]
    },
    {
      "cell_type": "code",
      "source": [
        "%time agent.learn(episodes)"
      ],
      "metadata": {
        "colab": {
          "base_uri": "https://localhost:8080/"
        },
        "id": "1Ry5Q2TFB_xz",
        "outputId": "87e5909d-5fdb-4afd-c8f8-8684af52c79a"
      },
      "execution_count": 56,
      "outputs": [
        {
          "output_type": "stream",
          "name": "stdout",
          "text": [
            "\n",
            "CPU times: user 5min 5s, sys: 6.71 s, total: 5min 11s\n",
            "Wall time: 5min 6s\n"
          ]
        }
      ]
    },
    {
      "cell_type": "code",
      "source": [
        "agent.epsilon"
      ],
      "metadata": {
        "colab": {
          "base_uri": "https://localhost:8080/"
        },
        "id": "gwsyPjc5B_t5",
        "outputId": "bb822b28-8713-432a-bcbc-96f2356b558f"
      },
      "execution_count": 57,
      "outputs": [
        {
          "output_type": "execute_result",
          "data": {
            "text/plain": [
              "0.22453190559909803"
            ]
          },
          "metadata": {},
          "execution_count": 57
        }
      ]
    },
    {
      "cell_type": "code",
      "source": [
        "agent.test(3)"
      ],
      "metadata": {
        "colab": {
          "base_uri": "https://localhost:8080/"
        },
        "id": "QVxmdnBYB_nV",
        "outputId": "594c7f93-1457-46d3-9838-800ab79f84d5"
      },
      "execution_count": 58,
      "outputs": [
        {
          "output_type": "stream",
          "name": "stdout",
          "text": []
        },
        {
          "output_type": "execute_result",
          "data": {
            "text/plain": [
              "[2511, 2511, 2511]"
            ]
          },
          "metadata": {},
          "execution_count": 58
        }
      ]
    },
    {
      "cell_type": "code",
      "source": [
        "plt.figure(figsize=(10, 6))\n",
        "x = range(len(agent.averages))\n",
        "y = np.polyval(np.polyfit(x, agent.averages, deg=3), x)\n",
        "plt.plot(agent.averages, label='moving average')\n",
        "plt.plot(x, y, 'r--', label='regression')\n",
        "plt.xlabel('episodes')\n",
        "plt.ylabel('total reward')\n",
        "plt.legend();"
      ],
      "metadata": {
        "colab": {
          "base_uri": "https://localhost:8080/",
          "height": 525
        },
        "id": "IC4Vzn0_CNjR",
        "outputId": "583d6f85-e138-4b4d-eea9-22df635f8c34"
      },
      "execution_count": 59,
      "outputs": [
        {
          "output_type": "display_data",
          "data": {
            "text/plain": [
              "<Figure size 1000x600 with 1 Axes>"
            ],
            "image/svg+xml": "<?xml version=\"1.0\" encoding=\"utf-8\" standalone=\"no\"?>\n<!DOCTYPE svg PUBLIC \"-//W3C//DTD SVG 1.1//EN\"\n  \"http://www.w3.org/Graphics/SVG/1.1/DTD/svg11.dtd\">\n<svg xmlns:xlink=\"http://www.w3.org/1999/xlink\" width=\"619.495937pt\" height=\"378.364062pt\" viewBox=\"0 0 619.495937 378.364062\" xmlns=\"http://www.w3.org/2000/svg\" version=\"1.1\">\n <metadata>\n  <rdf:RDF xmlns:dc=\"http://purl.org/dc/elements/1.1/\" xmlns:cc=\"http://creativecommons.org/ns#\" xmlns:rdf=\"http://www.w3.org/1999/02/22-rdf-syntax-ns#\">\n   <cc:Work>\n    <dc:type rdf:resource=\"http://purl.org/dc/dcmitype/StillImage\"/>\n    <dc:date>2024-03-18T15:41:56.071076</dc:date>\n    <dc:format>image/svg+xml</dc:format>\n    <dc:creator>\n     <cc:Agent>\n      <dc:title>Matplotlib v3.7.1, https://matplotlib.org/</dc:title>\n     </cc:Agent>\n    </dc:creator>\n   </cc:Work>\n  </rdf:RDF>\n </metadata>\n <defs>\n  <style type=\"text/css\">*{stroke-linejoin: round; stroke-linecap: butt}</style>\n </defs>\n <g id=\"figure_1\">\n  <g id=\"patch_1\">\n   <path d=\"M 0 378.364062 \nL 619.495937 378.364062 \nL 619.495937 0 \nL 0 0 \nz\n\" style=\"fill: #ffffff\"/>\n  </g>\n  <g id=\"axes_1\">\n   <g id=\"patch_2\">\n    <path d=\"M 54.295938 339.84 \nL 612.295938 339.84 \nL 612.295938 7.2 \nL 54.295938 7.2 \nz\n\" style=\"fill: #eaeaf2\"/>\n   </g>\n   <g id=\"matplotlib.axis_1\">\n    <g id=\"xtick_1\">\n     <g id=\"line2d_1\">\n      <path d=\"M 79.659574 339.84 \nL 79.659574 7.2 \n\" clip-path=\"url(#pd6288ad786)\" style=\"fill: none; stroke: #ffffff; stroke-linecap: round\"/>\n     </g>\n     <g id=\"line2d_2\"/>\n     <g id=\"text_1\">\n      <!-- 0 -->\n      <g style=\"fill: #262626\" transform=\"translate(76.478324 354.438437) scale(0.1 -0.1)\">\n       <defs>\n        <path id=\"DejaVuSerif-30\" d=\"M 2034 219 \nQ 2513 219 2750 744 \nQ 2988 1269 2988 2328 \nQ 2988 3391 2750 3916 \nQ 2513 4441 2034 4441 \nQ 1556 4441 1318 3916 \nQ 1081 3391 1081 2328 \nQ 1081 1269 1318 744 \nQ 1556 219 2034 219 \nz\nM 2034 -91 \nQ 1275 -91 848 546 \nQ 422 1184 422 2328 \nQ 422 3475 848 4112 \nQ 1275 4750 2034 4750 \nQ 2797 4750 3222 4112 \nQ 3647 3475 3647 2328 \nQ 3647 1184 3222 546 \nQ 2797 -91 2034 -91 \nz\n\" transform=\"scale(0.015625)\"/>\n       </defs>\n       <use xlink:href=\"#DejaVuSerif-30\"/>\n      </g>\n     </g>\n    </g>\n    <g id=\"xtick_2\">\n     <g id=\"line2d_3\">\n      <path d=\"M 164.487789 339.84 \nL 164.487789 7.2 \n\" clip-path=\"url(#pd6288ad786)\" style=\"fill: none; stroke: #ffffff; stroke-linecap: round\"/>\n     </g>\n     <g id=\"line2d_4\"/>\n     <g id=\"text_2\">\n      <!-- 50 -->\n      <g style=\"fill: #262626\" transform=\"translate(158.125289 354.438437) scale(0.1 -0.1)\">\n       <defs>\n        <path id=\"DejaVuSerif-35\" d=\"M 3219 4666 \nL 3219 4153 \nL 1081 4153 \nL 1081 2816 \nQ 1244 2928 1461 2984 \nQ 1678 3041 1947 3041 \nQ 2703 3041 3140 2622 \nQ 3578 2203 3578 1478 \nQ 3578 738 3136 323 \nQ 2694 -91 1894 -91 \nQ 1572 -91 1234 -12 \nQ 897 66 544 225 \nL 544 1131 \nL 897 1131 \nQ 925 688 1179 453 \nQ 1434 219 1894 219 \nQ 2388 219 2653 544 \nQ 2919 869 2919 1478 \nQ 2919 2084 2655 2407 \nQ 2391 2731 1894 2731 \nQ 1613 2731 1398 2631 \nQ 1184 2531 1019 2322 \nL 750 2322 \nL 750 4666 \nL 3219 4666 \nz\n\" transform=\"scale(0.015625)\"/>\n       </defs>\n       <use xlink:href=\"#DejaVuSerif-35\"/>\n       <use xlink:href=\"#DejaVuSerif-30\" x=\"63.623047\"/>\n      </g>\n     </g>\n    </g>\n    <g id=\"xtick_3\">\n     <g id=\"line2d_5\">\n      <path d=\"M 249.316004 339.84 \nL 249.316004 7.2 \n\" clip-path=\"url(#pd6288ad786)\" style=\"fill: none; stroke: #ffffff; stroke-linecap: round\"/>\n     </g>\n     <g id=\"line2d_6\"/>\n     <g id=\"text_3\">\n      <!-- 100 -->\n      <g style=\"fill: #262626\" transform=\"translate(239.772254 354.438437) scale(0.1 -0.1)\">\n       <defs>\n        <path id=\"DejaVuSerif-31\" d=\"M 909 0 \nL 909 331 \nL 1722 331 \nL 1722 4213 \nL 781 3603 \nL 781 4013 \nL 1919 4750 \nL 2350 4750 \nL 2350 331 \nL 3163 331 \nL 3163 0 \nL 909 0 \nz\n\" transform=\"scale(0.015625)\"/>\n       </defs>\n       <use xlink:href=\"#DejaVuSerif-31\"/>\n       <use xlink:href=\"#DejaVuSerif-30\" x=\"63.623047\"/>\n       <use xlink:href=\"#DejaVuSerif-30\" x=\"127.246094\"/>\n      </g>\n     </g>\n    </g>\n    <g id=\"xtick_4\">\n     <g id=\"line2d_7\">\n      <path d=\"M 334.14422 339.84 \nL 334.14422 7.2 \n\" clip-path=\"url(#pd6288ad786)\" style=\"fill: none; stroke: #ffffff; stroke-linecap: round\"/>\n     </g>\n     <g id=\"line2d_8\"/>\n     <g id=\"text_4\">\n      <!-- 150 -->\n      <g style=\"fill: #262626\" transform=\"translate(324.60047 354.438437) scale(0.1 -0.1)\">\n       <use xlink:href=\"#DejaVuSerif-31\"/>\n       <use xlink:href=\"#DejaVuSerif-35\" x=\"63.623047\"/>\n       <use xlink:href=\"#DejaVuSerif-30\" x=\"127.246094\"/>\n      </g>\n     </g>\n    </g>\n    <g id=\"xtick_5\">\n     <g id=\"line2d_9\">\n      <path d=\"M 418.972435 339.84 \nL 418.972435 7.2 \n\" clip-path=\"url(#pd6288ad786)\" style=\"fill: none; stroke: #ffffff; stroke-linecap: round\"/>\n     </g>\n     <g id=\"line2d_10\"/>\n     <g id=\"text_5\">\n      <!-- 200 -->\n      <g style=\"fill: #262626\" transform=\"translate(409.428685 354.438437) scale(0.1 -0.1)\">\n       <defs>\n        <path id=\"DejaVuSerif-32\" d=\"M 819 3553 \nL 469 3553 \nL 469 4384 \nQ 803 4563 1142 4656 \nQ 1481 4750 1806 4750 \nQ 2534 4750 2956 4397 \nQ 3378 4044 3378 3438 \nQ 3378 2753 2422 1800 \nQ 2347 1728 2309 1691 \nL 1131 513 \nL 3078 513 \nL 3078 1088 \nL 3444 1088 \nL 3444 0 \nL 434 0 \nL 434 341 \nL 1850 1753 \nQ 2319 2222 2519 2614 \nQ 2719 3006 2719 3438 \nQ 2719 3909 2473 4175 \nQ 2228 4441 1797 4441 \nQ 1350 4441 1106 4219 \nQ 863 3997 819 3553 \nz\n\" transform=\"scale(0.015625)\"/>\n       </defs>\n       <use xlink:href=\"#DejaVuSerif-32\"/>\n       <use xlink:href=\"#DejaVuSerif-30\" x=\"63.623047\"/>\n       <use xlink:href=\"#DejaVuSerif-30\" x=\"127.246094\"/>\n      </g>\n     </g>\n    </g>\n    <g id=\"xtick_6\">\n     <g id=\"line2d_11\">\n      <path d=\"M 503.80065 339.84 \nL 503.80065 7.2 \n\" clip-path=\"url(#pd6288ad786)\" style=\"fill: none; stroke: #ffffff; stroke-linecap: round\"/>\n     </g>\n     <g id=\"line2d_12\"/>\n     <g id=\"text_6\">\n      <!-- 250 -->\n      <g style=\"fill: #262626\" transform=\"translate(494.2569 354.438437) scale(0.1 -0.1)\">\n       <use xlink:href=\"#DejaVuSerif-32\"/>\n       <use xlink:href=\"#DejaVuSerif-35\" x=\"63.623047\"/>\n       <use xlink:href=\"#DejaVuSerif-30\" x=\"127.246094\"/>\n      </g>\n     </g>\n    </g>\n    <g id=\"xtick_7\">\n     <g id=\"line2d_13\">\n      <path d=\"M 588.628865 339.84 \nL 588.628865 7.2 \n\" clip-path=\"url(#pd6288ad786)\" style=\"fill: none; stroke: #ffffff; stroke-linecap: round\"/>\n     </g>\n     <g id=\"line2d_14\"/>\n     <g id=\"text_7\">\n      <!-- 300 -->\n      <g style=\"fill: #262626\" transform=\"translate(579.085115 354.438437) scale(0.1 -0.1)\">\n       <defs>\n        <path id=\"DejaVuSerif-33\" d=\"M 622 4469 \nQ 988 4606 1323 4678 \nQ 1659 4750 1953 4750 \nQ 2638 4750 3022 4454 \nQ 3406 4159 3406 3634 \nQ 3406 3213 3140 2930 \nQ 2875 2647 2388 2547 \nQ 2963 2466 3280 2130 \nQ 3597 1794 3597 1259 \nQ 3597 606 3158 257 \nQ 2719 -91 1894 -91 \nQ 1528 -91 1179 -12 \nQ 831 66 488 225 \nL 488 1131 \nL 838 1131 \nQ 869 681 1141 450 \nQ 1413 219 1906 219 \nQ 2384 219 2661 495 \nQ 2938 772 2938 1253 \nQ 2938 1803 2653 2086 \nQ 2369 2369 1819 2369 \nL 1522 2369 \nL 1522 2688 \nL 1678 2688 \nQ 2225 2688 2498 2914 \nQ 2772 3141 2772 3597 \nQ 2772 4006 2547 4223 \nQ 2322 4441 1900 4441 \nQ 1478 4441 1245 4241 \nQ 1013 4041 972 3647 \nL 622 3647 \nL 622 4469 \nz\n\" transform=\"scale(0.015625)\"/>\n       </defs>\n       <use xlink:href=\"#DejaVuSerif-33\"/>\n       <use xlink:href=\"#DejaVuSerif-30\" x=\"63.623047\"/>\n       <use xlink:href=\"#DejaVuSerif-30\" x=\"127.246094\"/>\n      </g>\n     </g>\n    </g>\n    <g id=\"text_8\">\n     <!-- episodes -->\n     <g style=\"fill: #262626\" transform=\"translate(309.028906 368.876406) scale(0.11 -0.11)\">\n      <defs>\n       <path id=\"DejaVuSerif-65\" d=\"M 3469 1600 \nL 991 1600 \nL 991 1575 \nQ 991 903 1244 561 \nQ 1497 219 1991 219 \nQ 2369 219 2611 417 \nQ 2853 616 2950 1006 \nL 3413 1006 \nQ 3275 459 2904 184 \nQ 2534 -91 1931 -91 \nQ 1203 -91 761 389 \nQ 319 869 319 1663 \nQ 319 2450 753 2931 \nQ 1188 3413 1894 3413 \nQ 2647 3413 3050 2948 \nQ 3453 2484 3469 1600 \nz\nM 2791 1931 \nQ 2772 2513 2545 2808 \nQ 2319 3103 1894 3103 \nQ 1497 3103 1269 2806 \nQ 1041 2509 991 1931 \nL 2791 1931 \nz\n\" transform=\"scale(0.015625)\"/>\n       <path id=\"DejaVuSerif-70\" d=\"M 1313 1825 \nL 1313 1497 \nQ 1313 897 1542 583 \nQ 1772 269 2209 269 \nQ 2650 269 2876 622 \nQ 3103 975 3103 1663 \nQ 3103 2353 2876 2703 \nQ 2650 3053 2209 3053 \nQ 1772 3053 1542 2737 \nQ 1313 2422 1313 1825 \nz\nM 738 2988 \nL 184 2988 \nL 184 3322 \nL 1313 3322 \nL 1313 2803 \nQ 1481 3116 1742 3264 \nQ 2003 3413 2388 3413 \nQ 3000 3413 3387 2928 \nQ 3775 2444 3775 1663 \nQ 3775 881 3387 395 \nQ 3000 -91 2388 -91 \nQ 2003 -91 1742 57 \nQ 1481 206 1313 519 \nL 1313 -997 \nL 1856 -997 \nL 1856 -1331 \nL 184 -1331 \nL 184 -997 \nL 738 -997 \nL 738 2988 \nz\n\" transform=\"scale(0.015625)\"/>\n       <path id=\"DejaVuSerif-69\" d=\"M 622 4353 \nQ 622 4497 726 4603 \nQ 831 4709 978 4709 \nQ 1122 4709 1226 4603 \nQ 1331 4497 1331 4353 \nQ 1331 4206 1228 4103 \nQ 1125 4000 978 4000 \nQ 831 4000 726 4103 \nQ 622 4206 622 4353 \nz\nM 1356 331 \nL 1900 331 \nL 1900 0 \nL 231 0 \nL 231 331 \nL 781 331 \nL 781 2988 \nL 231 2988 \nL 231 3322 \nL 1356 3322 \nL 1356 331 \nz\n\" transform=\"scale(0.015625)\"/>\n       <path id=\"DejaVuSerif-73\" d=\"M 359 184 \nL 359 959 \nL 691 959 \nQ 703 588 923 403 \nQ 1144 219 1575 219 \nQ 1963 219 2166 364 \nQ 2369 509 2369 788 \nQ 2369 1006 2220 1140 \nQ 2072 1275 1594 1428 \nL 1178 1569 \nQ 750 1706 558 1912 \nQ 366 2119 366 2438 \nQ 366 2894 700 3153 \nQ 1034 3413 1625 3413 \nQ 1888 3413 2178 3344 \nQ 2469 3275 2778 3144 \nL 2778 2419 \nL 2447 2419 \nQ 2434 2741 2221 2922 \nQ 2009 3103 1644 3103 \nQ 1281 3103 1095 2975 \nQ 909 2847 909 2591 \nQ 909 2381 1050 2254 \nQ 1191 2128 1613 1997 \nL 2069 1856 \nQ 2541 1709 2748 1489 \nQ 2956 1269 2956 922 \nQ 2956 450 2595 179 \nQ 2234 -91 1600 -91 \nQ 1278 -91 972 -22 \nQ 666 47 359 184 \nz\n\" transform=\"scale(0.015625)\"/>\n       <path id=\"DejaVuSerif-6f\" d=\"M 1925 219 \nQ 2388 219 2623 584 \nQ 2859 950 2859 1663 \nQ 2859 2375 2623 2739 \nQ 2388 3103 1925 3103 \nQ 1463 3103 1227 2739 \nQ 991 2375 991 1663 \nQ 991 950 1228 584 \nQ 1466 219 1925 219 \nz\nM 1925 -91 \nQ 1200 -91 759 389 \nQ 319 869 319 1663 \nQ 319 2456 758 2934 \nQ 1197 3413 1925 3413 \nQ 2653 3413 3092 2934 \nQ 3531 2456 3531 1663 \nQ 3531 869 3092 389 \nQ 2653 -91 1925 -91 \nz\n\" transform=\"scale(0.015625)\"/>\n       <path id=\"DejaVuSerif-64\" d=\"M 3359 331 \nL 3909 331 \nL 3909 0 \nL 2784 0 \nL 2784 519 \nQ 2616 206 2355 57 \nQ 2094 -91 1709 -91 \nQ 1097 -91 708 395 \nQ 319 881 319 1663 \nQ 319 2444 706 2928 \nQ 1094 3413 1709 3413 \nQ 2094 3413 2355 3264 \nQ 2616 3116 2784 2803 \nL 2784 4531 \nL 2241 4531 \nL 2241 4863 \nL 3359 4863 \nL 3359 331 \nz\nM 2784 1497 \nL 2784 1825 \nQ 2784 2422 2554 2737 \nQ 2325 3053 1888 3053 \nQ 1444 3053 1217 2703 \nQ 991 2353 991 1663 \nQ 991 975 1217 622 \nQ 1444 269 1888 269 \nQ 2325 269 2554 583 \nQ 2784 897 2784 1497 \nz\n\" transform=\"scale(0.015625)\"/>\n      </defs>\n      <use xlink:href=\"#DejaVuSerif-65\"/>\n      <use xlink:href=\"#DejaVuSerif-70\" x=\"59.179688\"/>\n      <use xlink:href=\"#DejaVuSerif-69\" x=\"123.193359\"/>\n      <use xlink:href=\"#DejaVuSerif-73\" x=\"155.175781\"/>\n      <use xlink:href=\"#DejaVuSerif-6f\" x=\"206.494141\"/>\n      <use xlink:href=\"#DejaVuSerif-64\" x=\"266.699219\"/>\n      <use xlink:href=\"#DejaVuSerif-65\" x=\"330.712891\"/>\n      <use xlink:href=\"#DejaVuSerif-73\" x=\"389.892578\"/>\n     </g>\n    </g>\n   </g>\n   <g id=\"matplotlib.axis_2\">\n    <g id=\"ytick_1\">\n     <g id=\"line2d_15\">\n      <path d=\"M 54.295938 324.788603 \nL 612.295938 324.788603 \n\" clip-path=\"url(#pd6288ad786)\" style=\"fill: none; stroke: #ffffff; stroke-linecap: round\"/>\n     </g>\n     <g id=\"line2d_16\"/>\n     <g id=\"text_9\">\n      <!-- 0 -->\n      <g style=\"fill: #262626\" transform=\"translate(40.933438 328.587821) scale(0.1 -0.1)\">\n       <use xlink:href=\"#DejaVuSerif-30\"/>\n      </g>\n     </g>\n    </g>\n    <g id=\"ytick_2\">\n     <g id=\"line2d_17\">\n      <path d=\"M 54.295938 285.809886 \nL 612.295938 285.809886 \n\" clip-path=\"url(#pd6288ad786)\" style=\"fill: none; stroke: #ffffff; stroke-linecap: round\"/>\n     </g>\n     <g id=\"line2d_18\"/>\n     <g id=\"text_10\">\n      <!-- 250 -->\n      <g style=\"fill: #262626\" transform=\"translate(28.208438 289.609105) scale(0.1 -0.1)\">\n       <use xlink:href=\"#DejaVuSerif-32\"/>\n       <use xlink:href=\"#DejaVuSerif-35\" x=\"63.623047\"/>\n       <use xlink:href=\"#DejaVuSerif-30\" x=\"127.246094\"/>\n      </g>\n     </g>\n    </g>\n    <g id=\"ytick_3\">\n     <g id=\"line2d_19\">\n      <path d=\"M 54.295938 246.83117 \nL 612.295938 246.83117 \n\" clip-path=\"url(#pd6288ad786)\" style=\"fill: none; stroke: #ffffff; stroke-linecap: round\"/>\n     </g>\n     <g id=\"line2d_20\"/>\n     <g id=\"text_11\">\n      <!-- 500 -->\n      <g style=\"fill: #262626\" transform=\"translate(28.208438 250.630389) scale(0.1 -0.1)\">\n       <use xlink:href=\"#DejaVuSerif-35\"/>\n       <use xlink:href=\"#DejaVuSerif-30\" x=\"63.623047\"/>\n       <use xlink:href=\"#DejaVuSerif-30\" x=\"127.246094\"/>\n      </g>\n     </g>\n    </g>\n    <g id=\"ytick_4\">\n     <g id=\"line2d_21\">\n      <path d=\"M 54.295938 207.852453 \nL 612.295938 207.852453 \n\" clip-path=\"url(#pd6288ad786)\" style=\"fill: none; stroke: #ffffff; stroke-linecap: round\"/>\n     </g>\n     <g id=\"line2d_22\"/>\n     <g id=\"text_12\">\n      <!-- 750 -->\n      <g style=\"fill: #262626\" transform=\"translate(28.208438 211.651672) scale(0.1 -0.1)\">\n       <defs>\n        <path id=\"DejaVuSerif-37\" d=\"M 3609 4347 \nL 1784 0 \nL 1319 0 \nL 3059 4153 \nL 903 4153 \nL 903 3578 \nL 538 3578 \nL 538 4666 \nL 3609 4666 \nL 3609 4347 \nz\n\" transform=\"scale(0.015625)\"/>\n       </defs>\n       <use xlink:href=\"#DejaVuSerif-37\"/>\n       <use xlink:href=\"#DejaVuSerif-35\" x=\"63.623047\"/>\n       <use xlink:href=\"#DejaVuSerif-30\" x=\"127.246094\"/>\n      </g>\n     </g>\n    </g>\n    <g id=\"ytick_5\">\n     <g id=\"line2d_23\">\n      <path d=\"M 54.295938 168.873737 \nL 612.295938 168.873737 \n\" clip-path=\"url(#pd6288ad786)\" style=\"fill: none; stroke: #ffffff; stroke-linecap: round\"/>\n     </g>\n     <g id=\"line2d_24\"/>\n     <g id=\"text_13\">\n      <!-- 1000 -->\n      <g style=\"fill: #262626\" transform=\"translate(21.845938 172.672956) scale(0.1 -0.1)\">\n       <use xlink:href=\"#DejaVuSerif-31\"/>\n       <use xlink:href=\"#DejaVuSerif-30\" x=\"63.623047\"/>\n       <use xlink:href=\"#DejaVuSerif-30\" x=\"127.246094\"/>\n       <use xlink:href=\"#DejaVuSerif-30\" x=\"190.869141\"/>\n      </g>\n     </g>\n    </g>\n    <g id=\"ytick_6\">\n     <g id=\"line2d_25\">\n      <path d=\"M 54.295938 129.895021 \nL 612.295938 129.895021 \n\" clip-path=\"url(#pd6288ad786)\" style=\"fill: none; stroke: #ffffff; stroke-linecap: round\"/>\n     </g>\n     <g id=\"line2d_26\"/>\n     <g id=\"text_14\">\n      <!-- 1250 -->\n      <g style=\"fill: #262626\" transform=\"translate(21.845938 133.694239) scale(0.1 -0.1)\">\n       <use xlink:href=\"#DejaVuSerif-31\"/>\n       <use xlink:href=\"#DejaVuSerif-32\" x=\"63.623047\"/>\n       <use xlink:href=\"#DejaVuSerif-35\" x=\"127.246094\"/>\n       <use xlink:href=\"#DejaVuSerif-30\" x=\"190.869141\"/>\n      </g>\n     </g>\n    </g>\n    <g id=\"ytick_7\">\n     <g id=\"line2d_27\">\n      <path d=\"M 54.295938 90.916304 \nL 612.295938 90.916304 \n\" clip-path=\"url(#pd6288ad786)\" style=\"fill: none; stroke: #ffffff; stroke-linecap: round\"/>\n     </g>\n     <g id=\"line2d_28\"/>\n     <g id=\"text_15\">\n      <!-- 1500 -->\n      <g style=\"fill: #262626\" transform=\"translate(21.845938 94.715523) scale(0.1 -0.1)\">\n       <use xlink:href=\"#DejaVuSerif-31\"/>\n       <use xlink:href=\"#DejaVuSerif-35\" x=\"63.623047\"/>\n       <use xlink:href=\"#DejaVuSerif-30\" x=\"127.246094\"/>\n       <use xlink:href=\"#DejaVuSerif-30\" x=\"190.869141\"/>\n      </g>\n     </g>\n    </g>\n    <g id=\"ytick_8\">\n     <g id=\"line2d_29\">\n      <path d=\"M 54.295938 51.937588 \nL 612.295938 51.937588 \n\" clip-path=\"url(#pd6288ad786)\" style=\"fill: none; stroke: #ffffff; stroke-linecap: round\"/>\n     </g>\n     <g id=\"line2d_30\"/>\n     <g id=\"text_16\">\n      <!-- 1750 -->\n      <g style=\"fill: #262626\" transform=\"translate(21.845938 55.736807) scale(0.1 -0.1)\">\n       <use xlink:href=\"#DejaVuSerif-31\"/>\n       <use xlink:href=\"#DejaVuSerif-37\" x=\"63.623047\"/>\n       <use xlink:href=\"#DejaVuSerif-35\" x=\"127.246094\"/>\n       <use xlink:href=\"#DejaVuSerif-30\" x=\"190.869141\"/>\n      </g>\n     </g>\n    </g>\n    <g id=\"ytick_9\">\n     <g id=\"line2d_31\">\n      <path d=\"M 54.295938 12.958871 \nL 612.295938 12.958871 \n\" clip-path=\"url(#pd6288ad786)\" style=\"fill: none; stroke: #ffffff; stroke-linecap: round\"/>\n     </g>\n     <g id=\"line2d_32\"/>\n     <g id=\"text_17\">\n      <!-- 2000 -->\n      <g style=\"fill: #262626\" transform=\"translate(21.845938 16.75809) scale(0.1 -0.1)\">\n       <use xlink:href=\"#DejaVuSerif-32\"/>\n       <use xlink:href=\"#DejaVuSerif-30\" x=\"63.623047\"/>\n       <use xlink:href=\"#DejaVuSerif-30\" x=\"127.246094\"/>\n       <use xlink:href=\"#DejaVuSerif-30\" x=\"190.869141\"/>\n      </g>\n     </g>\n    </g>\n    <g id=\"text_18\">\n     <!-- total reward -->\n     <g style=\"fill: #262626\" transform=\"translate(15.558281 208.059141) rotate(-90) scale(0.11 -0.11)\">\n      <defs>\n       <path id=\"DejaVuSerif-74\" d=\"M 691 2988 \nL 184 2988 \nL 184 3322 \nL 691 3322 \nL 691 4353 \nL 1269 4353 \nL 1269 3322 \nL 2350 3322 \nL 2350 2988 \nL 1269 2988 \nL 1269 878 \nQ 1269 456 1350 337 \nQ 1431 219 1650 219 \nQ 1875 219 1978 351 \nQ 2081 484 2088 781 \nL 2522 781 \nQ 2497 328 2275 118 \nQ 2053 -91 1600 -91 \nQ 1103 -91 897 129 \nQ 691 350 691 878 \nL 691 2988 \nz\n\" transform=\"scale(0.015625)\"/>\n       <path id=\"DejaVuSerif-61\" d=\"M 2547 1044 \nL 2547 1747 \nL 1806 1747 \nQ 1378 1747 1168 1562 \nQ 959 1378 959 997 \nQ 959 650 1171 447 \nQ 1384 244 1747 244 \nQ 2106 244 2326 466 \nQ 2547 688 2547 1044 \nz\nM 3122 2075 \nL 3122 331 \nL 3634 331 \nL 3634 0 \nL 2547 0 \nL 2547 359 \nQ 2356 128 2106 18 \nQ 1856 -91 1522 -91 \nQ 969 -91 644 203 \nQ 319 497 319 997 \nQ 319 1513 691 1797 \nQ 1063 2081 1741 2081 \nL 2547 2081 \nL 2547 2309 \nQ 2547 2688 2317 2895 \nQ 2088 3103 1672 3103 \nQ 1328 3103 1125 2947 \nQ 922 2791 872 2484 \nL 575 2484 \nL 575 3156 \nQ 875 3284 1158 3348 \nQ 1441 3413 1709 3413 \nQ 2400 3413 2761 3070 \nQ 3122 2728 3122 2075 \nz\n\" transform=\"scale(0.015625)\"/>\n       <path id=\"DejaVuSerif-6c\" d=\"M 1313 331 \nL 1856 331 \nL 1856 0 \nL 184 0 \nL 184 331 \nL 738 331 \nL 738 4531 \nL 184 4531 \nL 184 4863 \nL 1313 4863 \nL 1313 331 \nz\n\" transform=\"scale(0.015625)\"/>\n       <path id=\"DejaVuSerif-20\" transform=\"scale(0.015625)\"/>\n       <path id=\"DejaVuSerif-72\" d=\"M 3059 3328 \nL 3059 2497 \nL 2728 2497 \nQ 2713 2744 2591 2866 \nQ 2469 2988 2234 2988 \nQ 1809 2988 1582 2694 \nQ 1356 2400 1356 1850 \nL 1356 331 \nL 2022 331 \nL 2022 0 \nL 263 0 \nL 263 331 \nL 781 331 \nL 781 2994 \nL 231 2994 \nL 231 3322 \nL 1356 3322 \nL 1356 2731 \nQ 1525 3078 1790 3245 \nQ 2056 3413 2438 3413 \nQ 2578 3413 2733 3391 \nQ 2888 3369 3059 3328 \nz\n\" transform=\"scale(0.015625)\"/>\n       <path id=\"DejaVuSerif-77\" d=\"M 3072 3322 \nL 3922 728 \nL 4672 2988 \nL 4191 2988 \nL 4191 3322 \nL 5394 3322 \nL 5394 2988 \nL 5025 2988 \nL 4038 0 \nL 3559 0 \nL 2741 2484 \nL 1919 0 \nL 1459 0 \nL 475 2988 \nL 103 2988 \nL 103 3322 \nL 1606 3322 \nL 1606 2988 \nL 1069 2988 \nL 1813 728 \nL 2669 3322 \nL 3072 3322 \nz\n\" transform=\"scale(0.015625)\"/>\n      </defs>\n      <use xlink:href=\"#DejaVuSerif-74\"/>\n      <use xlink:href=\"#DejaVuSerif-6f\" x=\"40.185547\"/>\n      <use xlink:href=\"#DejaVuSerif-74\" x=\"100.390625\"/>\n      <use xlink:href=\"#DejaVuSerif-61\" x=\"140.576172\"/>\n      <use xlink:href=\"#DejaVuSerif-6c\" x=\"200.195312\"/>\n      <use xlink:href=\"#DejaVuSerif-20\" x=\"232.177734\"/>\n      <use xlink:href=\"#DejaVuSerif-72\" x=\"263.964844\"/>\n      <use xlink:href=\"#DejaVuSerif-65\" x=\"311.767578\"/>\n      <use xlink:href=\"#DejaVuSerif-77\" x=\"370.947266\"/>\n      <use xlink:href=\"#DejaVuSerif-61\" x=\"456.542969\"/>\n      <use xlink:href=\"#DejaVuSerif-72\" x=\"516.162109\"/>\n      <use xlink:href=\"#DejaVuSerif-64\" x=\"563.964844\"/>\n     </g>\n    </g>\n   </g>\n   <g id=\"line2d_33\">\n    <path d=\"M 79.659574 324.72 \nL 89.83896 324.164943 \nL 91.535524 308.504854 \nL 96.625217 308.286573 \nL 101.71491 261.306306 \nL 103.411474 261.22523 \nL 105.108038 260.98824 \nL 106.804603 260.9134 \nL 108.501167 245.253311 \nL 120.377117 244.679545 \nL 122.073681 244.349005 \nL 125.46681 213.190978 \nL 127.163374 212.860439 \nL 128.859939 211.207741 \nL 130.556503 211.170322 \nL 132.253067 211.270107 \nL 133.949632 226.855357 \nL 137.34276 226.587184 \nL 139.039325 226.587184 \nL 144.129017 273.168309 \nL 145.825582 273.174545 \nL 147.522146 271.765075 \nL 149.21871 271.128942 \nL 150.915275 284.737192 \nL 152.611839 284.687299 \nL 157.701532 237.962732 \nL 159.398096 237.744451 \nL 161.094661 237.731978 \nL 162.791225 222.165438 \nL 164.487789 220.799624 \nL 166.184353 236.39111 \nL 167.880918 236.39111 \nL 169.577482 221.130163 \nL 171.274046 222.732968 \nL 176.363739 222.708022 \nL 181.453432 176.214209 \nL 183.149996 176.226682 \nL 186.543125 145.22457 \nL 188.239689 145.218334 \nL 189.936254 146.796192 \nL 191.632818 147.058129 \nL 193.329382 149.01642 \nL 195.025947 149.066312 \nL 196.722511 163.422953 \nL 200.11564 194.593453 \nL 201.812204 194.805497 \nL 203.508768 194.830444 \nL 205.205332 210.42193 \nL 206.901897 212.112048 \nL 208.598461 212.087101 \nL 211.99159 243.263838 \nL 213.688154 241.498881 \nL 217.081283 241.511355 \nL 218.777847 225.969761 \nL 220.474411 241.561247 \nL 222.170976 241.561247 \nL 223.86754 257.134024 \nL 225.564104 255.911652 \nL 227.260668 269.482481 \nL 228.957233 269.482481 \nL 230.653797 253.903468 \nL 232.350361 253.853575 \nL 234.046926 238.642521 \nL 235.74349 238.548972 \nL 237.440054 222.957486 \nL 239.136619 208.600845 \nL 240.833183 208.607081 \nL 242.529747 193.015595 \nL 244.226311 193.028068 \nL 245.922876 192.909573 \nL 254.405697 114.989559 \nL 256.102262 101.212922 \nL 257.798826 101.212922 \nL 259.49539 85.646382 \nL 261.191955 101.212922 \nL 262.888519 85.621435 \nL 264.585083 85.621435 \nL 266.281647 70.048659 \nL 267.978212 55.679545 \nL 269.674776 57.650309 \nL 271.37134 73.204376 \nL 276.461033 73.241795 \nL 279.854162 73.347817 \nL 286.640419 73.329107 \nL 288.336983 72.880073 \nL 293.426676 72.880073 \nL 295.123241 88.446613 \nL 296.819805 88.446613 \nL 298.516369 103.632721 \nL 300.212934 103.445623 \nL 303.606062 103.43315 \nL 308.695755 149.166098 \nL 313.785448 149.234701 \nL 315.482012 164.813714 \nL 317.178577 164.801241 \nL 318.875141 180.380254 \nL 320.571705 180.392727 \nL 322.26827 195.959267 \nL 325.661398 195.959267 \nL 327.357962 210.209886 \nL 330.751091 210.122574 \nL 332.447655 225.109111 \nL 335.840784 225.109111 \nL 337.537348 209.542571 \nL 339.233913 209.542571 \nL 340.930477 209.236977 \nL 342.627041 193.832589 \nL 344.323605 193.832589 \nL 346.02017 178.278522 \nL 347.716734 178.15379 \nL 349.413298 163.572632 \nL 351.109863 163.229619 \nL 356.199556 163.161016 \nL 357.89612 162.84295 \nL 359.592684 162.082085 \nL 361.289249 146.503072 \nL 362.985813 144.850375 \nL 364.682377 144.101983 \nL 366.378941 144.101983 \nL 368.075506 143.709078 \nL 369.77207 144.513598 \nL 371.468634 144.513598 \nL 373.165199 143.21015 \nL 374.861763 143.790153 \nL 379.951456 190.51472 \nL 381.64802 204.12297 \nL 383.344585 189.242455 \nL 385.041149 204.833942 \nL 386.737713 204.833942 \nL 388.434277 220.412955 \nL 390.130842 220.518977 \nL 391.827406 236.09799 \nL 393.52397 236.397347 \nL 396.917099 236.39111 \nL 398.613663 235.174974 \nL 400.310228 235.493041 \nL 402.006792 236.228959 \nL 403.703356 251.820445 \nL 405.39992 253.448197 \nL 407.096485 254.215298 \nL 408.793049 269.800548 \nL 410.489613 269.862914 \nL 412.186178 270.386788 \nL 413.882742 254.795301 \nL 415.579306 241.162105 \nL 417.275871 225.595565 \nL 418.972435 225.620511 \nL 422.365564 194.462485 \nL 424.062128 180.854235 \nL 425.758692 196.445722 \nL 427.455256 196.327227 \nL 429.151821 211.90624 \nL 430.848385 211.850111 \nL 434.241514 180.704557 \nL 435.938078 179.737885 \nL 437.634642 179.737885 \nL 439.331207 164.158871 \nL 441.027771 149.864597 \nL 446.117464 103.152503 \nL 447.814028 101.562171 \nL 454.600285 39.576657 \nL 459.689978 39.576657 \nL 461.386543 23.985171 \nL 463.083107 38.341812 \nL 464.779671 53.883405 \nL 466.476235 53.883405 \nL 468.1728 53.372005 \nL 471.565928 22.32 \nL 473.262493 22.376129 \nL 476.655621 53.241036 \nL 478.352186 54.263838 \nL 483.441879 54.263838 \nL 486.835007 84.922937 \nL 488.531571 84.922937 \nL 490.228136 70.946728 \nL 491.9247 86.488322 \nL 493.621264 86.488322 \nL 495.317829 100.726468 \nL 502.104086 100.726468 \nL 503.80065 115.925049 \nL 505.497214 101.568408 \nL 507.193779 86.026814 \nL 508.890343 99.95313 \nL 510.586907 98.269249 \nL 513.980036 127.874364 \nL 515.6766 127.599954 \nL 517.373165 126.882745 \nL 520.766293 95.949236 \nL 522.462858 110.742439 \nL 524.159422 124.088751 \nL 525.855986 138.788405 \nL 527.55255 138.015067 \nL 529.249115 122.922508 \nL 532.642243 122.922508 \nL 534.338808 121.843577 \nL 536.035372 137.291622 \nL 537.731936 136.861297 \nL 539.428501 136.861297 \nL 541.125065 150.600515 \nL 542.821629 150.600515 \nL 544.518194 166.167055 \nL 546.214758 150.968474 \nL 547.911322 150.968474 \nL 549.607886 166.55996 \nL 553.001015 139.237439 \nL 556.394144 140.752932 \nL 558.090708 140.958739 \nL 559.787272 141.757024 \nL 563.180401 141.757024 \nL 564.876965 142.530361 \nL 566.573529 129.184049 \nL 569.966658 99.691193 \nL 571.663222 112.575997 \nL 573.359787 112.575997 \nL 575.056351 128.142538 \nL 576.752915 129.221468 \nL 578.44948 113.773424 \nL 580.146044 115.55709 \nL 581.842608 131.148576 \nL 583.539173 132.975898 \nL 585.235737 148.554912 \nL 586.932301 148.529965 \nL 586.932301 148.529965 \n\" clip-path=\"url(#pd6288ad786)\" style=\"fill: none; stroke: #4c72b0; stroke-width: 1.75; stroke-linecap: round\"/>\n   </g>\n   <g id=\"line2d_34\">\n    <path d=\"M 79.659574 307.411088 \nL 86.445831 298.369619 \nL 93.232088 289.690733 \nL 100.018346 281.366526 \nL 106.804603 273.389096 \nL 113.59086 265.750539 \nL 120.377117 258.442953 \nL 127.163374 251.458436 \nL 133.949632 244.789084 \nL 140.735889 238.426994 \nL 147.522146 232.364264 \nL 154.308403 226.592991 \nL 161.094661 221.105272 \nL 167.880918 215.893205 \nL 174.667175 210.948885 \nL 181.453432 206.264411 \nL 188.239689 201.83188 \nL 195.025947 197.643389 \nL 201.812204 193.691036 \nL 208.598461 189.966916 \nL 215.384718 186.463128 \nL 222.170976 183.171769 \nL 228.957233 180.084935 \nL 237.440054 176.501969 \nL 245.922876 173.21079 \nL 254.405697 170.195965 \nL 262.888519 167.442058 \nL 271.37134 164.933633 \nL 279.854162 162.655256 \nL 288.336983 160.591492 \nL 296.819805 158.726905 \nL 306.999191 156.730581 \nL 317.178577 154.972174 \nL 327.357962 153.425011 \nL 339.233913 151.851394 \nL 352.806427 150.306264 \nL 368.075506 148.815365 \nL 388.434277 147.084536 \nL 429.151821 143.703988 \nL 444.420899 142.189108 \nL 457.993414 140.614609 \nL 469.869364 139.009078 \nL 480.04875 137.429941 \nL 490.228136 135.635296 \nL 500.407522 133.598472 \nL 508.890343 131.696878 \nL 517.373165 129.593146 \nL 525.855986 127.271841 \nL 534.338808 124.717528 \nL 542.821629 121.914771 \nL 551.304451 118.848136 \nL 559.787272 115.502187 \nL 566.573529 112.61395 \nL 573.359787 109.529171 \nL 580.146044 106.239946 \nL 586.932301 102.738374 \nL 586.932301 102.738374 \n\" clip-path=\"url(#pd6288ad786)\" style=\"fill: none; stroke-dasharray: 6.475,2.8; stroke-dashoffset: 0; stroke: #ff0000; stroke-width: 1.75\"/>\n   </g>\n   <g id=\"patch_3\">\n    <path d=\"M 54.295938 339.84 \nL 54.295938 7.2 \n\" style=\"fill: none\"/>\n   </g>\n   <g id=\"patch_4\">\n    <path d=\"M 612.295938 339.84 \nL 612.295938 7.2 \n\" style=\"fill: none\"/>\n   </g>\n   <g id=\"patch_5\">\n    <path d=\"M 54.295938 339.84 \nL 612.295938 339.84 \n\" style=\"fill: none\"/>\n   </g>\n   <g id=\"patch_6\">\n    <path d=\"M 54.295938 7.2 \nL 612.295938 7.2 \n\" style=\"fill: none\"/>\n   </g>\n   <g id=\"legend_1\">\n    <g id=\"line2d_35\">\n     <path d=\"M 494.330312 20.298437 \nL 504.330312 20.298437 \nL 514.330312 20.298437 \n\" style=\"fill: none; stroke: #4c72b0; stroke-width: 1.75; stroke-linecap: round\"/>\n    </g>\n    <g id=\"text_19\">\n     <!-- moving average -->\n     <g style=\"fill: #262626\" transform=\"translate(522.330312 23.798437) scale(0.1 -0.1)\">\n      <defs>\n       <path id=\"DejaVuSerif-6d\" d=\"M 3316 2675 \nQ 3481 3041 3739 3227 \nQ 3997 3413 4341 3413 \nQ 4863 3413 5119 3089 \nQ 5375 2766 5375 2113 \nL 5375 331 \nL 5894 331 \nL 5894 0 \nL 4300 0 \nL 4300 331 \nL 4800 331 \nL 4800 2047 \nQ 4800 2556 4650 2772 \nQ 4500 2988 4153 2988 \nQ 3769 2988 3567 2697 \nQ 3366 2406 3366 1850 \nL 3366 331 \nL 3866 331 \nL 3866 0 \nL 2291 0 \nL 2291 331 \nL 2791 331 \nL 2791 2069 \nQ 2791 2566 2641 2777 \nQ 2491 2988 2144 2988 \nQ 1759 2988 1557 2697 \nQ 1356 2406 1356 1850 \nL 1356 331 \nL 1856 331 \nL 1856 0 \nL 263 0 \nL 263 331 \nL 781 331 \nL 781 2994 \nL 231 2994 \nL 231 3322 \nL 1356 3322 \nL 1356 2731 \nQ 1516 3063 1762 3238 \nQ 2009 3413 2322 3413 \nQ 2709 3413 2968 3220 \nQ 3228 3028 3316 2675 \nz\n\" transform=\"scale(0.015625)\"/>\n       <path id=\"DejaVuSerif-76\" d=\"M 1581 0 \nL 359 2988 \nL -19 2988 \nL -19 3322 \nL 1509 3322 \nL 1509 2988 \nL 978 2988 \nL 1913 703 \nL 2847 2988 \nL 2350 2988 \nL 2350 3322 \nL 3597 3322 \nL 3597 2988 \nL 3225 2988 \nL 2003 0 \nL 1581 0 \nz\n\" transform=\"scale(0.015625)\"/>\n       <path id=\"DejaVuSerif-6e\" d=\"M 263 0 \nL 263 331 \nL 781 331 \nL 781 2988 \nL 231 2988 \nL 231 3322 \nL 1356 3322 \nL 1356 2731 \nQ 1516 3069 1770 3241 \nQ 2025 3413 2363 3413 \nQ 2913 3413 3172 3097 \nQ 3431 2781 3431 2113 \nL 3431 331 \nL 3944 331 \nL 3944 0 \nL 2356 0 \nL 2356 331 \nL 2853 331 \nL 2853 1931 \nQ 2853 2541 2703 2767 \nQ 2553 2994 2175 2994 \nQ 1775 2994 1565 2701 \nQ 1356 2409 1356 1850 \nL 1356 331 \nL 1856 331 \nL 1856 0 \nL 263 0 \nz\n\" transform=\"scale(0.015625)\"/>\n       <path id=\"DejaVuSerif-67\" d=\"M 3359 2988 \nL 3359 72 \nQ 3359 -644 2965 -1033 \nQ 2572 -1422 1844 -1422 \nQ 1516 -1422 1216 -1362 \nQ 916 -1303 641 -1184 \nL 641 -488 \nL 941 -488 \nQ 997 -813 1206 -963 \nQ 1416 -1113 1806 -1113 \nQ 2313 -1113 2548 -827 \nQ 2784 -541 2784 72 \nL 2784 519 \nQ 2616 206 2355 57 \nQ 2094 -91 1709 -91 \nQ 1097 -91 708 395 \nQ 319 881 319 1663 \nQ 319 2444 706 2928 \nQ 1094 3413 1709 3413 \nQ 2094 3413 2355 3264 \nQ 2616 3116 2784 2803 \nL 2784 3322 \nL 3909 3322 \nL 3909 2988 \nL 3359 2988 \nz\nM 2784 1825 \nQ 2784 2422 2554 2737 \nQ 2325 3053 1888 3053 \nQ 1444 3053 1217 2703 \nQ 991 2353 991 1663 \nQ 991 975 1217 622 \nQ 1444 269 1888 269 \nQ 2325 269 2554 583 \nQ 2784 897 2784 1497 \nL 2784 1825 \nz\n\" transform=\"scale(0.015625)\"/>\n      </defs>\n      <use xlink:href=\"#DejaVuSerif-6d\"/>\n      <use xlink:href=\"#DejaVuSerif-6f\" x=\"94.824219\"/>\n      <use xlink:href=\"#DejaVuSerif-76\" x=\"155.029297\"/>\n      <use xlink:href=\"#DejaVuSerif-69\" x=\"211.523438\"/>\n      <use xlink:href=\"#DejaVuSerif-6e\" x=\"243.505859\"/>\n      <use xlink:href=\"#DejaVuSerif-67\" x=\"307.910156\"/>\n      <use xlink:href=\"#DejaVuSerif-20\" x=\"371.923828\"/>\n      <use xlink:href=\"#DejaVuSerif-61\" x=\"403.710938\"/>\n      <use xlink:href=\"#DejaVuSerif-76\" x=\"463.330078\"/>\n      <use xlink:href=\"#DejaVuSerif-65\" x=\"519.824219\"/>\n      <use xlink:href=\"#DejaVuSerif-72\" x=\"579.003906\"/>\n      <use xlink:href=\"#DejaVuSerif-61\" x=\"626.806641\"/>\n      <use xlink:href=\"#DejaVuSerif-67\" x=\"686.425781\"/>\n      <use xlink:href=\"#DejaVuSerif-65\" x=\"750.439453\"/>\n     </g>\n    </g>\n    <g id=\"line2d_36\">\n     <path d=\"M 494.330312 35.11875 \nL 504.330312 35.11875 \nL 514.330312 35.11875 \n\" style=\"fill: none; stroke-dasharray: 6.475,2.8; stroke-dashoffset: 0; stroke: #ff0000; stroke-width: 1.75\"/>\n    </g>\n    <g id=\"text_20\">\n     <!-- regression -->\n     <g style=\"fill: #262626\" transform=\"translate(522.330312 38.61875) scale(0.1 -0.1)\">\n      <use xlink:href=\"#DejaVuSerif-72\"/>\n      <use xlink:href=\"#DejaVuSerif-65\" x=\"47.802734\"/>\n      <use xlink:href=\"#DejaVuSerif-67\" x=\"106.982422\"/>\n      <use xlink:href=\"#DejaVuSerif-72\" x=\"170.996094\"/>\n      <use xlink:href=\"#DejaVuSerif-65\" x=\"218.798828\"/>\n      <use xlink:href=\"#DejaVuSerif-73\" x=\"277.978516\"/>\n      <use xlink:href=\"#DejaVuSerif-73\" x=\"329.296875\"/>\n      <use xlink:href=\"#DejaVuSerif-69\" x=\"380.615234\"/>\n      <use xlink:href=\"#DejaVuSerif-6f\" x=\"412.597656\"/>\n      <use xlink:href=\"#DejaVuSerif-6e\" x=\"472.802734\"/>\n     </g>\n    </g>\n   </g>\n  </g>\n </g>\n <defs>\n  <clipPath id=\"pd6288ad786\">\n   <rect x=\"54.295938\" y=\"7.2\" width=\"558\" height=\"332.64\"/>\n  </clipPath>\n </defs>\n</svg>\n"
          },
          "metadata": {}
        }
      ]
    }
  ]
}